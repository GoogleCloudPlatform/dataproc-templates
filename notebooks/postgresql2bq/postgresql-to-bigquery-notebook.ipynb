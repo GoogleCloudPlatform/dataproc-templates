{
 "cells": [
  {
   "cell_type": "markdown",
   "id": "e5876b8a-4fc8-43d5-93f6-fbd19fb2c433",
   "metadata": {
    "pycharm": {
     "name": "#%% md\n"
    }
   },
   "source": [
    "# PostgreSQL to BigQuery Migration"
   ]
  },
  {
   "cell_type": "code",
   "execution_count": 1,
   "id": "f9a9e6d2-f721-48cc-a6a7-01787aa9362c",
   "metadata": {
    "pycharm": {
     "name": "#%%\n"
    }
   },
   "outputs": [],
   "source": [
    "# Copyright 2022 Google LLC\n",
    "#\n",
    "# Licensed under the Apache License, Version 2.0 (the \"License\");\n",
    "# you may not use this file except in compliance with the License.\n",
    "# You may obtain a copy of the License at\n",
    "#\n",
    "#     https://www.apache.org/licenses/LICENSE-2.0\n",
    "#\n",
    "# Unless required by applicable law or agreed to in writing, software\n",
    "# distributed under the License is distributed on an \"AS IS\" BASIS,\n",
    "# WITHOUT WARRANTIES OR CONDITIONS OF ANY KIND, either express or implied.\n",
    "# See the License for the specific language governing permissions and\n",
    "# limitations under the License."
   ]
  },
  {
   "cell_type": "markdown",
   "id": "79b8102d-df42-448a-9df4-35ae6b8fae07",
   "metadata": {
    "pycharm": {
     "name": "#%% md\n"
    }
   },
   "source": [
    "## References\n",
    "* [DataprocPySparkBatchOp reference](https://google-cloud-pipeline-components.readthedocs.io/en/google-cloud-pipeline-components-1.0.0/google_cloud_pipeline_components.experimental.dataproc.html) \n",
    "* [Kubeflow SDK Overview](https://www.kubeflow.org/docs/components/pipelines/sdk/sdk-overview/)\n",
    "* [Dataproc Serverless in Vertex AI Pipelines tutorial](https://github.com/GoogleCloudPlatform/vertex-ai-samples/blob/main/notebooks/community/ml_ops/stage3/get_started_with_dataproc_serverless_pipeline_components.ipynb)\n",
    "* [Build a Vertex AI Pipeline](https://cloud.google.com/vertex-ai/docs/pipelines/build-pipeline)\n",
    "\n",
    "This notebook is built to run a Vertex AI User-Managed Notebook using the default Compute Engine Service Account. Check the Dataproc Serverless in Vertex AI Pipelines tutorial linked above to learn how to setup a different Service Account.\n",
    "\n",
    "## Permissions\n",
    "Make sure that the service account used to run the notebook has the following roles:\n",
    "\n",
    "* roles/aiplatform.serviceAgent\n",
    "* roles/aiplatform.customCodeServiceAgent\n",
    "* roles/storage.objectCreator\n",
    "* roles/storage.objectViewer\n",
    "* roles/dataproc.editor\n",
    "* roles/dataproc.worker"
   ]
  },
  {
   "cell_type": "markdown",
   "id": "5e06a8de-c8b0-4ada-81c7-54606c0afdb9",
   "metadata": {
    "pycharm": {
     "name": "#%% md\n"
    }
   },
   "source": [
    "# Step 1: Install Libraries\n",
    "<div class=\"alert alert-block alert-info\">\n",
    "<b>NOTE: </b>Run Step 1 one time for each new notebook instance</div"
   ]
  },
  {
   "cell_type": "code",
   "execution_count": 2,
   "id": "258dae17-19f2-410a-8cc9-f5980ccc30f4",
   "metadata": {
    "pycharm": {
     "name": "#%%\n"
    }
   },
   "outputs": [
    {
     "name": "stdout",
     "output_type": "stream",
     "text": [
      "Requirement already satisfied: SQLAlchemy in /opt/conda/lib/python3.7/site-packages (2.0.9)\n",
      "Requirement already satisfied: typing-extensions>=4.2.0 in /opt/conda/lib/python3.7/site-packages (from SQLAlchemy) (4.5.0)\n",
      "Requirement already satisfied: greenlet!=0.4.17 in /opt/conda/lib/python3.7/site-packages (from SQLAlchemy) (2.0.2)\n",
      "Requirement already satisfied: importlib-metadata in /opt/conda/lib/python3.7/site-packages (from SQLAlchemy) (4.11.4)\n",
      "Requirement already satisfied: zipp>=0.5 in /opt/conda/lib/python3.7/site-packages (from importlib-metadata->SQLAlchemy) (3.15.0)\n",
      "Requirement already satisfied: psycopg2-binary in /opt/conda/lib/python3.7/site-packages (2.9.6)\n"
     ]
    }
   ],
   "source": [
    "!pip3 install SQLAlchemy\n",
    "!pip3 install --upgrade google-cloud-pipeline-components kfp --user -q\n",
    "!pip3 install psycopg2-binary"
   ]
  },
  {
   "cell_type": "code",
   "execution_count": 3,
   "id": "0bedd295-09d0-48f1-b7c9-57d87b178502",
   "metadata": {},
   "outputs": [
    {
     "name": "stdout",
     "output_type": "stream",
     "text": [
      "Get:1 http://security.debian.org/debian-security buster/updates InRelease [34.8 kB]\n",
      "Hit:2 http://packages.cloud.google.com/apt gcsfuse-buster InRelease\n",
      "Hit:3 http://deb.debian.org/debian buster InRelease                            \n",
      "Hit:4 http://deb.debian.org/debian buster-updates InRelease                    \n",
      "Hit:5 http://packages.cloud.google.com/apt google-compute-engine-buster-stable InRelease\n",
      "Hit:6 http://deb.debian.org/debian buster-backports InRelease                  \n",
      "Hit:7 http://packages.cloud.google.com/apt cloud-sdk-buster InRelease          \n",
      "Hit:8 https://download.docker.com/linux/debian buster InRelease     \n",
      "Hit:9 https://packages.cloud.google.com/apt kubernetes-xenial InRelease\n",
      "Get:10 http://security.debian.org/debian-security buster/updates/main Sources [349 kB]\n",
      "Fetched 383 kB in 1s (383 kB/s)  \n",
      "Reading package lists... Done\n",
      "Reading package lists... Done\n",
      "Building dependency tree       \n",
      "Reading state information... Done\n",
      "default-jdk is already the newest version (2:1.11-71).\n",
      "0 upgraded, 0 newly installed, 0 to remove and 11 not upgraded.\n"
     ]
    }
   ],
   "source": [
    "!sudo apt-get update -y\n",
    "!sudo apt-get install default-jdk -y"
   ]
  },
  {
   "cell_type": "markdown",
   "id": "d5a7126d-fc9c-4f04-8031-cbd835f891c6",
   "metadata": {
    "pycharm": {
     "name": "#%% md\n"
    }
   },
   "source": [
    "### Once you've installed the additional packages, you may need to restart the notebook kernel so it can find the packages.\n",
    "\n",
    "Uncomment & Run this cell if you have installed anything from above commands"
   ]
  },
  {
   "cell_type": "code",
   "execution_count": 5,
   "id": "74245439-10f3-4631-b8cd-4c077318b737",
   "metadata": {
    "pycharm": {
     "name": "#%%\n"
    }
   },
   "outputs": [],
   "source": [
    "# import os\n",
    "# import IPython\n",
    "# if not os.getenv(\"IS_TESTING\"):\n",
    "#     app = IPython.Application.instance()\n",
    "#     app.kernel.do_shutdown(True)"
   ]
  },
  {
   "cell_type": "markdown",
   "id": "50fe84b1-eb32-4cc2-a4e2-f0bd98da5b90",
   "metadata": {
    "pycharm": {
     "name": "#%% md\n"
    }
   },
   "source": [
    "# Step 2: Import Libraries"
   ]
  },
  {
   "cell_type": "code",
   "execution_count": 6,
   "id": "9f225135-cfe5-4ddd-9659-ead437aa414c",
   "metadata": {
    "pycharm": {
     "name": "#%%\n"
    }
   },
   "outputs": [],
   "source": [
    "import google.cloud.aiplatform as aiplatform\n",
    "import sys, os\n",
    "from kfp import dsl\n",
    "from kfp.v2 import compiler\n",
    "from datetime import datetime\n",
    "import time\n",
    "import copy\n",
    "import json\n",
    "import pandas as pd\n",
    "from google_cloud_pipeline_components.experimental.dataproc import DataprocPySparkBatchOp\n",
    "import sqlalchemy\n",
    "from sqlalchemy import text\n",
    "import psycopg2\n",
    "import math\n",
    "from pathlib import Path"
   ]
  },
  {
   "cell_type": "markdown",
   "id": "af0cf264-6eef-441d-a0a4-0c7bdc3d5b96",
   "metadata": {
    "pycharm": {
     "name": "#%% md\n"
    }
   },
   "source": [
    "# Step 3: Assign Parameters\n",
    "\n",
    "## Step 3.1 Common Parameters\n",
    "\n",
    "PROJECT : GCP project-id\n",
    "\n",
    "REGION : GCP region\n",
    "\n",
    "GCS_STAGING_LOCATION : GCS staging location to be used for this notebook to store artifacts\n",
    "\n",
    "SUBNET : VPC subnet\n",
    "\n",
    "JARS : list of jars. For this notebook postgre connectora and postgres connectorjar is required in addition with the dataproc template\n",
    "\n",
    "MAX_PARALLELISM : Parameter for number of jobs to run in parallel default value is 5\n",
    "\n",
    "SERVICE_ACCOUNT: Custom service account email to use for vertex ai pipeline and dataproc job with above mentioned permissions\n",
    "\n",
    "POSTGRESQL_TO_BIGQUERY_JOBS : List of bigquery job IDs that will be created by Vertex AI pipelines to migrate data from source to BQ."
   ]
  },
  {
   "cell_type": "code",
   "execution_count": 7,
   "id": "fa46af62-62b2-4ad3-87e1-ff232f524e64",
   "metadata": {
    "tags": [
     "parameters"
    ]
   },
   "outputs": [],
   "source": [
    "IS_PARAMETERIZED = False"
   ]
  },
  {
   "cell_type": "code",
   "execution_count": 8,
   "id": "c1ad4f98-8924-4ab9-8a7a-948cd82d1d0d",
   "metadata": {
    "tags": []
   },
   "outputs": [],
   "source": [
    "if not IS_PARAMETERIZED:\n",
    "    GCP_PROJECT = \"\"\n",
    "    REGION = \"\" # eg: us-central1 (any valid GCP region)\n",
    "    GCS_STAGING_LOCATION = \"\" # eg: gs://my-staging-bucket/sub-folder\n",
    "    SUBNET = \"projects/{project}/regions/{region}/subnetworks/{subnet}\"\n",
    "    MAX_PARALLELISM = 5 # max number of tables which will migrated parallelly \n",
    "    SERVICE_ACCOUNT = \"\" \n",
    "    \n",
    "# Do not change this parameter unless you want to refer below JARS from new location\n",
    "JARS = [GCS_STAGING_LOCATION + \"/jars/postgresql-42.2.6.jar\", GCS_STAGING_LOCATION + \"/jars/spark-bigquery-with-dependencies_2.12-0.27.0.jar\"]\n"
   ]
  },
  {
   "cell_type": "code",
   "execution_count": 9,
   "id": "ee427d7c-edcb-46b2-a825-624db784aff0",
   "metadata": {
    "pycharm": {
     "name": "#%%\n"
    }
   },
   "outputs": [
    {
     "name": "stdout",
     "output_type": "stream",
     "text": [
      "Service Account:  617357862702-compute@developer.gserviceaccount.com\n"
     ]
    }
   ],
   "source": [
    "\n",
    "POSTGRESQL_TO_BIGQUERY_JOBS = []\n",
    "# If SERVICE_ACCOUNT is not specified it will take the one attached to Notebook\n",
    "if SERVICE_ACCOUNT == '':\n",
    "    shell_output = !gcloud auth list 2>/dev/null\n",
    "    SERVICE_ACCOUNT = shell_output[2].replace(\"*\", \"\").strip()\n",
    "    print(\"Service Account: \",SERVICE_ACCOUNT)\n",
    "    \n"
   ]
  },
  {
   "cell_type": "markdown",
   "id": "f129a976-154d-4627-aa08-6430eac9b3fc",
   "metadata": {
    "pycharm": {
     "name": "#%% md\n"
    }
   },
   "source": [
    "## Step 3.2 PostgreSQL Parameters\n",
    "\n",
    "POSTGRES_HOST : PostgreSQL instance ip address\n",
    "\n",
    "POSTGRES_PORT : PostgreSQL instance port\n",
    "\n",
    "POSTGRES_USERNAME : PostgreSQL username\n",
    "\n",
    "POSTGRES_PASSWORD : PostgreSQL password\n",
    "\n",
    "POSTGRES_DATABASE : name of database that you want to migrate\n",
    "\n",
    "POSTGRESQL_TABLE_LIST: leave list empty for migrating complete database else provide tables as ['dbo.table1','sys.table2']. If this parameter is not empty, leave POSTGRESQL_SCHEMA_LIST empty.\n",
    "\n",
    "POSTGRESQL_SCHEMA_LIST: leave list empty for migrating complete database else provide schema as ['schema1','schema2'] for migrating all tables in specific schemas. If this parameter is not empty, leave POSTGRESQL_TABLE_LIST empty.\n",
    "\n",
    "BIGQUERY_DATASET: name of the dataset to migrate\n",
    "\n",
    "BIGQUERY_MODE:  output write mode (Default: overwrite)"
   ]
  },
  {
   "cell_type": "code",
   "execution_count": 10,
   "id": "b25c6c38-df60-4ef6-a893-7bba3a6060fc",
   "metadata": {},
   "outputs": [],
   "source": [
    "if not IS_PARAMETERIZED:\n",
    "    POSTGRESQL_HOST = \"\"\n",
    "    POSTGRESQL_PORT = \"\"\n",
    "    POSTGRESQL_USERNAME = \"\"\n",
    "    POSTGRESQL_PASSWORD = \"\"\n",
    "    POSTGRESQL_DATABASE = \"\"\n",
    "    POSTGRESQL_TABLE_LIST = [] # leave list empty for migrating complete database else provide tables as ['table1','table2']\n",
    "    POSTGRESQL_SCHEMA_LIST = [] # leave list empty for migrating complete database else provide schema as ['schema1','schema2'] for migrating all tables in specific schemas. If this parameter is not empty, leave POSTGRESQL_TABLE_LIST empty.\n",
    "\n",
    "    BIGQUERY_DATASET = \"\"\n",
    "    BIGQUERY_MODE = \"\" "
   ]
  },
  {
   "cell_type": "markdown",
   "id": "73cd7d7f-b70e-4f09-8b7d-c96038cc892c",
   "metadata": {
    "pycharm": {
     "name": "#%% md\n"
    }
   },
   "source": [
    "# Step 3.3 Notebook Configuration Parameters\n",
    "\n",
    "<div class=\"alert alert-block alert-warning\">\n",
    "<b>NOTE: </b>Below variables should not be changed unless required</div>\n"
   ]
  },
  {
   "cell_type": "code",
   "execution_count": 12,
   "id": "6960dba0",
   "metadata": {
    "pycharm": {
     "name": "#%%\n"
    },
    "tags": []
   },
   "outputs": [
    {
     "name": "stdout",
     "output_type": "stream",
     "text": [
      "/home/jupyter/dataproc-templates/python\n"
     ]
    }
   ],
   "source": [
    "cur_path = Path(os.getcwd())\n",
    "\n",
    "if IS_PARAMETERIZED:\n",
    "    WORKING_DIRECTORY = os.path.join(cur_path.parent ,'python')\n",
    "else:\n",
    "    WORKING_DIRECTORY = os.path.join(cur_path.parent.parent ,'python')\n",
    "\n",
    "# If the above code doesn't fetches the correct path please\n",
    "# provide complete path to python folder in your dataproc \n",
    "# template repo which you cloned \n",
    "\n",
    "# WORKING_DIRECTORY = \"/home/jupyter/dataproc-templates/python/\"\n",
    "print(WORKING_DIRECTORY)"
   ]
  },
  {
   "cell_type": "code",
   "execution_count": 13,
   "id": "9f17741a-37e6-4657-bb3b-11b584270015",
   "metadata": {
    "pycharm": {
     "name": "#%%\n"
    }
   },
   "outputs": [],
   "source": [
    "PY_JDBC_DRIVER = \"postgresql+psycopg2\"\n",
    "JDBC_DRIVER = \"org.postgresql.Driver\"\n",
    "JDBC_URL=\"jdbc:postgresql://{0}:{1}/{2}?user={3}&password={4}&reWriteBatchedInserts=True\".format(POSTGRESQL_HOST,POSTGRESQL_PORT,POSTGRESQL_DATABASE,POSTGRESQL_USERNAME,POSTGRESQL_PASSWORD)\n",
    "MAIN_CLASS = \"com.google.cloud.dataproc.templates.main.DataProcTemplate\"\n",
    "PACKAGE_EGG_FILE = \"dataproc_templates_distribution.egg\"\n",
    "PIPELINE_ROOT = GCS_STAGING_LOCATION + \"/pipeline_root/dataproc_pyspark\""
   ]
  },
  {
   "cell_type": "markdown",
   "id": "d9323378-426e-4593-8b22-e6b20b64bfe9",
   "metadata": {
    "pycharm": {
     "name": "#%% md\n"
    },
    "tags": []
   },
   "source": [
    "# Step 4: Generate PostgreSQL Table List\n",
    "\n",
    "This step creates list of tables for migration. \n",
    "\n",
    "* If POSTGRESQL_TABLE_LIST and POSTGRESQL_SCHEMA_LIST are kept empty, then all the tables in the POSTGRESQL_DATABASE are listed for migration.\n",
    "\n",
    "* If POSTGRESQL_SCHEMA_LIST is non empty, then all tables associated with the mentioned schemas will be listed for migration\n",
    "\n",
    "* If POSTGRESQL_TABLE_LIST is non empty, then the provided list of tables are selected for migration"
   ]
  },
  {
   "cell_type": "code",
   "execution_count": 14,
   "id": "35d75bb9-8d10-4f0e-989b-8b81727ada7f",
   "metadata": {
    "pycharm": {
     "name": "#%%\n"
    }
   },
   "outputs": [],
   "source": [
    "# removing defaut value if the list is empty\n",
    "if len(POSTGRESQL_SCHEMA_LIST) == 1 and POSTGRESQL_SCHEMA_LIST[0] == '':\n",
    "    POSTGRESQL_SCHEMA_LIST.pop()\n",
    "\n",
    "\n",
    "if len(POSTGRESQL_TABLE_LIST) == 1 and POSTGRESQL_TABLE_LIST[0] == '':\n",
    "    POSTGRESQL_TABLE_LIST.pop()\n",
    "    \n",
    "if POSTGRESQL_SCHEMA_LIST and POSTGRESQL_TABLE_LIST:\n",
    "    print(POSTGRESQL_SCHEMA_LIST , POSTGRESQL_TABLE_LIST)\n",
    "    print(POSTGRESQL_SCHEMA_LIST and POSTGRESQL_TABLE_LIST)\n",
    "    sys.exit(\"Please provide values for either POSTGRESQL_SCHEMA_LIST OR POSTGRESQL_TABLE_LIST. Non empty values for both the values at the same time are not accepted\")"
   ]
  },
  {
   "cell_type": "code",
   "execution_count": 15,
   "id": "3f433106-453d-445f-bcda-8aad4efc0d95",
   "metadata": {
    "pycharm": {
     "name": "#%%\n"
    }
   },
   "outputs": [
    {
     "name": "stdout",
     "output_type": "stream",
     "text": [
      "connected to database\n",
      "Total Tables =  1\n",
      "list of tables for migration :\n",
      "['public.users']\n"
     ]
    }
   ],
   "source": [
    "DB = sqlalchemy.create_engine(\n",
    "            sqlalchemy.engine.url.URL.create(\n",
    "                drivername=PY_JDBC_DRIVER,\n",
    "                username=POSTGRESQL_USERNAME,\n",
    "                password=POSTGRESQL_PASSWORD,\n",
    "                database=POSTGRESQL_DATABASE,\n",
    "                host=POSTGRESQL_HOST,\n",
    "                port=POSTGRESQL_PORT\n",
    "              )\n",
    "            )\n",
    "\n",
    "with DB.connect() as conn:\n",
    "        print(\"connected to database\")\n",
    "        if not POSTGRESQL_TABLE_LIST and not POSTGRESQL_SCHEMA_LIST: # Migrate all possible tables from database\n",
    "            results = conn.execute(text('select TABLE_SCHEMA,TABLE_NAME from INFORMATION_SCHEMA.Tables')).fetchall()\n",
    "\n",
    "        elif POSTGRESQL_SCHEMA_LIST and not POSTGRESQL_TABLE_LIST: # Only Migrate tables associated with the provided schema list\n",
    "            results = conn.execute(text(\"select TABLE_SCHEMA,TABLE_NAME from INFORMATION_SCHEMA.Tables where TABLE_SCHEMA in ('{}');\".format(\"','\".join(POSTGRESQL_SCHEMA_LIST)))).fetchall()\n",
    "\n",
    "        # when POSTGRESQL_TABLE_LIST is already not empty, only mentioned tables will be migrated\n",
    "\n",
    "        print(\"Total Tables = \", len(results))\n",
    "        for row in results:\n",
    "            POSTGRESQL_TABLE_LIST.append(row[0]+\".\"+row[1])\n",
    "\n",
    "        print(\"list of tables for migration :\")\n",
    "        print(POSTGRESQL_TABLE_LIST)\n",
    "\n",
    "\n",
    "        "
   ]
  },
  {
   "cell_type": "markdown",
   "id": "7359b268-ceec-4694-91ec-63f8469040dc",
   "metadata": {
    "pycharm": {
     "name": "#%% md\n"
    }
   },
   "source": [
    "# Step 5: Get Primary Keys for partitioning the tables\n",
    "\n",
    "This step fetches primary key from POSTGRESQL_DATABASE for the tables listed for migration"
   ]
  },
  {
   "cell_type": "code",
   "execution_count": 16,
   "id": "8346e717-5bd3-471f-938e-b64fc1721b3f",
   "metadata": {
    "pycharm": {
     "name": "#%%\n"
    }
   },
   "outputs": [],
   "source": [
    "with DB.connect() as conn:\n",
    "\n",
    "    POSTGRESQL_TABLE_PRIMARY_KEYS = {}\n",
    "    for table in POSTGRESQL_TABLE_LIST:\n",
    "            primary_keys = []\n",
    "            results = conn.execute(text(\"SELECT COLUMN_NAME FROM INFORMATION_SCHEMA.TABLE_CONSTRAINTS T JOIN INFORMATION_SCHEMA.KEY_COLUMN_USAGE K ON K.CONSTRAINT_NAME=T.CONSTRAINT_NAME  WHERE  K.TABLE_NAME='{0}'  AND K.TABLE_SCHEMA='{1}' AND T.CONSTRAINT_TYPE='PRIMARY KEY';\".format(table.split(\".\")[1],table.split(\".\")[0]))).fetchall()\n",
    "            # print(results)\n",
    "            for row in results:\n",
    "                primary_keys.append(row[0])\n",
    "            if primary_keys:\n",
    "                POSTGRESQL_TABLE_PRIMARY_KEYS[table] = \",\".join(primary_keys)\n",
    "            else:\n",
    "                POSTGRESQL_TABLE_PRIMARY_KEYS[table] = \"\"\n",
    "\n"
   ]
  },
  {
   "cell_type": "code",
   "execution_count": 17,
   "id": "51baf6f6-2c68-4c63-adfd-f474aea6c48e",
   "metadata": {
    "pycharm": {
     "name": "#%%\n"
    }
   },
   "outputs": [
    {
     "name": "stdout",
     "output_type": "stream",
     "text": [
      "Below are identified primary keys for migrating postgresql table to bigquery:\n"
     ]
    },
    {
     "data": {
      "text/html": [
       "<div>\n",
       "<style scoped>\n",
       "    .dataframe tbody tr th:only-of-type {\n",
       "        vertical-align: middle;\n",
       "    }\n",
       "\n",
       "    .dataframe tbody tr th {\n",
       "        vertical-align: top;\n",
       "    }\n",
       "\n",
       "    .dataframe thead th {\n",
       "        text-align: right;\n",
       "    }\n",
       "</style>\n",
       "<table border=\"1\" class=\"dataframe\">\n",
       "  <thead>\n",
       "    <tr style=\"text-align: right;\">\n",
       "      <th></th>\n",
       "      <th>table</th>\n",
       "      <th>primary_keys</th>\n",
       "    </tr>\n",
       "  </thead>\n",
       "  <tbody>\n",
       "    <tr>\n",
       "      <th>0</th>\n",
       "      <td>public.users</td>\n",
       "      <td>id</td>\n",
       "    </tr>\n",
       "  </tbody>\n",
       "</table>\n",
       "</div>"
      ],
      "text/plain": [
       "          table primary_keys\n",
       "0  public.users           id"
      ]
     },
     "execution_count": 17,
     "metadata": {},
     "output_type": "execute_result"
    }
   ],
   "source": [
    "pkDF = pd.DataFrame({\"table\" : POSTGRESQL_TABLE_LIST, \"primary_keys\": list(POSTGRESQL_TABLE_PRIMARY_KEYS.values())})\n",
    "print(\"Below are identified primary keys for migrating postgresql table to bigquery:\")\n",
    "pkDF"
   ]
  },
  {
   "cell_type": "markdown",
   "id": "ba873f01-cda3-4954-aac6-6ddf7df54642",
   "metadata": {
    "pycharm": {
     "name": "#%% md\n"
    }
   },
   "source": [
    "# Step 6: Create JAR files and Upload to GCS\n",
    "<div class=\"alert alert-block alert-info\">\n",
    "<b>NOTE: </b> Run Step 6 one time for each new notebook instance</div>"
   ]
  },
  {
   "cell_type": "code",
   "execution_count": 18,
   "id": "7603c8f5-0dbd-4fac-abcd-e6df133133f6",
   "metadata": {
    "pycharm": {
     "name": "#%%\n"
    }
   },
   "outputs": [
    {
     "name": "stdout",
     "output_type": "stream",
     "text": [
      "/home/jupyter/dataproc-templates/python\n"
     ]
    }
   ],
   "source": [
    "%cd $WORKING_DIRECTORY"
   ]
  },
  {
   "cell_type": "markdown",
   "id": "4d6bed57-868d-4f87-8311-33359004d0a0",
   "metadata": {
    "pycharm": {
     "name": "#%% md\n"
    }
   },
   "source": [
    "### Get JDBC Connector jars"
   ]
  },
  {
   "cell_type": "code",
   "execution_count": 19,
   "id": "b95e378d-1da3-4c61-a671-f1d8b9c53d65",
   "metadata": {
    "pycharm": {
     "name": "#%%\n"
    }
   },
   "outputs": [
    {
     "name": "stderr",
     "output_type": "stream",
     "text": [
      "--2023-06-02 16:36:03--  https://jdbc.postgresql.org/download/postgresql-42.2.6.jar\n",
      "Resolving jdbc.postgresql.org (jdbc.postgresql.org)... 72.32.157.228, 2001:4800:3e1:1::228\n",
      "Connecting to jdbc.postgresql.org (jdbc.postgresql.org)|72.32.157.228|:443... connected.\n",
      "HTTP request sent, awaiting response... 200 OK\n",
      "Length: 842825 (823K) [application/java-archive]\n",
      "Saving to: ‘postgresql-42.2.6.jar.12’\n",
      "\n",
      "     0K .......... .......... .......... .......... ..........  6% 1.28M 1s\n",
      "    50K .......... .......... .......... .......... .......... 12% 1.30M 1s\n",
      "   100K .......... .......... .......... .......... .......... 18%  101M 0s\n",
      "   150K .......... .......... .......... .......... .......... 24% 1.30M 0s\n",
      "   200K .......... .......... .......... .......... .......... 30% 97.8M 0s\n",
      "   250K .......... .......... .......... .......... .......... 36%  155M 0s\n",
      "   300K .......... .......... .......... .......... .......... 42% 1.33M 0s\n",
      "   350K .......... .......... .......... .......... .......... 48%  112M 0s\n",
      "   400K .......... .......... .......... .......... .......... 54% 97.7M 0s\n",
      "   450K .......... .......... .......... .......... .......... 60% 84.4M 0s\n",
      "   500K .......... .......... .......... .......... .......... 66%  152M 0s\n",
      "   550K .......... .......... .......... .......... .......... 72% 24.2M 0s\n",
      "   600K .......... .......... .......... .......... .......... 78% 37.0M 0s\n",
      "   650K .......... .......... .......... .......... .......... 85% 1.50M 0s\n",
      "   700K .......... .......... .......... .......... .......... 91%  134M 0s\n",
      "   750K .......... .......... .......... .......... .......... 97% 63.7M 0s\n",
      "   800K .......... .......... ...                             100%  333M=0.2s\n",
      "\n",
      "2023-06-02 16:36:04 (4.22 MB/s) - ‘postgresql-42.2.6.jar.12’ saved [842825/842825]\n",
      "\n",
      "--2023-06-02 16:36:04--  https://repo1.maven.org/maven2/com/google/cloud/spark/spark-bigquery-with-dependencies_2.12/0.27.0/spark-bigquery-with-dependencies_2.12-0.27.0.jar\n",
      "Resolving repo1.maven.org (repo1.maven.org)... 199.232.192.209, 199.232.196.209, 2a04:4e42:4c::209, ...\n",
      "Connecting to repo1.maven.org (repo1.maven.org)|199.232.192.209|:443... connected.\n",
      "HTTP request sent, awaiting response... 200 OK\n",
      "Length: 42872365 (41M) [application/java-archive]\n",
      "Saving to: ‘spark-bigquery-with-dependencies_2.12-0.27.0.jar.12’\n",
      "\n",
      "     0K .......... .......... .......... .......... ..........  0% 5.49M 7s\n",
      "    50K .......... .......... .......... .......... ..........  0% 6.31M 7s\n",
      "   100K .......... .......... .......... .......... ..........  0% 43.7M 5s\n",
      "   150K .......... .......... .......... .......... ..........  0% 23.4M 4s\n",
      "   200K .......... .......... .......... .......... ..........  0% 10.4M 4s\n",
      "   250K .......... .......... .......... .......... ..........  0% 48.5M 4s\n",
      "   300K .......... .......... .......... .......... ..........  0% 38.3M 3s\n",
      "   350K .......... .......... .......... .......... ..........  0% 61.0M 3s\n",
      "   400K .......... .......... .......... .......... ..........  1% 93.5M 3s\n",
      "   450K .......... .......... .......... .......... ..........  1% 12.7M 3s\n",
      "   500K .......... .......... .......... .......... ..........  1% 71.4M 2s\n",
      "   550K .......... .......... .......... .......... ..........  1% 67.0M 2s\n",
      "   600K .......... .......... .......... .......... ..........  1% 40.3M 2s\n",
      "   650K .......... .......... .......... .......... ..........  1%  186M 2s\n",
      "   700K .......... .......... .......... .......... ..........  1%  152M 2s\n",
      "   750K .......... .......... .......... .......... ..........  1%  121M 2s\n",
      "   800K .......... .......... .......... .......... ..........  2% 96.9M 2s\n",
      "   850K .......... .......... .......... .......... ..........  2%  121M 2s\n",
      "   900K .......... .......... .......... .......... ..........  2% 18.3M 2s\n",
      "   950K .......... .......... .......... .......... ..........  2%  135M 2s\n",
      "  1000K .......... .......... .......... .......... ..........  2% 52.2M 2s\n",
      "  1050K .......... .......... .......... .......... ..........  2%  162M 2s\n",
      "  1100K .......... .......... .......... .......... ..........  2%  169M 1s\n",
      "  1150K .......... .......... .......... .......... ..........  2%  150M 1s\n",
      "  1200K .......... .......... .......... .......... ..........  2%  155M 1s\n",
      "  1250K .......... .......... .......... .......... ..........  3% 65.1M 1s\n",
      "  1300K .......... .......... .......... .......... ..........  3%  148M 1s\n",
      "  1350K .......... .......... .......... .......... ..........  3%  126M 1s\n",
      "  1400K .......... .......... .......... .......... ..........  3%  159M 1s\n",
      "  1450K .......... .......... .......... .......... ..........  3%  154M 1s\n",
      "  1500K .......... .......... .......... .......... ..........  3%  144M 1s\n",
      "  1550K .......... .......... .......... .......... ..........  3%  150M 1s\n",
      "  1600K .......... .......... .......... .......... ..........  3%  204M 1s\n",
      "  1650K .......... .......... .......... .......... ..........  4%  166M 1s\n",
      "  1700K .......... .......... .......... .......... ..........  4%  158M 1s\n",
      "  1750K .......... .......... .......... .......... ..........  4%  122M 1s\n",
      "  1800K .......... .......... .......... .......... ..........  4%  151M 1s\n",
      "  1850K .......... .......... .......... .......... ..........  4% 54.6M 1s\n",
      "  1900K .......... .......... .......... .......... ..........  4%  148M 1s\n",
      "  1950K .......... .......... .......... .......... ..........  4%  131M 1s\n",
      "  2000K .......... .......... .......... .......... ..........  4% 88.0M 1s\n",
      "  2050K .......... .......... .......... .......... ..........  5%  153M 1s\n",
      "  2100K .......... .......... .......... .......... ..........  5%  158M 1s\n",
      "  2150K .......... .......... .......... .......... ..........  5%  124M 1s\n",
      "  2200K .......... .......... .......... .......... ..........  5%  169M 1s\n",
      "  2250K .......... .......... .......... .......... ..........  5%  172M 1s\n",
      "  2300K .......... .......... .......... .......... ..........  5%  160M 1s\n",
      "  2350K .......... .......... .......... .......... ..........  5%  147M 1s\n",
      "  2400K .......... .......... .......... .......... ..........  5%  156M 1s\n",
      "  2450K .......... .......... .......... .......... ..........  5%  161M 1s\n",
      "  2500K .......... .......... .......... .......... ..........  6%  146M 1s\n",
      "  2550K .......... .......... .......... .......... ..........  6%  145M 1s\n",
      "  2600K .......... .......... .......... .......... ..........  6%  159M 1s\n",
      "  2650K .......... .......... .......... .......... ..........  6%  155M 1s\n",
      "  2700K .......... .......... .......... .......... ..........  6%  141M 1s\n",
      "  2750K .......... .......... .......... .......... ..........  6%  120M 1s\n",
      "  2800K .......... .......... .......... .......... ..........  6%  157M 1s\n",
      "  2850K .......... .......... .......... .......... ..........  6%  154M 1s\n",
      "  2900K .......... .......... .......... .......... ..........  7%  152M 1s\n",
      "  2950K .......... .......... .......... .......... ..........  7%  152M 1s\n",
      "  3000K .......... .......... .......... .......... ..........  7%  159M 1s\n",
      "  3050K .......... .......... .......... .......... ..........  7%  162M 1s\n",
      "  3100K .......... .......... .......... .......... ..........  7%  142M 1s\n",
      "  3150K .......... .......... .......... .......... ..........  7%  143M 1s\n",
      "  3200K .......... .......... .......... .......... ..........  7%  158M 1s\n",
      "  3250K .......... .......... .......... .......... ..........  7%  161M 1s\n",
      "  3300K .......... .......... .......... .......... ..........  8%  168M 1s\n",
      "  3350K .......... .......... .......... .......... ..........  8%  143M 1s\n",
      "  3400K .......... .......... .......... .......... ..........  8%  155M 1s\n",
      "  3450K .......... .......... .......... .......... ..........  8%  115M 1s\n",
      "  3500K .......... .......... .......... .......... ..........  8%  129M 1s\n",
      "  3550K .......... .......... .......... .......... ..........  8%  110M 1s\n",
      "  3600K .......... .......... .......... .......... ..........  8%  161M 1s\n",
      "  3650K .......... .......... .......... .......... ..........  8%  152M 1s\n",
      "  3700K .......... .......... .......... .......... ..........  8%  149M 1s\n",
      "  3750K .......... .......... .......... .......... ..........  9%  148M 1s\n",
      "  3800K .......... .......... .......... .......... ..........  9%  168M 1s\n",
      "  3850K .......... .......... .......... .......... ..........  9%  155M 1s\n",
      "  3900K .......... .......... .......... .......... ..........  9%  184M 1s\n",
      "  3950K .......... .......... .......... .......... ..........  9%  145M 1s\n",
      "  4000K .......... .......... .......... .......... ..........  9%  145M 1s\n",
      "  4050K .......... .......... .......... .......... ..........  9%  160M 1s\n",
      "  4100K .......... .......... .......... .......... ..........  9%  150M 1s\n",
      "  4150K .......... .......... .......... .......... .......... 10%  146M 1s\n",
      "  4200K .......... .......... .......... .......... .......... 10%  149M 1s\n",
      "  4250K .......... .......... .......... .......... .......... 10%  144M 1s\n",
      "  4300K .......... .......... .......... .......... .......... 10%  149M 1s\n",
      "  4350K .......... .......... .......... .......... .......... 10%  126M 1s\n",
      "  4400K .......... .......... .......... .......... .......... 10%  149M 1s\n",
      "  4450K .......... .......... .......... .......... .......... 10%  157M 1s\n",
      "  4500K .......... .......... .......... .......... .......... 10%  111M 1s\n",
      "  4550K .......... .......... .......... .......... .......... 10%  140M 1s\n",
      "  4600K .......... .......... .......... .......... .......... 11%  152M 1s\n",
      "  4650K .......... .......... .......... .......... .......... 11%  147M 1s\n",
      "  4700K .......... .......... .......... .......... .......... 11%  147M 1s\n",
      "  4750K .......... .......... .......... .......... .......... 11%  128M 1s\n",
      "  4800K .......... .......... .......... .......... .......... 11%  140M 1s\n",
      "  4850K .......... .......... .......... .......... .......... 11%  164M 1s\n",
      "  4900K .......... .......... .......... .......... .......... 11%  171M 1s\n",
      "  4950K .......... .......... .......... .......... .......... 11%  156M 0s\n",
      "  5000K .......... .......... .......... .......... .......... 12%  174M 0s\n",
      "  5050K .......... .......... .......... .......... .......... 12%  183M 0s\n",
      "  5100K .......... .......... .......... .......... .......... 12%  175M 0s\n",
      "  5150K .......... .......... .......... .......... .......... 12%  126M 0s\n",
      "  5200K .......... .......... .......... .......... .......... 12%  151M 0s\n",
      "  5250K .......... .......... .......... .......... .......... 12%  140M 0s\n",
      "  5300K .......... .......... .......... .......... .......... 12%  154M 0s\n",
      "  5350K .......... .......... .......... .......... .......... 12%  133M 0s\n",
      "  5400K .......... .......... .......... .......... .......... 13%  143M 0s\n",
      "  5450K .......... .......... .......... .......... .......... 13%  157M 0s\n",
      "  5500K .......... .......... .......... .......... .......... 13%  151M 0s\n",
      "  5550K .......... .......... .......... .......... .......... 13%  120M 0s\n",
      "  5600K .......... .......... .......... .......... .......... 13%  153M 0s\n",
      "  5650K .......... .......... .......... .......... .......... 13%  161M 0s\n",
      "  5700K .......... .......... .......... .......... .......... 13%  161M 0s\n",
      "  5750K .......... .......... .......... .......... .......... 13%  124M 0s\n",
      "  5800K .......... .......... .......... .......... .......... 13%  160M 0s\n",
      "  5850K .......... .......... .......... .......... .......... 14%  153M 0s\n",
      "  5900K .......... .......... .......... .......... .......... 14%  110M 0s\n",
      "  5950K .......... .......... .......... .......... .......... 14%  141M 0s\n",
      "  6000K .......... .......... .......... .......... .......... 14%  159M 0s\n",
      "  6050K .......... .......... .......... .......... .......... 14%  153M 0s\n",
      "  6100K .......... .......... .......... .......... .......... 14%  133M 0s\n",
      "  6150K .......... .......... .......... .......... .......... 14%  135M 0s\n",
      "  6200K .......... .......... .......... .......... .......... 14%  153M 0s\n",
      "  6250K .......... .......... .......... .......... .......... 15%  172M 0s\n",
      "  6300K .......... .......... .......... .......... .......... 15%  153M 0s\n",
      "  6350K .......... .......... .......... .......... .......... 15%  144M 0s\n",
      "  6400K .......... .......... .......... .......... .......... 15%  156M 0s\n",
      "  6450K .......... .......... .......... .......... .......... 15%  157M 0s\n",
      "  6500K .......... .......... .......... .......... .......... 15%  154M 0s\n",
      "  6550K .......... .......... .......... .......... .......... 15%  134M 0s\n",
      "  6600K .......... .......... .......... .......... .......... 15%  147M 0s\n",
      "  6650K .......... .......... .......... .......... .......... 16%  159M 0s\n",
      "  6700K .......... .......... .......... .......... .......... 16%  159M 0s\n",
      "  6750K .......... .......... .......... .......... .......... 16%  137M 0s\n",
      "  6800K .......... .......... .......... .......... .......... 16%  136M 0s\n",
      "  6850K .......... .......... .......... .......... .......... 16%  158M 0s\n",
      "  6900K .......... .......... .......... .......... .......... 16%  151M 0s\n",
      "  6950K .......... .......... .......... .......... .......... 16%  150M 0s\n",
      "  7000K .......... .......... .......... .......... .......... 16%  149M 0s\n",
      "  7050K .......... .......... .......... .......... .......... 16%  161M 0s\n",
      "  7100K .......... .......... .......... .......... .......... 17%  156M 0s\n",
      "  7150K .......... .......... .......... .......... .......... 17%  130M 0s\n",
      "  7200K .......... .......... .......... .......... .......... 17%  156M 0s\n",
      "  7250K .......... .......... .......... .......... .......... 17%  142M 0s\n",
      "  7300K .......... .......... .......... .......... .......... 17%  143M 0s\n",
      "  7350K .......... .......... .......... .......... .......... 17%  137M 0s\n",
      "  7400K .......... .......... .......... .......... .......... 17%  148M 0s\n",
      "  7450K .......... .......... .......... .......... .......... 17%  151M 0s\n",
      "  7500K .......... .......... .......... .......... .......... 18%  155M 0s\n",
      "  7550K .......... .......... .......... .......... .......... 18%  131M 0s\n",
      "  7600K .......... .......... .......... .......... .......... 18%  161M 0s\n",
      "  7650K .......... .......... .......... .......... .......... 18%  138M 0s\n",
      "  7700K .......... .......... .......... .......... .......... 18%  150M 0s\n",
      "  7750K .......... .......... .......... .......... .......... 18%  131M 0s\n",
      "  7800K .......... .......... .......... .......... .......... 18%  150M 0s\n",
      "  7850K .......... .......... .......... .......... .......... 18%  147M 0s\n",
      "  7900K .......... .......... .......... .......... .......... 18%  153M 0s\n",
      "  7950K .......... .......... .......... .......... .......... 19%  135M 0s\n",
      "  8000K .......... .......... .......... .......... .......... 19%  173M 0s\n",
      "  8050K .......... .......... .......... .......... .......... 19%  175M 0s\n",
      "  8100K .......... .......... .......... .......... .......... 19%  162M 0s\n",
      "  8150K .......... .......... .......... .......... .......... 19%  136M 0s\n",
      "  8200K .......... .......... .......... .......... .......... 19%  154M 0s\n",
      "  8250K .......... .......... .......... .......... .......... 19%  156M 0s\n",
      "  8300K .......... .......... .......... .......... .......... 19%  155M 0s\n",
      "  8350K .......... .......... .......... .......... .......... 20%  138M 0s\n",
      "  8400K .......... .......... .......... .......... .......... 20%  162M 0s\n",
      "  8450K .......... .......... .......... .......... .......... 20%  159M 0s\n",
      "  8500K .......... .......... .......... .......... .......... 20%  165M 0s\n",
      "  8550K .......... .......... .......... .......... .......... 20%  131M 0s\n",
      "  8600K .......... .......... .......... .......... .......... 20%  158M 0s\n",
      "  8650K .......... .......... .......... .......... .......... 20%  151M 0s\n",
      "  8700K .......... .......... .......... .......... .......... 20%  152M 0s\n",
      "  8750K .......... .......... .......... .......... .......... 21%  120M 0s\n",
      "  8800K .......... .......... .......... .......... .......... 21%  155M 0s\n",
      "  8850K .......... .......... .......... .......... .......... 21%  154M 0s\n",
      "  8900K .......... .......... .......... .......... .......... 21%  142M 0s\n",
      "  8950K .......... .......... .......... .......... .......... 21%  142M 0s\n",
      "  9000K .......... .......... .......... .......... .......... 21%  169M 0s\n",
      "  9050K .......... .......... .......... .......... .......... 21%  157M 0s\n",
      "  9100K .......... .......... .......... .......... .......... 21%  169M 0s\n",
      "  9150K .......... .......... .......... .......... .......... 21%  136M 0s\n",
      "  9200K .......... .......... .......... .......... .......... 22%  150M 0s\n",
      "  9250K .......... .......... .......... .......... .......... 22%  160M 0s\n",
      "  9300K .......... .......... .......... .......... .......... 22%  165M 0s\n",
      "  9350K .......... .......... .......... .......... .......... 22%  147M 0s\n",
      "  9400K .......... .......... .......... .......... .......... 22%  173M 0s\n",
      "  9450K .......... .......... .......... .......... .......... 22%  154M 0s\n",
      "  9500K .......... .......... .......... .......... .......... 22%  160M 0s\n",
      "  9550K .......... .......... .......... .......... .......... 22%  116M 0s\n",
      "  9600K .......... .......... .......... .......... .......... 23%  154M 0s\n",
      "  9650K .......... .......... .......... .......... .......... 23%  151M 0s\n",
      "  9700K .......... .......... .......... .......... .......... 23%  155M 0s\n",
      "  9750K .......... .......... .......... .......... .......... 23%  131M 0s\n",
      "  9800K .......... .......... .......... .......... .......... 23%  146M 0s\n",
      "  9850K .......... .......... .......... .......... .......... 23%  169M 0s\n",
      "  9900K .......... .......... .......... .......... .......... 23%  172M 0s\n",
      "  9950K .......... .......... .......... .......... .......... 23%  132M 0s\n",
      " 10000K .......... .......... .......... .......... .......... 24%  173M 0s\n",
      " 10050K .......... .......... .......... .......... .......... 24%  170M 0s\n",
      " 10100K .......... .......... .......... .......... .......... 24%  174M 0s\n",
      " 10150K .......... .......... .......... .......... .......... 24%  144M 0s\n",
      " 10200K .......... .......... .......... .......... .......... 24%  171M 0s\n",
      " 10250K .......... .......... .......... .......... .......... 24%  165M 0s\n",
      " 10300K .......... .......... .......... .......... .......... 24%  150M 0s\n",
      " 10350K .......... .......... .......... .......... .......... 24%  130M 0s\n",
      " 10400K .......... .......... .......... .......... .......... 24%  150M 0s\n",
      " 10450K .......... .......... .......... .......... .......... 25%  144M 0s\n",
      " 10500K .......... .......... .......... .......... .......... 25%  151M 0s\n",
      " 10550K .......... .......... .......... .......... .......... 25%  140M 0s\n",
      " 10600K .......... .......... .......... .......... .......... 25%  160M 0s\n",
      " 10650K .......... .......... .......... .......... .......... 25%  172M 0s\n",
      " 10700K .......... .......... .......... .......... .......... 25%  169M 0s\n",
      " 10750K .......... .......... .......... .......... .......... 25%  111M 0s\n",
      " 10800K .......... .......... .......... .......... .......... 25%  151M 0s\n",
      " 10850K .......... .......... .......... .......... .......... 26%  155M 0s\n",
      " 10900K .......... .......... .......... .......... .......... 26%  154M 0s\n",
      " 10950K .......... .......... .......... .......... .......... 26%  148M 0s\n",
      " 11000K .......... .......... .......... .......... .......... 26%  152M 0s\n",
      " 11050K .......... .......... .......... .......... .......... 26%  152M 0s\n",
      " 11100K .......... .......... .......... .......... .......... 26%  174M 0s\n",
      " 11150K .......... .......... .......... .......... .......... 26%  134M 0s\n",
      " 11200K .......... .......... .......... .......... .......... 26%  168M 0s\n",
      " 11250K .......... .......... .......... .......... .......... 26%  170M 0s\n",
      " 11300K .......... .......... .......... .......... .......... 27%  172M 0s\n",
      " 11350K .......... .......... .......... .......... .......... 27%  147M 0s\n",
      " 11400K .......... .......... .......... .......... .......... 27%  174M 0s\n",
      " 11450K .......... .......... .......... .......... .......... 27%  174M 0s\n",
      " 11500K .......... .......... .......... .......... .......... 27%  162M 0s\n",
      " 11550K .......... .......... .......... .......... .......... 27%  139M 0s\n",
      " 11600K .......... .......... .......... .......... .......... 27%  174M 0s\n",
      " 11650K .......... .......... .......... .......... .......... 27%  155M 0s\n",
      " 11700K .......... .......... .......... .......... .......... 28%  137M 0s\n",
      " 11750K .......... .......... .......... .......... .......... 28%  164M 0s\n",
      " 11800K .......... .......... .......... .......... .......... 28%  168M 0s\n",
      " 11850K .......... .......... .......... .......... .......... 28%  156M 0s\n",
      " 11900K .......... .......... .......... .......... .......... 28%  148M 0s\n",
      " 11950K .......... .......... .......... .......... .......... 28%  129M 0s\n",
      " 12000K .......... .......... .......... .......... .......... 28%  151M 0s\n",
      " 12050K .......... .......... .......... .......... .......... 28%  152M 0s\n",
      " 12100K .......... .......... .......... .......... .......... 29%  152M 0s\n",
      " 12150K .......... .......... .......... .......... .......... 29%  149M 0s\n",
      " 12200K .......... .......... .......... .......... .......... 29%  163M 0s\n",
      " 12250K .......... .......... .......... .......... .......... 29%  167M 0s\n",
      " 12300K .......... .......... .......... .......... .......... 29%  153M 0s\n",
      " 12350K .......... .......... .......... .......... .......... 29%  130M 0s\n",
      " 12400K .......... .......... .......... .......... .......... 29%  154M 0s\n",
      " 12450K .......... .......... .......... .......... .......... 29%  152M 0s\n",
      " 12500K .......... .......... .......... .......... .......... 29%  163M 0s\n",
      " 12550K .......... .......... .......... .......... .......... 30%  140M 0s\n",
      " 12600K .......... .......... .......... .......... .......... 30%  152M 0s\n",
      " 12650K .......... .......... .......... .......... .......... 30%  169M 0s\n",
      " 12700K .......... .......... .......... .......... .......... 30%  167M 0s\n",
      " 12750K .......... .......... .......... .......... .......... 30%  145M 0s\n",
      " 12800K .......... .......... .......... .......... .......... 30%  111M 0s\n",
      " 12850K .......... .......... .......... .......... .......... 30%  134M 0s\n",
      " 12900K .......... .......... .......... .......... .......... 30%  147M 0s\n",
      " 12950K .......... .......... .......... .......... .......... 31%  135M 0s\n",
      " 13000K .......... .......... .......... .......... .......... 31%  152M 0s\n",
      " 13050K .......... .......... .......... .......... .......... 31%  164M 0s\n",
      " 13100K .......... .......... .......... .......... .......... 31%  119M 0s\n",
      " 13150K .......... .......... .......... .......... .......... 31%  134M 0s\n",
      " 13200K .......... .......... .......... .......... .......... 31%  161M 0s\n",
      " 13250K .......... .......... .......... .......... .......... 31%  171M 0s\n",
      " 13300K .......... .......... .......... .......... .......... 31%  167M 0s\n",
      " 13350K .......... .......... .......... .......... .......... 32%  136M 0s\n",
      " 13400K .......... .......... .......... .......... .......... 32%  144M 0s\n",
      " 13450K .......... .......... .......... .......... .......... 32%  148M 0s\n",
      " 13500K .......... .......... .......... .......... .......... 32%  146M 0s\n",
      " 13550K .......... .......... .......... .......... .......... 32%  116M 0s\n",
      " 13600K .......... .......... .......... .......... .......... 32%  177M 0s\n",
      " 13650K .......... .......... .......... .......... .......... 32%  163M 0s\n",
      " 13700K .......... .......... .......... .......... .......... 32%  170M 0s\n",
      " 13750K .......... .......... .......... .......... .......... 32%  154M 0s\n",
      " 13800K .......... .......... .......... .......... .......... 33%  173M 0s\n",
      " 13850K .......... .......... .......... .......... .......... 33%  134M 0s\n",
      " 13900K .......... .......... .......... .......... .......... 33%  179M 0s\n",
      " 13950K .......... .......... .......... .......... .......... 33%  129M 0s\n",
      " 14000K .......... .......... .......... .......... .......... 33%  140M 0s\n",
      " 14050K .......... .......... .......... .......... .......... 33%  150M 0s\n",
      " 14100K .......... .......... .......... .......... .......... 33%  166M 0s\n",
      " 14150K .......... .......... .......... .......... .......... 33%  159M 0s\n",
      " 14200K .......... .......... .......... .......... .......... 34%  184M 0s\n",
      " 14250K .......... .......... .......... .......... .......... 34%  160M 0s\n",
      " 14300K .......... .......... .......... .......... .......... 34%  185M 0s\n",
      " 14350K .......... .......... .......... .......... .......... 34%  145M 0s\n",
      " 14400K .......... .......... .......... .......... .......... 34%  175M 0s\n",
      " 14450K .......... .......... .......... .......... .......... 34%  183M 0s\n",
      " 14500K .......... .......... .......... .......... .......... 34%  177M 0s\n",
      " 14550K .......... .......... .......... .......... .......... 34%  151M 0s\n",
      " 14600K .......... .......... .......... .......... .......... 34%  159M 0s\n",
      " 14650K .......... .......... .......... .......... .......... 35%  166M 0s\n",
      " 14700K .......... .......... .......... .......... .......... 35%  169M 0s\n",
      " 14750K .......... .......... .......... .......... .......... 35%  138M 0s\n",
      " 14800K .......... .......... .......... .......... .......... 35%  165M 0s\n",
      " 14850K .......... .......... .......... .......... .......... 35%  166M 0s\n",
      " 14900K .......... .......... .......... .......... .......... 35%  176M 0s\n",
      " 14950K .......... .......... .......... .......... .......... 35%  147M 0s\n",
      " 15000K .......... .......... .......... .......... .......... 35%  140M 0s\n",
      " 15050K .......... .......... .......... .......... .......... 36%  149M 0s\n",
      " 15100K .......... .......... .......... .......... .......... 36%  149M 0s\n",
      " 15150K .......... .......... .......... .......... .......... 36%  128M 0s\n",
      " 15200K .......... .......... .......... .......... .......... 36%  148M 0s\n",
      " 15250K .......... .......... .......... .......... .......... 36%  146M 0s\n",
      " 15300K .......... .......... .......... .......... .......... 36%  162M 0s\n",
      " 15350K .......... .......... .......... .......... .......... 36%  149M 0s\n",
      " 15400K .......... .......... .......... .......... .......... 36%  158M 0s\n",
      " 15450K .......... .......... .......... .......... .......... 37%  153M 0s\n",
      " 15500K .......... .......... .......... .......... .......... 37%  171M 0s\n",
      " 15550K .......... .......... .......... .......... .......... 37%  149M 0s\n",
      " 15600K .......... .......... .......... .......... .......... 37%  122M 0s\n",
      " 15650K .......... .......... .......... .......... .......... 37%  161M 0s\n",
      " 15700K .......... .......... .......... .......... .......... 37%  157M 0s\n",
      " 15750K .......... .......... .......... .......... .......... 37%  139M 0s\n",
      " 15800K .......... .......... .......... .......... .......... 37%  165M 0s\n",
      " 15850K .......... .......... .......... .......... .......... 37%  167M 0s\n",
      " 15900K .......... .......... .......... .......... .......... 38%  165M 0s\n",
      " 15950K .......... .......... .......... .......... .......... 38%  142M 0s\n",
      " 16000K .......... .......... .......... .......... .......... 38%  120M 0s\n",
      " 16050K .......... .......... .......... .......... .......... 38%  138M 0s\n",
      " 16100K .......... .......... .......... .......... .......... 38%  147M 0s\n",
      " 16150K .......... .......... .......... .......... .......... 38%  128M 0s\n",
      " 16200K .......... .......... .......... .......... .......... 38% 99.3M 0s\n",
      " 16250K .......... .......... .......... .......... .......... 38%  126M 0s\n",
      " 16300K .......... .......... .......... .......... .......... 39%  149M 0s\n",
      " 16350K .......... .......... .......... .......... .......... 39%  128M 0s\n",
      " 16400K .......... .......... .......... .......... .......... 39%  147M 0s\n",
      " 16450K .......... .......... .......... .......... .......... 39%  136M 0s\n",
      " 16500K .......... .......... .......... .......... .......... 39%  155M 0s\n",
      " 16550K .......... .......... .......... .......... .......... 39%  132M 0s\n",
      " 16600K .......... .......... .......... .......... .......... 39%  144M 0s\n",
      " 16650K .......... .......... .......... .......... .......... 39%  152M 0s\n",
      " 16700K .......... .......... .......... .......... .......... 40%  164M 0s\n",
      " 16750K .......... .......... .......... .......... .......... 40%  128M 0s\n",
      " 16800K .......... .......... .......... .......... .......... 40%  160M 0s\n",
      " 16850K .......... .......... .......... .......... .......... 40%  160M 0s\n",
      " 16900K .......... .......... .......... .......... .......... 40%  130M 0s\n",
      " 16950K .......... .......... .......... .......... .......... 40%  132M 0s\n",
      " 17000K .......... .......... .......... .......... .......... 40%  146M 0s\n",
      " 17050K .......... .......... .......... .......... .......... 40%  147M 0s\n",
      " 17100K .......... .......... .......... .......... .......... 40%  169M 0s\n",
      " 17150K .......... .......... .......... .......... .......... 41%  146M 0s\n",
      " 17200K .......... .......... .......... .......... .......... 41%  170M 0s\n",
      " 17250K .......... .......... .......... .......... .......... 41%  178M 0s\n",
      " 17300K .......... .......... .......... .......... .......... 41%  176M 0s\n",
      " 17350K .......... .......... .......... .......... .......... 41%  148M 0s\n",
      " 17400K .......... .......... .......... .......... .......... 41%  168M 0s\n",
      " 17450K .......... .......... .......... .......... .......... 41%  165M 0s\n",
      " 17500K .......... .......... .......... .......... .......... 41%  183M 0s\n",
      " 17550K .......... .......... .......... .......... .......... 42%  152M 0s\n",
      " 17600K .......... .......... .......... .......... .......... 42%  175M 0s\n",
      " 17650K .......... .......... .......... .......... .......... 42%  176M 0s\n",
      " 17700K .......... .......... .......... .......... .......... 42%  177M 0s\n",
      " 17750K .......... .......... .......... .......... .......... 42%  164M 0s\n",
      " 17800K .......... .......... .......... .......... .......... 42%  182M 0s\n",
      " 17850K .......... .......... .......... .......... .......... 42%  166M 0s\n",
      " 17900K .......... .......... .......... .......... .......... 42%  144M 0s\n",
      " 17950K .......... .......... .......... .......... .......... 42%  161M 0s\n",
      " 18000K .......... .......... .......... .......... .......... 43%  172M 0s\n",
      " 18050K .......... .......... .......... .......... .......... 43%  127M 0s\n",
      " 18100K .......... .......... .......... .......... .......... 43%  154M 0s\n",
      " 18150K .......... .......... .......... .......... .......... 43%  149M 0s\n",
      " 18200K .......... .......... .......... .......... .......... 43%  132M 0s\n",
      " 18250K .......... .......... .......... .......... .......... 43%  161M 0s\n",
      " 18300K .......... .......... .......... .......... .......... 43%  173M 0s\n",
      " 18350K .......... .......... .......... .......... .......... 43%  129M 0s\n",
      " 18400K .......... .......... .......... .......... .......... 44%  170M 0s\n",
      " 18450K .......... .......... .......... .......... .......... 44%  173M 0s\n",
      " 18500K .......... .......... .......... .......... .......... 44%  166M 0s\n",
      " 18550K .......... .......... .......... .......... .......... 44%  162M 0s\n",
      " 18600K .......... .......... .......... .......... .......... 44%  186M 0s\n",
      " 18650K .......... .......... .......... .......... .......... 44%  183M 0s\n",
      " 18700K .......... .......... .......... .......... .......... 44%  150M 0s\n",
      " 18750K .......... .......... .......... .......... .......... 44%  132M 0s\n",
      " 18800K .......... .......... .......... .......... .......... 45%  172M 0s\n",
      " 18850K .......... .......... .......... .......... .......... 45%  154M 0s\n",
      " 18900K .......... .......... .......... .......... .......... 45%  145M 0s\n",
      " 18950K .......... .......... .......... .......... .......... 45%  156M 0s\n",
      " 19000K .......... .......... .......... .......... .......... 45%  169M 0s\n",
      " 19050K .......... .......... .......... .......... .......... 45%  166M 0s\n",
      " 19100K .......... .......... .......... .......... .......... 45%  159M 0s\n",
      " 19150K .......... .......... .......... .......... .......... 45%  138M 0s\n",
      " 19200K .......... .......... .......... .......... .......... 45%  179M 0s\n",
      " 19250K .......... .......... .......... .......... .......... 46%  182M 0s\n",
      " 19300K .......... .......... .......... .......... .......... 46%  177M 0s\n",
      " 19350K .......... .......... .......... .......... .......... 46%  160M 0s\n",
      " 19400K .......... .......... .......... .......... .......... 46%  159M 0s\n",
      " 19450K .......... .......... .......... .......... .......... 46%  127M 0s\n",
      " 19500K .......... .......... .......... .......... .......... 46%  161M 0s\n",
      " 19550K .......... .......... .......... .......... .......... 46%  134M 0s\n",
      " 19600K .......... .......... .......... .......... .......... 46%  165M 0s\n",
      " 19650K .......... .......... .......... .......... .......... 47%  140M 0s\n",
      " 19700K .......... .......... .......... .......... .......... 47%  159M 0s\n",
      " 19750K .......... .......... .......... .......... .......... 47%  124M 0s\n",
      " 19800K .......... .......... .......... .......... .......... 47%  149M 0s\n",
      " 19850K .......... .......... .......... .......... .......... 47%  158M 0s\n",
      " 19900K .......... .......... .......... .......... .......... 47%  178M 0s\n",
      " 19950K .......... .......... .......... .......... .......... 47%  146M 0s\n",
      " 20000K .......... .......... .......... .......... .......... 47%  184M 0s\n",
      " 20050K .......... .......... .......... .......... .......... 48%  174M 0s\n",
      " 20100K .......... .......... .......... .......... .......... 48%  147M 0s\n",
      " 20150K .......... .......... .......... .......... .......... 48%  134M 0s\n",
      " 20200K .......... .......... .......... .......... .......... 48%  156M 0s\n",
      " 20250K .......... .......... .......... .......... .......... 48%  144M 0s\n",
      " 20300K .......... .......... .......... .......... .......... 48%  151M 0s\n",
      " 20350K .......... .......... .......... .......... .......... 48%  147M 0s\n",
      " 20400K .......... .......... .......... .......... .......... 48%  169M 0s\n",
      " 20450K .......... .......... .......... .......... .......... 48%  180M 0s\n",
      " 20500K .......... .......... .......... .......... .......... 49%  185M 0s\n",
      " 20550K .......... .......... .......... .......... .......... 49%  163M 0s\n",
      " 20600K .......... .......... .......... .......... .......... 49%  146M 0s\n",
      " 20650K .......... .......... .......... .......... .......... 49%  159M 0s\n",
      " 20700K .......... .......... .......... .......... .......... 49%  170M 0s\n",
      " 20750K .......... .......... .......... .......... .......... 49%  142M 0s\n",
      " 20800K .......... .......... .......... .......... .......... 49%  172M 0s\n",
      " 20850K .......... .......... .......... .......... .......... 49%  166M 0s\n",
      " 20900K .......... .......... .......... .......... .......... 50%  170M 0s\n",
      " 20950K .......... .......... .......... .......... .......... 50%  162M 0s\n",
      " 21000K .......... .......... .......... .......... .......... 50%  183M 0s\n",
      " 21050K .......... .......... .......... .......... .......... 50%  153M 0s\n",
      " 21100K .......... .......... .......... .......... .......... 50%  177M 0s\n",
      " 21150K .......... .......... .......... .......... .......... 50%  180M 0s\n",
      " 21200K .......... .......... .......... .......... .......... 50%  180M 0s\n",
      " 21250K .......... .......... .......... .......... .......... 50%  160M 0s\n",
      " 21300K .......... .......... .......... .......... .......... 50%  153M 0s\n",
      " 21350K .......... .......... .......... .......... .......... 51%  156M 0s\n",
      " 21400K .......... .......... .......... .......... .......... 51%  122M 0s\n",
      " 21450K .......... .......... .......... .......... .......... 51%  150M 0s\n",
      " 21500K .......... .......... .......... .......... .......... 51%  162M 0s\n",
      " 21550K .......... .......... .......... .......... .......... 51%  148M 0s\n",
      " 21600K .......... .......... .......... .......... .......... 51%  178M 0s\n",
      " 21650K .......... .......... .......... .......... .......... 51%  163M 0s\n",
      " 21700K .......... .......... .......... .......... .......... 51%  151M 0s\n",
      " 21750K .......... .......... .......... .......... .......... 52%  160M 0s\n",
      " 21800K .......... .......... .......... .......... .......... 52%  182M 0s\n",
      " 21850K .......... .......... .......... .......... .......... 52%  175M 0s\n",
      " 21900K .......... .......... .......... .......... .......... 52%  165M 0s\n",
      " 21950K .......... .......... .......... .......... .......... 52%  132M 0s\n",
      " 22000K .......... .......... .......... .......... .......... 52%  173M 0s\n",
      " 22050K .......... .......... .......... .......... .......... 52%  171M 0s\n",
      " 22100K .......... .......... .......... .......... .......... 52%  154M 0s\n",
      " 22150K .......... .......... .......... .......... .......... 53%  140M 0s\n",
      " 22200K .......... .......... .......... .......... .......... 53%  166M 0s\n",
      " 22250K .......... .......... .......... .......... .......... 53%  162M 0s\n",
      " 22300K .......... .......... .......... .......... .......... 53%  170M 0s\n",
      " 22350K .......... .......... .......... .......... .......... 53%  137M 0s\n",
      " 22400K .......... .......... .......... .......... .......... 53%  157M 0s\n",
      " 22450K .......... .......... .......... .......... .......... 53%  165M 0s\n",
      " 22500K .......... .......... .......... .......... .......... 53%  165M 0s\n",
      " 22550K .......... .......... .......... .......... .......... 53%  150M 0s\n",
      " 22600K .......... .......... .......... .......... .......... 54%  173M 0s\n",
      " 22650K .......... .......... .......... .......... .......... 54%  155M 0s\n",
      " 22700K .......... .......... .......... .......... .......... 54%  177M 0s\n",
      " 22750K .......... .......... .......... .......... .......... 54%  128M 0s\n",
      " 22800K .......... .......... .......... .......... .......... 54%  180M 0s\n",
      " 22850K .......... .......... .......... .......... .......... 54%  179M 0s\n",
      " 22900K .......... .......... .......... .......... .......... 54%  142M 0s\n",
      " 22950K .......... .......... .......... .......... .......... 54%  136M 0s\n",
      " 23000K .......... .......... .......... .......... .......... 55%  147M 0s\n",
      " 23050K .......... .......... .......... .......... .......... 55%  149M 0s\n",
      " 23100K .......... .......... .......... .......... .......... 55%  158M 0s\n",
      " 23150K .......... .......... .......... .......... .......... 55%  145M 0s\n",
      " 23200K .......... .......... .......... .......... .......... 55%  161M 0s\n",
      " 23250K .......... .......... .......... .......... .......... 55%  160M 0s\n",
      " 23300K .......... .......... .......... .......... .......... 55%  175M 0s\n",
      " 23350K .......... .......... .......... .......... .......... 55%  117M 0s\n",
      " 23400K .......... .......... .......... .......... .......... 56%  145M 0s\n",
      " 23450K .......... .......... .......... .......... .......... 56%  157M 0s\n",
      " 23500K .......... .......... .......... .......... .......... 56%  147M 0s\n",
      " 23550K .......... .......... .......... .......... .......... 56%  147M 0s\n",
      " 23600K .......... .......... .......... .......... .......... 56%  175M 0s\n",
      " 23650K .......... .......... .......... .......... .......... 56%  162M 0s\n",
      " 23700K .......... .......... .......... .......... .......... 56%  158M 0s\n",
      " 23750K .......... .......... .......... .......... .......... 56%  156M 0s\n",
      " 23800K .......... .......... .......... .......... .......... 56%  154M 0s\n",
      " 23850K .......... .......... .......... .......... .......... 57%  157M 0s\n",
      " 23900K .......... .......... .......... .......... .......... 57%  182M 0s\n",
      " 23950K .......... .......... .......... .......... .......... 57%  159M 0s\n",
      " 24000K .......... .......... .......... .......... .......... 57%  178M 0s\n",
      " 24050K .......... .......... .......... .......... .......... 57%  155M 0s\n",
      " 24100K .......... .......... .......... .......... .......... 57%  185M 0s\n",
      " 24150K .......... .......... .......... .......... .......... 57%  159M 0s\n",
      " 24200K .......... .......... .......... .......... .......... 57%  175M 0s\n",
      " 24250K .......... .......... .......... .......... .......... 58%  143M 0s\n",
      " 24300K .......... .......... .......... .......... .......... 58%  184M 0s\n",
      " 24350K .......... .......... .......... .......... .......... 58%  183M 0s\n",
      " 24400K .......... .......... .......... .......... .......... 58%  173M 0s\n",
      " 24450K .......... .......... .......... .......... .......... 58%  145M 0s\n",
      " 24500K .......... .......... .......... .......... .......... 58%  184M 0s\n",
      " 24550K .......... .......... .......... .......... .......... 58%  152M 0s\n",
      " 24600K .......... .......... .......... .......... .......... 58%  153M 0s\n",
      " 24650K .......... .......... .......... .......... .......... 58%  127M 0s\n",
      " 24700K .......... .......... .......... .......... .......... 59%  158M 0s\n",
      " 24750K .......... .......... .......... .......... .......... 59%  156M 0s\n",
      " 24800K .......... .......... .......... .......... .......... 59%  177M 0s\n",
      " 24850K .......... .......... .......... .......... .......... 59%  179M 0s\n",
      " 24900K .......... .......... .......... .......... .......... 59%  177M 0s\n",
      " 24950K .......... .......... .......... .......... .......... 59%  136M 0s\n",
      " 25000K .......... .......... .......... .......... .......... 59%  165M 0s\n",
      " 25050K .......... .......... .......... .......... .......... 59%  179M 0s\n",
      " 25100K .......... .......... .......... .......... .......... 60%  164M 0s\n",
      " 25150K .......... .......... .......... .......... .......... 60%  173M 0s\n",
      " 25200K .......... .......... .......... .......... .......... 60%  178M 0s\n",
      " 25250K .......... .......... .......... .......... .......... 60%  147M 0s\n",
      " 25300K .......... .......... .......... .......... .......... 60%  185M 0s\n",
      " 25350K .......... .......... .......... .......... .......... 60%  180M 0s\n",
      " 25400K .......... .......... .......... .......... .......... 60%  183M 0s\n",
      " 25450K .......... .......... .......... .......... .......... 60%  148M 0s\n",
      " 25500K .......... .......... .......... .......... .......... 61%  172M 0s\n",
      " 25550K .......... .......... .......... .......... .......... 61%  182M 0s\n",
      " 25600K .......... .......... .......... .......... .......... 61%  186M 0s\n",
      " 25650K .......... .......... .......... .......... .......... 61%  139M 0s\n",
      " 25700K .......... .......... .......... .......... .......... 61%  173M 0s\n",
      " 25750K .......... .......... .......... .......... .......... 61%  169M 0s\n",
      " 25800K .......... .......... .......... .......... .......... 61%  181M 0s\n",
      " 25850K .......... .......... .......... .......... .......... 61%  158M 0s\n",
      " 25900K .......... .......... .......... .......... .......... 61%  185M 0s\n",
      " 25950K .......... .......... .......... .......... .......... 62%  173M 0s\n",
      " 26000K .......... .......... .......... .......... .......... 62%  181M 0s\n",
      " 26050K .......... .......... .......... .......... .......... 62%  136M 0s\n",
      " 26100K .......... .......... .......... .......... .......... 62%  182M 0s\n",
      " 26150K .......... .......... .......... .......... .......... 62%  160M 0s\n",
      " 26200K .......... .......... .......... .......... .......... 62%  173M 0s\n",
      " 26250K .......... .......... .......... .......... .......... 62%  128M 0s\n",
      " 26300K .......... .......... .......... .......... .......... 62%  147M 0s\n",
      " 26350K .......... .......... .......... .......... .......... 63%  124M 0s\n",
      " 26400K .......... .......... .......... .......... .......... 63%  143M 0s\n",
      " 26450K .......... .......... .......... .......... .......... 63%  163M 0s\n",
      " 26500K .......... .......... .......... .......... .......... 63%  138M 0s\n",
      " 26550K .......... .......... .......... .......... .......... 63%  153M 0s\n",
      " 26600K .......... .......... .......... .......... .......... 63%  174M 0s\n",
      " 26650K .......... .......... .......... .......... .......... 63%  133M 0s\n",
      " 26700K .......... .......... .......... .......... .......... 63%  142M 0s\n",
      " 26750K .......... .......... .......... .......... .......... 64%  132M 0s\n",
      " 26800K .......... .......... .......... .......... .......... 64%  146M 0s\n",
      " 26850K .......... .......... .......... .......... .......... 64%  178M 0s\n",
      " 26900K .......... .......... .......... .......... .......... 64%  168M 0s\n",
      " 26950K .......... .......... .......... .......... .......... 64%  148M 0s\n",
      " 27000K .......... .......... .......... .......... .......... 64%  182M 0s\n",
      " 27050K .......... .......... .......... .......... .......... 64%  184M 0s\n",
      " 27100K .......... .......... .......... .......... .......... 64%  179M 0s\n",
      " 27150K .......... .......... .......... .......... .......... 64%  144M 0s\n",
      " 27200K .......... .......... .......... .......... .......... 65%  158M 0s\n",
      " 27250K .......... .......... .......... .......... .......... 65%  168M 0s\n",
      " 27300K .......... .......... .......... .......... .......... 65%  163M 0s\n",
      " 27350K .......... .......... .......... .......... .......... 65%  148M 0s\n",
      " 27400K .......... .......... .......... .......... .......... 65%  160M 0s\n",
      " 27450K .......... .......... .......... .......... .......... 65%  142M 0s\n",
      " 27500K .......... .......... .......... .......... .......... 65%  167M 0s\n",
      " 27550K .......... .......... .......... .......... .......... 65%  133M 0s\n",
      " 27600K .......... .......... .......... .......... .......... 66%  235M 0s\n",
      " 27650K .......... .......... .......... .......... .......... 66%  230M 0s\n",
      " 27700K .......... .......... .......... .......... .......... 66%  225M 0s\n",
      " 27750K .......... .......... .......... .......... .......... 66%  156M 0s\n",
      " 27800K .......... .......... .......... .......... .......... 66%  203M 0s\n",
      " 27850K .......... .......... .......... .......... .......... 66%  195M 0s\n",
      " 27900K .......... .......... .......... .......... .......... 66%  221M 0s\n",
      " 27950K .......... .......... .......... .......... .......... 66%  175M 0s\n",
      " 28000K .......... .......... .......... .......... .......... 66%  167M 0s\n",
      " 28050K .......... .......... .......... .......... .......... 67%  172M 0s\n",
      " 28100K .......... .......... .......... .......... .......... 67%  229M 0s\n",
      " 28150K .......... .......... .......... .......... .......... 67%  216M 0s\n",
      " 28200K .......... .......... .......... .......... .......... 67%  228M 0s\n",
      " 28250K .......... .......... .......... .......... .......... 67%  229M 0s\n",
      " 28300K .......... .......... .......... .......... .......... 67%  254M 0s\n",
      " 28350K .......... .......... .......... .......... .......... 67%  179M 0s\n",
      " 28400K .......... .......... .......... .......... .......... 67%  206M 0s\n",
      " 28450K .......... .......... .......... .......... .......... 68%  217M 0s\n",
      " 28500K .......... .......... .......... .......... .......... 68%  239M 0s\n",
      " 28550K .......... .......... .......... .......... .......... 68%  192M 0s\n",
      " 28600K .......... .......... .......... .......... .......... 68%  213M 0s\n",
      " 28650K .......... .......... .......... .......... .......... 68%  203M 0s\n",
      " 28700K .......... .......... .......... .......... .......... 68%  239M 0s\n",
      " 28750K .......... .......... .......... .......... .......... 68%  202M 0s\n",
      " 28800K .......... .......... .......... .......... .......... 68%  243M 0s\n",
      " 28850K .......... .......... .......... .......... .......... 69%  217M 0s\n",
      " 28900K .......... .......... .......... .......... .......... 69%  222M 0s\n",
      " 28950K .......... .......... .......... .......... .......... 69%  192M 0s\n",
      " 29000K .......... .......... .......... .......... .......... 69%  216M 0s\n",
      " 29050K .......... .......... .......... .......... .......... 69%  138M 0s\n",
      " 29100K .......... .......... .......... .......... .......... 69%  198M 0s\n",
      " 29150K .......... .......... .......... .......... .......... 69%  239M 0s\n",
      " 29200K .......... .......... .......... .......... .......... 69%  215M 0s\n",
      " 29250K .......... .......... .......... .......... .......... 69%  209M 0s\n",
      " 29300K .......... .......... .......... .......... .......... 70%  218M 0s\n",
      " 29350K .......... .......... .......... .......... .......... 70%  186M 0s\n",
      " 29400K .......... .......... .......... .......... .......... 70%  167M 0s\n",
      " 29450K .......... .......... .......... .......... .......... 70%  214M 0s\n",
      " 29500K .......... .......... .......... .......... .......... 70%  223M 0s\n",
      " 29550K .......... .......... .......... .......... .......... 70%  223M 0s\n",
      " 29600K .......... .......... .......... .......... .......... 70%  155M 0s\n",
      " 29650K .......... .......... .......... .......... .......... 70%  181M 0s\n",
      " 29700K .......... .......... .......... .......... .......... 71%  212M 0s\n",
      " 29750K .......... .......... .......... .......... .......... 71%  184M 0s\n",
      " 29800K .......... .......... .......... .......... .......... 71%  226M 0s\n",
      " 29850K .......... .......... .......... .......... .......... 71%  236M 0s\n",
      " 29900K .......... .......... .......... .......... .......... 71%  210M 0s\n",
      " 29950K .......... .......... .......... .......... .......... 71%  139M 0s\n",
      " 30000K .......... .......... .......... .......... .......... 71%  188M 0s\n",
      " 30050K .......... .......... .......... .......... .......... 71%  212M 0s\n",
      " 30100K .......... .......... .......... .......... .......... 72%  218M 0s\n",
      " 30150K .......... .......... .......... .......... .......... 72%  168M 0s\n",
      " 30200K .......... .......... .......... .......... .......... 72%  171M 0s\n",
      " 30250K .......... .......... .......... .......... .......... 72%  240M 0s\n",
      " 30300K .......... .......... .......... .......... .......... 72%  254M 0s\n",
      " 30350K .......... .......... .......... .......... .......... 72%  200M 0s\n",
      " 30400K .......... .......... .......... .......... .......... 72%  232M 0s\n",
      " 30450K .......... .......... .......... .......... .......... 72%  237M 0s\n",
      " 30500K .......... .......... .......... .......... .......... 72%  191M 0s\n",
      " 30550K .......... .......... .......... .......... .......... 73%  177M 0s\n",
      " 30600K .......... .......... .......... .......... .......... 73%  181M 0s\n",
      " 30650K .......... .......... .......... .......... .......... 73%  154M 0s\n",
      " 30700K .......... .......... .......... .......... .......... 73%  167M 0s\n",
      " 30750K .......... .......... .......... .......... .......... 73%  188M 0s\n",
      " 30800K .......... .......... .......... .......... .......... 73%  224M 0s\n",
      " 30850K .......... .......... .......... .......... .......... 73%  184M 0s\n",
      " 30900K .......... .......... .......... .......... .......... 73%  218M 0s\n",
      " 30950K .......... .......... .......... .......... .......... 74%  205M 0s\n",
      " 31000K .......... .......... .......... .......... .......... 74%  221M 0s\n",
      " 31050K .......... .......... .......... .......... .......... 74%  255M 0s\n",
      " 31100K .......... .......... .......... .......... .......... 74%  238M 0s\n",
      " 31150K .......... .......... .......... .......... .......... 74%  156M 0s\n",
      " 31200K .......... .......... .......... .......... .......... 74%  201M 0s\n",
      " 31250K .......... .......... .......... .......... .......... 74%  233M 0s\n",
      " 31300K .......... .......... .......... .......... .......... 74%  185M 0s\n",
      " 31350K .......... .......... .......... .......... .......... 74%  194M 0s\n",
      " 31400K .......... .......... .......... .......... .......... 75%  226M 0s\n",
      " 31450K .......... .......... .......... .......... .......... 75%  205M 0s\n",
      " 31500K .......... .......... .......... .......... .......... 75%  182M 0s\n",
      " 31550K .......... .......... .......... .......... .......... 75%  175M 0s\n",
      " 31600K .......... .......... .......... .......... .......... 75%  249M 0s\n",
      " 31650K .......... .......... .......... .......... .......... 75%  212M 0s\n",
      " 31700K .......... .......... .......... .......... .......... 75%  259M 0s\n",
      " 31750K .......... .......... .......... .......... .......... 75%  175M 0s\n",
      " 31800K .......... .......... .......... .......... .......... 76%  193M 0s\n",
      " 31850K .......... .......... .......... .......... .......... 76%  253M 0s\n",
      " 31900K .......... .......... .......... .......... .......... 76%  256M 0s\n",
      " 31950K .......... .......... .......... .......... .......... 76%  177M 0s\n",
      " 32000K .......... .......... .......... .......... .......... 76%  195M 0s\n",
      " 32050K .......... .......... .......... .......... .......... 76%  218M 0s\n",
      " 32100K .......... .......... .......... .......... .......... 76%  209M 0s\n",
      " 32150K .......... .......... .......... .......... .......... 76%  163M 0s\n",
      " 32200K .......... .......... .......... .......... .......... 77%  149M 0s\n",
      " 32250K .......... .......... .......... .......... .......... 77%  180M 0s\n",
      " 32300K .......... .......... .......... .......... .......... 77%  239M 0s\n",
      " 32350K .......... .......... .......... .......... .......... 77%  210M 0s\n",
      " 32400K .......... .......... .......... .......... .......... 77%  188M 0s\n",
      " 32450K .......... .......... .......... .......... .......... 77%  159M 0s\n",
      " 32500K .......... .......... .......... .......... .......... 77%  223M 0s\n",
      " 32550K .......... .......... .......... .......... .......... 77%  205M 0s\n",
      " 32600K .......... .......... .......... .......... .......... 77%  258M 0s\n",
      " 32650K .......... .......... .......... .......... .......... 78%  258M 0s\n",
      " 32700K .......... .......... .......... .......... .......... 78%  193M 0s\n",
      " 32750K .......... .......... .......... .......... .......... 78%  158M 0s\n",
      " 32800K .......... .......... .......... .......... .......... 78%  254M 0s\n",
      " 32850K .......... .......... .......... .......... .......... 78%  242M 0s\n",
      " 32900K .......... .......... .......... .......... .......... 78%  241M 0s\n",
      " 32950K .......... .......... .......... .......... .......... 78%  210M 0s\n",
      " 33000K .......... .......... .......... .......... .......... 78%  223M 0s\n",
      " 33050K .......... .......... .......... .......... .......... 79%  214M 0s\n",
      " 33100K .......... .......... .......... .......... .......... 79%  211M 0s\n",
      " 33150K .......... .......... .......... .......... .......... 79%  177M 0s\n",
      " 33200K .......... .......... .......... .......... .......... 79%  203M 0s\n",
      " 33250K .......... .......... .......... .......... .......... 79%  252M 0s\n",
      " 33300K .......... .......... .......... .......... .......... 79%  259M 0s\n",
      " 33350K .......... .......... .......... .......... .......... 79%  182M 0s\n",
      " 33400K .......... .......... .......... .......... .......... 79%  208M 0s\n",
      " 33450K .......... .......... .......... .......... .......... 80%  251M 0s\n",
      " 33500K .......... .......... .......... .......... .......... 80%  236M 0s\n",
      " 33550K .......... .......... .......... .......... .......... 80%  214M 0s\n",
      " 33600K .......... .......... .......... .......... .......... 80%  249M 0s\n",
      " 33650K .......... .......... .......... .......... .......... 80%  231M 0s\n",
      " 33700K .......... .......... .......... .......... .......... 80%  248M 0s\n",
      " 33750K .......... .......... .......... .......... .......... 80%  224M 0s\n",
      " 33800K .......... .......... .......... .......... .......... 80%  194M 0s\n",
      " 33850K .......... .......... .......... .......... .......... 80%  182M 0s\n",
      " 33900K .......... .......... .......... .......... .......... 81%  183M 0s\n",
      " 33950K .......... .......... .......... .......... .......... 81%  174M 0s\n",
      " 34000K .......... .......... .......... .......... .......... 81%  241M 0s\n",
      " 34050K .......... .......... .......... .......... .......... 81%  245M 0s\n",
      " 34100K .......... .......... .......... .......... .......... 81%  199M 0s\n",
      " 34150K .......... .......... .......... .......... .......... 81%  154M 0s\n",
      " 34200K .......... .......... .......... .......... .......... 81%  216M 0s\n",
      " 34250K .......... .......... .......... .......... .......... 81%  181M 0s\n",
      " 34300K .......... .......... .......... .......... .......... 82%  205M 0s\n",
      " 34350K .......... .......... .......... .......... .......... 82%  184M 0s\n",
      " 34400K .......... .......... .......... .......... .......... 82%  199M 0s\n",
      " 34450K .......... .......... .......... .......... .......... 82%  189M 0s\n",
      " 34500K .......... .......... .......... .......... .......... 82%  218M 0s\n",
      " 34550K .......... .......... .......... .......... .......... 82%  244M 0s\n",
      " 34600K .......... .......... .......... .......... .......... 82%  244M 0s\n",
      " 34650K .......... .......... .......... .......... .......... 82%  205M 0s\n",
      " 34700K .......... .......... .......... .......... .......... 82%  184M 0s\n",
      " 34750K .......... .......... .......... .......... .......... 83%  178M 0s\n",
      " 34800K .......... .......... .......... .......... .......... 83%  200M 0s\n",
      " 34850K .......... .......... .......... .......... .......... 83%  197M 0s\n",
      " 34900K .......... .......... .......... .......... .......... 83%  191M 0s\n",
      " 34950K .......... .......... .......... .......... .......... 83%  222M 0s\n",
      " 35000K .......... .......... .......... .......... .......... 83%  175M 0s\n",
      " 35050K .......... .......... .......... .......... .......... 83%  183M 0s\n",
      " 35100K .......... .......... .......... .......... .......... 83%  257M 0s\n",
      " 35150K .......... .......... .......... .......... .......... 84%  261M 0s\n",
      " 35200K .......... .......... .......... .......... .......... 84%  241M 0s\n",
      " 35250K .......... .......... .......... .......... .......... 84%  224M 0s\n",
      " 35300K .......... .......... .......... .......... .......... 84%  260M 0s\n",
      " 35350K .......... .......... .......... .......... .......... 84%  208M 0s\n",
      " 35400K .......... .......... .......... .......... .......... 84%  222M 0s\n",
      " 35450K .......... .......... .......... .......... .......... 84%  168M 0s\n",
      " 35500K .......... .......... .......... .......... .......... 84%  199M 0s\n",
      " 35550K .......... .......... .......... .......... .......... 85%  158M 0s\n",
      " 35600K .......... .......... .......... .......... .......... 85%  199M 0s\n",
      " 35650K .......... .......... .......... .......... .......... 85%  259M 0s\n",
      " 35700K .......... .......... .......... .......... .......... 85%  230M 0s\n",
      " 35750K .......... .......... .......... .......... .......... 85%  210M 0s\n",
      " 35800K .......... .......... .......... .......... .......... 85%  261M 0s\n",
      " 35850K .......... .......... .......... .......... .......... 85%  207M 0s\n",
      " 35900K .......... .......... .......... .......... .......... 85%  221M 0s\n",
      " 35950K .......... .......... .......... .......... .......... 85%  189M 0s\n",
      " 36000K .......... .......... .......... .......... .......... 86%  218M 0s\n",
      " 36050K .......... .......... .......... .......... .......... 86%  181M 0s\n",
      " 36100K .......... .......... .......... .......... .......... 86%  240M 0s\n",
      " 36150K .......... .......... .......... .......... .......... 86%  191M 0s\n",
      " 36200K .......... .......... .......... .......... .......... 86%  208M 0s\n",
      " 36250K .......... .......... .......... .......... .......... 86%  217M 0s\n",
      " 36300K .......... .......... .......... .......... .......... 86%  213M 0s\n",
      " 36350K .......... .......... .......... .......... .......... 86%  144M 0s\n",
      " 36400K .......... .......... .......... .......... .......... 87%  160M 0s\n",
      " 36450K .......... .......... .......... .......... .......... 87%  169M 0s\n",
      " 36500K .......... .......... .......... .......... .......... 87%  265M 0s\n",
      " 36550K .......... .......... .......... .......... .......... 87%  218M 0s\n",
      " 36600K .......... .......... .......... .......... .......... 87%  201M 0s\n",
      " 36650K .......... .......... .......... .......... .......... 87%  204M 0s\n",
      " 36700K .......... .......... .......... .......... .......... 87%  239M 0s\n",
      " 36750K .......... .......... .......... .......... .......... 87%  210M 0s\n",
      " 36800K .......... .......... .......... .......... .......... 88%  256M 0s\n",
      " 36850K .......... .......... .......... .......... .......... 88%  248M 0s\n",
      " 36900K .......... .......... .......... .......... .......... 88%  236M 0s\n",
      " 36950K .......... .......... .......... .......... .......... 88%  204M 0s\n",
      " 37000K .......... .......... .......... .......... .......... 88%  251M 0s\n",
      " 37050K .......... .......... .......... .......... .......... 88%  215M 0s\n",
      " 37100K .......... .......... .......... .......... .......... 88%  182M 0s\n",
      " 37150K .......... .......... .......... .......... .......... 88%  146M 0s\n",
      " 37200K .......... .......... .......... .......... .......... 88%  190M 0s\n",
      " 37250K .......... .......... .......... .......... .......... 89%  197M 0s\n",
      " 37300K .......... .......... .......... .......... .......... 89%  198M 0s\n",
      " 37350K .......... .......... .......... .......... .......... 89%  218M 0s\n",
      " 37400K .......... .......... .......... .......... .......... 89%  240M 0s\n",
      " 37450K .......... .......... .......... .......... .......... 89%  223M 0s\n",
      " 37500K .......... .......... .......... .......... .......... 89%  230M 0s\n",
      " 37550K .......... .......... .......... .......... .......... 89%  182M 0s\n",
      " 37600K .......... .......... .......... .......... .......... 89%  242M 0s\n",
      " 37650K .......... .......... .......... .......... .......... 90%  197M 0s\n",
      " 37700K .......... .......... .......... .......... .......... 90%  181M 0s\n",
      " 37750K .......... .......... .......... .......... .......... 90%  232M 0s\n",
      " 37800K .......... .......... .......... .......... .......... 90%  234M 0s\n",
      " 37850K .......... .......... .......... .......... .......... 90%  210M 0s\n",
      " 37900K .......... .......... .......... .......... .......... 90%  263M 0s\n",
      " 37950K .......... .......... .......... .......... .......... 90%  258M 0s\n",
      " 38000K .......... .......... .......... .......... .......... 90%  227M 0s\n",
      " 38050K .......... .......... .......... .......... .......... 91%  171M 0s\n",
      " 38100K .......... .......... .......... .......... .......... 91%  206M 0s\n",
      " 38150K .......... .......... .......... .......... .......... 91%  191M 0s\n",
      " 38200K .......... .......... .......... .......... .......... 91%  205M 0s\n",
      " 38250K .......... .......... .......... .......... .......... 91%  177M 0s\n",
      " 38300K .......... .......... .......... .......... .......... 91%  202M 0s\n",
      " 38350K .......... .......... .......... .......... .......... 91%  177M 0s\n",
      " 38400K .......... .......... .......... .......... .......... 91%  203M 0s\n",
      " 38450K .......... .......... .......... .......... .......... 91%  217M 0s\n",
      " 38500K .......... .......... .......... .......... .......... 92%  211M 0s\n",
      " 38550K .......... .......... .......... .......... .......... 92%  179M 0s\n",
      " 38600K .......... .......... .......... .......... .......... 92%  261M 0s\n",
      " 38650K .......... .......... .......... .......... .......... 92%  210M 0s\n",
      " 38700K .......... .......... .......... .......... .......... 92%  177M 0s\n",
      " 38750K .......... .......... .......... .......... .......... 92%  153M 0s\n",
      " 38800K .......... .......... .......... .......... .......... 92%  165M 0s\n",
      " 38850K .......... .......... .......... .......... .......... 92%  190M 0s\n",
      " 38900K .......... .......... .......... .......... .......... 93%  221M 0s\n",
      " 38950K .......... .......... .......... .......... .......... 93%  186M 0s\n",
      " 39000K .......... .......... .......... .......... .......... 93%  215M 0s\n",
      " 39050K .......... .......... .......... .......... .......... 93%  176M 0s\n",
      " 39100K .......... .......... .......... .......... .......... 93%  161M 0s\n",
      " 39150K .......... .......... .......... .......... .......... 93%  213M 0s\n",
      " 39200K .......... .......... .......... .......... .......... 93%  230M 0s\n",
      " 39250K .......... .......... .......... .......... .......... 93%  184M 0s\n",
      " 39300K .......... .......... .......... .......... .......... 93%  236M 0s\n",
      " 39350K .......... .......... .......... .......... .......... 94%  228M 0s\n",
      " 39400K .......... .......... .......... .......... .......... 94%  214M 0s\n",
      " 39450K .......... .......... .......... .......... .......... 94%  201M 0s\n",
      " 39500K .......... .......... .......... .......... .......... 94%  240M 0s\n",
      " 39550K .......... .......... .......... .......... .......... 94%  200M 0s\n",
      " 39600K .......... .......... .......... .......... .......... 94%  231M 0s\n",
      " 39650K .......... .......... .......... .......... .......... 94%  231M 0s\n",
      " 39700K .......... .......... .......... .......... .......... 94%  241M 0s\n",
      " 39750K .......... .......... .......... .......... .......... 95%  184M 0s\n",
      " 39800K .......... .......... .......... .......... .......... 95%  237M 0s\n",
      " 39850K .......... .......... .......... .......... .......... 95%  243M 0s\n",
      " 39900K .......... .......... .......... .......... .......... 95%  233M 0s\n",
      " 39950K .......... .......... .......... .......... .......... 95%  176M 0s\n",
      " 40000K .......... .......... .......... .......... .......... 95%  229M 0s\n",
      " 40050K .......... .......... .......... .......... .......... 95%  218M 0s\n",
      " 40100K .......... .......... .......... .......... .......... 95%  195M 0s\n",
      " 40150K .......... .......... .......... .......... .......... 96%  198M 0s\n",
      " 40200K .......... .......... .......... .......... .......... 96%  216M 0s\n",
      " 40250K .......... .......... .......... .......... .......... 96%  229M 0s\n",
      " 40300K .......... .......... .......... .......... .......... 96%  228M 0s\n",
      " 40350K .......... .......... .......... .......... .......... 96%  179M 0s\n",
      " 40400K .......... .......... .......... .......... .......... 96%  202M 0s\n",
      " 40450K .......... .......... .......... .......... .......... 96%  223M 0s\n",
      " 40500K .......... .......... .......... .......... .......... 96%  212M 0s\n",
      " 40550K .......... .......... .......... .......... .......... 96%  193M 0s\n",
      " 40600K .......... .......... .......... .......... .......... 97%  218M 0s\n",
      " 40650K .......... .......... .......... .......... .......... 97%  209M 0s\n",
      " 40700K .......... .......... .......... .......... .......... 97%  228M 0s\n",
      " 40750K .......... .......... .......... .......... .......... 97%  217M 0s\n",
      " 40800K .......... .......... .......... .......... .......... 97%  249M 0s\n",
      " 40850K .......... .......... .......... .......... .......... 97%  245M 0s\n",
      " 40900K .......... .......... .......... .......... .......... 97%  256M 0s\n",
      " 40950K .......... .......... .......... .......... .......... 97%  230M 0s\n",
      " 41000K .......... .......... .......... .......... .......... 98%  231M 0s\n",
      " 41050K .......... .......... .......... .......... .......... 98%  248M 0s\n",
      " 41100K .......... .......... .......... .......... .......... 98%  256M 0s\n",
      " 41150K .......... .......... .......... .......... .......... 98%  205M 0s\n",
      " 41200K .......... .......... .......... .......... .......... 98%  247M 0s\n",
      " 41250K .......... .......... .......... .......... .......... 98%  258M 0s\n",
      " 41300K .......... .......... .......... .......... .......... 98%  238M 0s\n",
      " 41350K .......... .......... .......... .......... .......... 98%  228M 0s\n",
      " 41400K .......... .......... .......... .......... .......... 99%  256M 0s\n",
      " 41450K .......... .......... .......... .......... .......... 99%  242M 0s\n",
      " 41500K .......... .......... .......... .......... .......... 99%  259M 0s\n",
      " 41550K .......... .......... .......... .......... .......... 99%  210M 0s\n",
      " 41600K .......... .......... .......... .......... .......... 99%  247M 0s\n",
      " 41650K .......... .......... .......... .......... .......... 99%  265M 0s\n",
      " 41700K .......... .......... .......... .......... .......... 99%  257M 0s\n",
      " 41750K .......... .......... .......... .......... .......... 99%  223M 0s\n",
      " 41800K .......... .......... .......... .......... .......... 99%  248M 0s\n",
      " 41850K .......... .......                                    100%  256M=0.3s\n",
      "\n",
      "2023-06-02 16:36:04 (147 MB/s) - ‘spark-bigquery-with-dependencies_2.12-0.27.0.jar.12’ saved [42872365/42872365]\n",
      "\n"
     ]
    }
   ],
   "source": [
    "%%bash\n",
    "\n",
    "wget https://jdbc.postgresql.org/download/postgresql-42.2.6.jar\n",
    "\n",
    "wget https://repo1.maven.org/maven2/com/google/cloud/spark/spark-bigquery-with-dependencies_2.12/0.27.0/spark-bigquery-with-dependencies_2.12-0.27.0.jar"
   ]
  },
  {
   "cell_type": "markdown",
   "id": "7ca2ab48-638d-41bb-a29a-4361fcc0a138",
   "metadata": {
    "pycharm": {
     "name": "#%% md\n"
    }
   },
   "source": [
    "### Build Dataproc Templates python package"
   ]
  },
  {
   "cell_type": "code",
   "execution_count": 20,
   "id": "2965a564-9a68-4092-82bc-904661ba01e4",
   "metadata": {
    "pycharm": {
     "name": "#%%\n"
    }
   },
   "outputs": [
    {
     "name": "stdout",
     "output_type": "stream",
     "text": [
      "/opt/conda/lib/python3.7/site-packages/setuptools/dist.py:547: UserWarning: Normalizing '0.3.0-beta' to '0.3.0b0'\n",
      "  warnings.warn(tmpl.format(**locals()))\n",
      "running bdist_egg\n",
      "running egg_info\n",
      "writing google_dataproc_templates.egg-info/PKG-INFO\n",
      "writing dependency_links to google_dataproc_templates.egg-info/dependency_links.txt\n",
      "writing requirements to google_dataproc_templates.egg-info/requires.txt\n",
      "writing top-level names to google_dataproc_templates.egg-info/top_level.txt\n",
      "reading manifest file 'google_dataproc_templates.egg-info/SOURCES.txt'\n",
      "reading manifest template 'MANIFEST.in'\n",
      "writing manifest file 'google_dataproc_templates.egg-info/SOURCES.txt'\n",
      "installing library code to build/bdist.linux-x86_64/egg\n",
      "/opt/conda/lib/python3.7/site-packages/setuptools/command/install.py:37: SetuptoolsDeprecationWarning: setup.py install is deprecated. Use build and pip and other standards-based tools.\n",
      "  setuptools.SetuptoolsDeprecationWarning,\n",
      "running install_lib\n",
      "running build_py\n",
      "creating build/bdist.linux-x86_64/egg\n",
      "creating build/bdist.linux-x86_64/egg/test\n",
      "creating build/bdist.linux-x86_64/egg/test/cassandra\n",
      "copying build/lib/test/cassandra/test_cassandra_to_bq.py -> build/bdist.linux-x86_64/egg/test/cassandra\n",
      "copying build/lib/test/cassandra/test_cassandra_to_gcs.py -> build/bdist.linux-x86_64/egg/test/cassandra\n",
      "copying build/lib/test/cassandra/__init__.py -> build/bdist.linux-x86_64/egg/test/cassandra\n",
      "creating build/bdist.linux-x86_64/egg/test/hive\n",
      "creating build/bdist.linux-x86_64/egg/test/hive/util\n",
      "copying build/lib/test/hive/util/test_hive_ddl_extractor.py -> build/bdist.linux-x86_64/egg/test/hive/util\n",
      "copying build/lib/test/hive/util/__init__.py -> build/bdist.linux-x86_64/egg/test/hive/util\n",
      "copying build/lib/test/hive/test_hive_to_gcs.py -> build/bdist.linux-x86_64/egg/test/hive\n",
      "copying build/lib/test/hive/__init__.py -> build/bdist.linux-x86_64/egg/test/hive\n",
      "copying build/lib/test/hive/test_hive_to_bigquery.py -> build/bdist.linux-x86_64/egg/test/hive\n",
      "creating build/bdist.linux-x86_64/egg/test/s3\n",
      "copying build/lib/test/s3/test_s3_to_bigquery.py -> build/bdist.linux-x86_64/egg/test/s3\n",
      "copying build/lib/test/s3/__init__.py -> build/bdist.linux-x86_64/egg/test/s3\n",
      "creating build/bdist.linux-x86_64/egg/test/hbase\n",
      "copying build/lib/test/hbase/test_hbase_to_gcs.py -> build/bdist.linux-x86_64/egg/test/hbase\n",
      "copying build/lib/test/hbase/__init__.py -> build/bdist.linux-x86_64/egg/test/hbase\n",
      "creating build/bdist.linux-x86_64/egg/test/gcs\n",
      "copying build/lib/test/gcs/test_gcs_to_gcs.py -> build/bdist.linux-x86_64/egg/test/gcs\n",
      "copying build/lib/test/gcs/test_text_to_bigquery.py -> build/bdist.linux-x86_64/egg/test/gcs\n",
      "copying build/lib/test/gcs/test_gcs_to_bigtable.py -> build/bdist.linux-x86_64/egg/test/gcs\n",
      "copying build/lib/test/gcs/test_gcs_to_mongo.py -> build/bdist.linux-x86_64/egg/test/gcs\n",
      "copying build/lib/test/gcs/__init__.py -> build/bdist.linux-x86_64/egg/test/gcs\n",
      "copying build/lib/test/gcs/test_gcs_to_jdbc.py -> build/bdist.linux-x86_64/egg/test/gcs\n",
      "copying build/lib/test/gcs/test_gcs_to_bigquery.py -> build/bdist.linux-x86_64/egg/test/gcs\n",
      "creating build/bdist.linux-x86_64/egg/test/redshift\n",
      "copying build/lib/test/redshift/test_redshift_to_gcs.py -> build/bdist.linux-x86_64/egg/test/redshift\n",
      "copying build/lib/test/redshift/__init__.py -> build/bdist.linux-x86_64/egg/test/redshift\n",
      "creating build/bdist.linux-x86_64/egg/test/bigquery\n",
      "copying build/lib/test/bigquery/test_bigquery_to_gcs.py -> build/bdist.linux-x86_64/egg/test/bigquery\n",
      "copying build/lib/test/bigquery/__init__.py -> build/bdist.linux-x86_64/egg/test/bigquery\n",
      "creating build/bdist.linux-x86_64/egg/test/util\n",
      "copying build/lib/test/util/test_argument_parsing.py -> build/bdist.linux-x86_64/egg/test/util\n",
      "copying build/lib/test/util/__init__.py -> build/bdist.linux-x86_64/egg/test/util\n",
      "creating build/bdist.linux-x86_64/egg/test/jdbc\n",
      "copying build/lib/test/jdbc/test_jdbc_to_bigquery.py -> build/bdist.linux-x86_64/egg/test/jdbc\n",
      "copying build/lib/test/jdbc/test_jdbc_to_jdbc.py -> build/bdist.linux-x86_64/egg/test/jdbc\n",
      "copying build/lib/test/jdbc/__init__.py -> build/bdist.linux-x86_64/egg/test/jdbc\n",
      "copying build/lib/test/jdbc/test_jdbc_to_gcs.py -> build/bdist.linux-x86_64/egg/test/jdbc\n",
      "creating build/bdist.linux-x86_64/egg/test/mongo\n",
      "copying build/lib/test/mongo/test_mongo_to_gcs.py -> build/bdist.linux-x86_64/egg/test/mongo\n",
      "copying build/lib/test/mongo/__init__.py -> build/bdist.linux-x86_64/egg/test/mongo\n",
      "creating build/bdist.linux-x86_64/egg/test/pubsublite\n",
      "copying build/lib/test/pubsublite/test_pubsublite_to_gcs.py -> build/bdist.linux-x86_64/egg/test/pubsublite\n",
      "copying build/lib/test/pubsublite/test_pubsublite_to_bigtable.py -> build/bdist.linux-x86_64/egg/test/pubsublite\n",
      "copying build/lib/test/pubsublite/__init__.py -> build/bdist.linux-x86_64/egg/test/pubsublite\n",
      "creating build/bdist.linux-x86_64/egg/test/azure\n",
      "copying build/lib/test/azure/test_azure_blob_storage_to_bigquery.py -> build/bdist.linux-x86_64/egg/test/azure\n",
      "copying build/lib/test/azure/__init__.py -> build/bdist.linux-x86_64/egg/test/azure\n",
      "creating build/bdist.linux-x86_64/egg/dataproc_templates\n",
      "creating build/bdist.linux-x86_64/egg/dataproc_templates/cassandra\n",
      "copying build/lib/dataproc_templates/cassandra/cassandra_to_bigquery.py -> build/bdist.linux-x86_64/egg/dataproc_templates/cassandra\n",
      "copying build/lib/dataproc_templates/cassandra/cassandra_to_gcs.py -> build/bdist.linux-x86_64/egg/dataproc_templates/cassandra\n",
      "copying build/lib/dataproc_templates/cassandra/__init__.py -> build/bdist.linux-x86_64/egg/dataproc_templates/cassandra\n",
      "creating build/bdist.linux-x86_64/egg/dataproc_templates/hive\n",
      "copying build/lib/dataproc_templates/hive/hive_to_gcs.py -> build/bdist.linux-x86_64/egg/dataproc_templates/hive\n",
      "creating build/bdist.linux-x86_64/egg/dataproc_templates/hive/util\n",
      "copying build/lib/dataproc_templates/hive/util/hive_ddl_extractor.py -> build/bdist.linux-x86_64/egg/dataproc_templates/hive/util\n",
      "copying build/lib/dataproc_templates/hive/util/__init__.py -> build/bdist.linux-x86_64/egg/dataproc_templates/hive/util\n",
      "copying build/lib/dataproc_templates/hive/hive_to_bigquery.py -> build/bdist.linux-x86_64/egg/dataproc_templates/hive\n",
      "copying build/lib/dataproc_templates/hive/__init__.py -> build/bdist.linux-x86_64/egg/dataproc_templates/hive\n",
      "creating build/bdist.linux-x86_64/egg/dataproc_templates/s3\n",
      "copying build/lib/dataproc_templates/s3/s3_to_bigquery.py -> build/bdist.linux-x86_64/egg/dataproc_templates/s3\n",
      "copying build/lib/dataproc_templates/s3/__init__.py -> build/bdist.linux-x86_64/egg/dataproc_templates/s3\n",
      "creating build/bdist.linux-x86_64/egg/dataproc_templates/hbase\n",
      "copying build/lib/dataproc_templates/hbase/hbase_to_gcs.py -> build/bdist.linux-x86_64/egg/dataproc_templates/hbase\n",
      "copying build/lib/dataproc_templates/hbase/__init__.py -> build/bdist.linux-x86_64/egg/dataproc_templates/hbase\n",
      "creating build/bdist.linux-x86_64/egg/dataproc_templates/snowflake\n",
      "copying build/lib/dataproc_templates/snowflake/__init__.py -> build/bdist.linux-x86_64/egg/dataproc_templates/snowflake\n",
      "copying build/lib/dataproc_templates/snowflake/snowflake_to_gcs.py -> build/bdist.linux-x86_64/egg/dataproc_templates/snowflake\n",
      "creating build/bdist.linux-x86_64/egg/dataproc_templates/gcs\n",
      "copying build/lib/dataproc_templates/gcs/text_to_bigquery.py -> build/bdist.linux-x86_64/egg/dataproc_templates/gcs\n",
      "copying build/lib/dataproc_templates/gcs/gcs_to_mongo.py -> build/bdist.linux-x86_64/egg/dataproc_templates/gcs\n",
      "copying build/lib/dataproc_templates/gcs/__init__.py -> build/bdist.linux-x86_64/egg/dataproc_templates/gcs\n",
      "copying build/lib/dataproc_templates/gcs/gcs_to_jdbc.py -> build/bdist.linux-x86_64/egg/dataproc_templates/gcs\n",
      "copying build/lib/dataproc_templates/gcs/gcs_to_gcs.py -> build/bdist.linux-x86_64/egg/dataproc_templates/gcs\n",
      "copying build/lib/dataproc_templates/gcs/gcs_to_bigquery.py -> build/bdist.linux-x86_64/egg/dataproc_templates/gcs\n",
      "copying build/lib/dataproc_templates/gcs/gcs_to_bigtable.py -> build/bdist.linux-x86_64/egg/dataproc_templates/gcs\n",
      "creating build/bdist.linux-x86_64/egg/dataproc_templates/redshift\n",
      "copying build/lib/dataproc_templates/redshift/redshift_to_gcs.py -> build/bdist.linux-x86_64/egg/dataproc_templates/redshift\n",
      "copying build/lib/dataproc_templates/redshift/__init__.py -> build/bdist.linux-x86_64/egg/dataproc_templates/redshift\n",
      "creating build/bdist.linux-x86_64/egg/dataproc_templates/bigquery\n",
      "copying build/lib/dataproc_templates/bigquery/bigquery_to_gcs.py -> build/bdist.linux-x86_64/egg/dataproc_templates/bigquery\n",
      "copying build/lib/dataproc_templates/bigquery/__init__.py -> build/bdist.linux-x86_64/egg/dataproc_templates/bigquery\n",
      "creating build/bdist.linux-x86_64/egg/dataproc_templates/util\n",
      "copying build/lib/dataproc_templates/util/dataframe_writer_wrappers.py -> build/bdist.linux-x86_64/egg/dataproc_templates/util\n",
      "copying build/lib/dataproc_templates/util/dataframe_reader_wrappers.py -> build/bdist.linux-x86_64/egg/dataproc_templates/util\n",
      "copying build/lib/dataproc_templates/util/template_constants.py -> build/bdist.linux-x86_64/egg/dataproc_templates/util\n",
      "copying build/lib/dataproc_templates/util/tracking.py -> build/bdist.linux-x86_64/egg/dataproc_templates/util\n",
      "copying build/lib/dataproc_templates/util/__init__.py -> build/bdist.linux-x86_64/egg/dataproc_templates/util\n",
      "copying build/lib/dataproc_templates/util/argument_parsing.py -> build/bdist.linux-x86_64/egg/dataproc_templates/util\n",
      "copying build/lib/dataproc_templates/template_name.py -> build/bdist.linux-x86_64/egg/dataproc_templates\n",
      "creating build/bdist.linux-x86_64/egg/dataproc_templates/jdbc\n",
      "copying build/lib/dataproc_templates/jdbc/jdbc_to_gcs.py -> build/bdist.linux-x86_64/egg/dataproc_templates/jdbc\n",
      "copying build/lib/dataproc_templates/jdbc/jdbc_to_jdbc.py -> build/bdist.linux-x86_64/egg/dataproc_templates/jdbc\n",
      "copying build/lib/dataproc_templates/jdbc/__init__.py -> build/bdist.linux-x86_64/egg/dataproc_templates/jdbc\n",
      "copying build/lib/dataproc_templates/jdbc/jdbc_to_bigquery.py -> build/bdist.linux-x86_64/egg/dataproc_templates/jdbc\n",
      "creating build/bdist.linux-x86_64/egg/dataproc_templates/kafka\n",
      "copying build/lib/dataproc_templates/kafka/kafka_to_bq.py -> build/bdist.linux-x86_64/egg/dataproc_templates/kafka\n",
      "copying build/lib/dataproc_templates/kafka/kafka_to_gcs.py -> build/bdist.linux-x86_64/egg/dataproc_templates/kafka\n",
      "copying build/lib/dataproc_templates/kafka/__init__.py -> build/bdist.linux-x86_64/egg/dataproc_templates/kafka\n",
      "creating build/bdist.linux-x86_64/egg/dataproc_templates/mongo\n",
      "copying build/lib/dataproc_templates/mongo/mongo_to_gcs.py -> build/bdist.linux-x86_64/egg/dataproc_templates/mongo\n",
      "copying build/lib/dataproc_templates/mongo/__init__.py -> build/bdist.linux-x86_64/egg/dataproc_templates/mongo\n",
      "copying build/lib/dataproc_templates/__init__.py -> build/bdist.linux-x86_64/egg/dataproc_templates\n",
      "copying build/lib/dataproc_templates/base_template.py -> build/bdist.linux-x86_64/egg/dataproc_templates\n",
      "creating build/bdist.linux-x86_64/egg/dataproc_templates/pubsublite\n",
      "copying build/lib/dataproc_templates/pubsublite/__init__.py -> build/bdist.linux-x86_64/egg/dataproc_templates/pubsublite\n",
      "copying build/lib/dataproc_templates/pubsublite/pubsublite_to_bigtable.py -> build/bdist.linux-x86_64/egg/dataproc_templates/pubsublite\n",
      "copying build/lib/dataproc_templates/pubsublite/pubsublite_to_gcs.py -> build/bdist.linux-x86_64/egg/dataproc_templates/pubsublite\n",
      "creating build/bdist.linux-x86_64/egg/dataproc_templates/azure\n",
      "copying build/lib/dataproc_templates/azure/azure_blob_storage_to_bigquery.py -> build/bdist.linux-x86_64/egg/dataproc_templates/azure\n",
      "copying build/lib/dataproc_templates/azure/__init__.py -> build/bdist.linux-x86_64/egg/dataproc_templates/azure\n",
      "byte-compiling build/bdist.linux-x86_64/egg/test/cassandra/test_cassandra_to_bq.py to test_cassandra_to_bq.cpython-37.pyc\n",
      "byte-compiling build/bdist.linux-x86_64/egg/test/cassandra/test_cassandra_to_gcs.py to test_cassandra_to_gcs.cpython-37.pyc\n",
      "byte-compiling build/bdist.linux-x86_64/egg/test/cassandra/__init__.py to __init__.cpython-37.pyc\n",
      "byte-compiling build/bdist.linux-x86_64/egg/test/hive/util/test_hive_ddl_extractor.py to test_hive_ddl_extractor.cpython-37.pyc\n",
      "byte-compiling build/bdist.linux-x86_64/egg/test/hive/util/__init__.py to __init__.cpython-37.pyc\n",
      "byte-compiling build/bdist.linux-x86_64/egg/test/hive/test_hive_to_gcs.py to test_hive_to_gcs.cpython-37.pyc\n",
      "byte-compiling build/bdist.linux-x86_64/egg/test/hive/__init__.py to __init__.cpython-37.pyc\n",
      "byte-compiling build/bdist.linux-x86_64/egg/test/hive/test_hive_to_bigquery.py to test_hive_to_bigquery.cpython-37.pyc\n",
      "byte-compiling build/bdist.linux-x86_64/egg/test/s3/test_s3_to_bigquery.py to test_s3_to_bigquery.cpython-37.pyc\n",
      "byte-compiling build/bdist.linux-x86_64/egg/test/s3/__init__.py to __init__.cpython-37.pyc\n",
      "byte-compiling build/bdist.linux-x86_64/egg/test/hbase/test_hbase_to_gcs.py to test_hbase_to_gcs.cpython-37.pyc\n",
      "byte-compiling build/bdist.linux-x86_64/egg/test/hbase/__init__.py to __init__.cpython-37.pyc\n",
      "byte-compiling build/bdist.linux-x86_64/egg/test/gcs/test_gcs_to_gcs.py to test_gcs_to_gcs.cpython-37.pyc\n",
      "byte-compiling build/bdist.linux-x86_64/egg/test/gcs/test_text_to_bigquery.py to test_text_to_bigquery.cpython-37.pyc\n",
      "byte-compiling build/bdist.linux-x86_64/egg/test/gcs/test_gcs_to_bigtable.py to test_gcs_to_bigtable.cpython-37.pyc\n",
      "byte-compiling build/bdist.linux-x86_64/egg/test/gcs/test_gcs_to_mongo.py to test_gcs_to_mongo.cpython-37.pyc\n",
      "byte-compiling build/bdist.linux-x86_64/egg/test/gcs/__init__.py to __init__.cpython-37.pyc\n",
      "byte-compiling build/bdist.linux-x86_64/egg/test/gcs/test_gcs_to_jdbc.py to test_gcs_to_jdbc.cpython-37.pyc\n",
      "byte-compiling build/bdist.linux-x86_64/egg/test/gcs/test_gcs_to_bigquery.py to test_gcs_to_bigquery.cpython-37.pyc\n",
      "byte-compiling build/bdist.linux-x86_64/egg/test/redshift/test_redshift_to_gcs.py to test_redshift_to_gcs.cpython-37.pyc\n",
      "byte-compiling build/bdist.linux-x86_64/egg/test/redshift/__init__.py to __init__.cpython-37.pyc\n",
      "byte-compiling build/bdist.linux-x86_64/egg/test/bigquery/test_bigquery_to_gcs.py to test_bigquery_to_gcs.cpython-37.pyc\n",
      "byte-compiling build/bdist.linux-x86_64/egg/test/bigquery/__init__.py to __init__.cpython-37.pyc\n",
      "byte-compiling build/bdist.linux-x86_64/egg/test/util/test_argument_parsing.py to test_argument_parsing.cpython-37.pyc\n",
      "byte-compiling build/bdist.linux-x86_64/egg/test/util/__init__.py to __init__.cpython-37.pyc\n",
      "byte-compiling build/bdist.linux-x86_64/egg/test/jdbc/test_jdbc_to_bigquery.py to test_jdbc_to_bigquery.cpython-37.pyc\n",
      "byte-compiling build/bdist.linux-x86_64/egg/test/jdbc/test_jdbc_to_jdbc.py to test_jdbc_to_jdbc.cpython-37.pyc\n",
      "byte-compiling build/bdist.linux-x86_64/egg/test/jdbc/__init__.py to __init__.cpython-37.pyc\n",
      "byte-compiling build/bdist.linux-x86_64/egg/test/jdbc/test_jdbc_to_gcs.py to test_jdbc_to_gcs.cpython-37.pyc\n",
      "byte-compiling build/bdist.linux-x86_64/egg/test/mongo/test_mongo_to_gcs.py to test_mongo_to_gcs.cpython-37.pyc\n",
      "byte-compiling build/bdist.linux-x86_64/egg/test/mongo/__init__.py to __init__.cpython-37.pyc\n",
      "byte-compiling build/bdist.linux-x86_64/egg/test/pubsublite/test_pubsublite_to_gcs.py to test_pubsublite_to_gcs.cpython-37.pyc\n",
      "byte-compiling build/bdist.linux-x86_64/egg/test/pubsublite/test_pubsublite_to_bigtable.py to test_pubsublite_to_bigtable.cpython-37.pyc\n",
      "byte-compiling build/bdist.linux-x86_64/egg/test/pubsublite/__init__.py to __init__.cpython-37.pyc\n",
      "byte-compiling build/bdist.linux-x86_64/egg/test/azure/test_azure_blob_storage_to_bigquery.py to test_azure_blob_storage_to_bigquery.cpython-37.pyc\n",
      "byte-compiling build/bdist.linux-x86_64/egg/test/azure/__init__.py to __init__.cpython-37.pyc\n",
      "byte-compiling build/bdist.linux-x86_64/egg/dataproc_templates/cassandra/cassandra_to_bigquery.py to cassandra_to_bigquery.cpython-37.pyc\n",
      "byte-compiling build/bdist.linux-x86_64/egg/dataproc_templates/cassandra/cassandra_to_gcs.py to cassandra_to_gcs.cpython-37.pyc\n",
      "byte-compiling build/bdist.linux-x86_64/egg/dataproc_templates/cassandra/__init__.py to __init__.cpython-37.pyc\n",
      "byte-compiling build/bdist.linux-x86_64/egg/dataproc_templates/hive/hive_to_gcs.py to hive_to_gcs.cpython-37.pyc\n",
      "byte-compiling build/bdist.linux-x86_64/egg/dataproc_templates/hive/util/hive_ddl_extractor.py to hive_ddl_extractor.cpython-37.pyc\n",
      "byte-compiling build/bdist.linux-x86_64/egg/dataproc_templates/hive/util/__init__.py to __init__.cpython-37.pyc\n",
      "byte-compiling build/bdist.linux-x86_64/egg/dataproc_templates/hive/hive_to_bigquery.py to hive_to_bigquery.cpython-37.pyc\n",
      "byte-compiling build/bdist.linux-x86_64/egg/dataproc_templates/hive/__init__.py to __init__.cpython-37.pyc\n",
      "byte-compiling build/bdist.linux-x86_64/egg/dataproc_templates/s3/s3_to_bigquery.py to s3_to_bigquery.cpython-37.pyc\n",
      "byte-compiling build/bdist.linux-x86_64/egg/dataproc_templates/s3/__init__.py to __init__.cpython-37.pyc\n",
      "byte-compiling build/bdist.linux-x86_64/egg/dataproc_templates/hbase/hbase_to_gcs.py to hbase_to_gcs.cpython-37.pyc\n",
      "byte-compiling build/bdist.linux-x86_64/egg/dataproc_templates/hbase/__init__.py to __init__.cpython-37.pyc\n",
      "byte-compiling build/bdist.linux-x86_64/egg/dataproc_templates/snowflake/__init__.py to __init__.cpython-37.pyc\n",
      "byte-compiling build/bdist.linux-x86_64/egg/dataproc_templates/snowflake/snowflake_to_gcs.py to snowflake_to_gcs.cpython-37.pyc\n",
      "byte-compiling build/bdist.linux-x86_64/egg/dataproc_templates/gcs/text_to_bigquery.py to text_to_bigquery.cpython-37.pyc\n",
      "byte-compiling build/bdist.linux-x86_64/egg/dataproc_templates/gcs/gcs_to_mongo.py to gcs_to_mongo.cpython-37.pyc\n",
      "byte-compiling build/bdist.linux-x86_64/egg/dataproc_templates/gcs/__init__.py to __init__.cpython-37.pyc\n",
      "byte-compiling build/bdist.linux-x86_64/egg/dataproc_templates/gcs/gcs_to_jdbc.py to gcs_to_jdbc.cpython-37.pyc\n",
      "byte-compiling build/bdist.linux-x86_64/egg/dataproc_templates/gcs/gcs_to_gcs.py to gcs_to_gcs.cpython-37.pyc\n",
      "byte-compiling build/bdist.linux-x86_64/egg/dataproc_templates/gcs/gcs_to_bigquery.py to gcs_to_bigquery.cpython-37.pyc\n",
      "byte-compiling build/bdist.linux-x86_64/egg/dataproc_templates/gcs/gcs_to_bigtable.py to gcs_to_bigtable.cpython-37.pyc\n",
      "byte-compiling build/bdist.linux-x86_64/egg/dataproc_templates/redshift/redshift_to_gcs.py to redshift_to_gcs.cpython-37.pyc\n",
      "byte-compiling build/bdist.linux-x86_64/egg/dataproc_templates/redshift/__init__.py to __init__.cpython-37.pyc\n",
      "byte-compiling build/bdist.linux-x86_64/egg/dataproc_templates/bigquery/bigquery_to_gcs.py to bigquery_to_gcs.cpython-37.pyc\n",
      "byte-compiling build/bdist.linux-x86_64/egg/dataproc_templates/bigquery/__init__.py to __init__.cpython-37.pyc\n",
      "byte-compiling build/bdist.linux-x86_64/egg/dataproc_templates/util/dataframe_writer_wrappers.py to dataframe_writer_wrappers.cpython-37.pyc\n",
      "byte-compiling build/bdist.linux-x86_64/egg/dataproc_templates/util/dataframe_reader_wrappers.py to dataframe_reader_wrappers.cpython-37.pyc\n",
      "byte-compiling build/bdist.linux-x86_64/egg/dataproc_templates/util/template_constants.py to template_constants.cpython-37.pyc\n",
      "byte-compiling build/bdist.linux-x86_64/egg/dataproc_templates/util/tracking.py to tracking.cpython-37.pyc\n",
      "byte-compiling build/bdist.linux-x86_64/egg/dataproc_templates/util/__init__.py to __init__.cpython-37.pyc\n",
      "byte-compiling build/bdist.linux-x86_64/egg/dataproc_templates/util/argument_parsing.py to argument_parsing.cpython-37.pyc\n",
      "byte-compiling build/bdist.linux-x86_64/egg/dataproc_templates/template_name.py to template_name.cpython-37.pyc\n",
      "byte-compiling build/bdist.linux-x86_64/egg/dataproc_templates/jdbc/jdbc_to_gcs.py to jdbc_to_gcs.cpython-37.pyc\n",
      "byte-compiling build/bdist.linux-x86_64/egg/dataproc_templates/jdbc/jdbc_to_jdbc.py to jdbc_to_jdbc.cpython-37.pyc\n",
      "byte-compiling build/bdist.linux-x86_64/egg/dataproc_templates/jdbc/__init__.py to __init__.cpython-37.pyc\n",
      "byte-compiling build/bdist.linux-x86_64/egg/dataproc_templates/jdbc/jdbc_to_bigquery.py to jdbc_to_bigquery.cpython-37.pyc\n",
      "byte-compiling build/bdist.linux-x86_64/egg/dataproc_templates/kafka/kafka_to_bq.py to kafka_to_bq.cpython-37.pyc\n",
      "byte-compiling build/bdist.linux-x86_64/egg/dataproc_templates/kafka/kafka_to_gcs.py to kafka_to_gcs.cpython-37.pyc\n",
      "byte-compiling build/bdist.linux-x86_64/egg/dataproc_templates/kafka/__init__.py to __init__.cpython-37.pyc\n",
      "byte-compiling build/bdist.linux-x86_64/egg/dataproc_templates/mongo/mongo_to_gcs.py to mongo_to_gcs.cpython-37.pyc\n",
      "byte-compiling build/bdist.linux-x86_64/egg/dataproc_templates/mongo/__init__.py to __init__.cpython-37.pyc\n",
      "byte-compiling build/bdist.linux-x86_64/egg/dataproc_templates/__init__.py to __init__.cpython-37.pyc\n",
      "byte-compiling build/bdist.linux-x86_64/egg/dataproc_templates/base_template.py to base_template.cpython-37.pyc\n",
      "byte-compiling build/bdist.linux-x86_64/egg/dataproc_templates/pubsublite/__init__.py to __init__.cpython-37.pyc\n",
      "byte-compiling build/bdist.linux-x86_64/egg/dataproc_templates/pubsublite/pubsublite_to_bigtable.py to pubsublite_to_bigtable.cpython-37.pyc\n",
      "byte-compiling build/bdist.linux-x86_64/egg/dataproc_templates/pubsublite/pubsublite_to_gcs.py to pubsublite_to_gcs.cpython-37.pyc\n",
      "byte-compiling build/bdist.linux-x86_64/egg/dataproc_templates/azure/azure_blob_storage_to_bigquery.py to azure_blob_storage_to_bigquery.cpython-37.pyc\n",
      "byte-compiling build/bdist.linux-x86_64/egg/dataproc_templates/azure/__init__.py to __init__.cpython-37.pyc\n",
      "creating build/bdist.linux-x86_64/egg/EGG-INFO\n",
      "copying google_dataproc_templates.egg-info/PKG-INFO -> build/bdist.linux-x86_64/egg/EGG-INFO\n",
      "copying google_dataproc_templates.egg-info/SOURCES.txt -> build/bdist.linux-x86_64/egg/EGG-INFO\n",
      "copying google_dataproc_templates.egg-info/dependency_links.txt -> build/bdist.linux-x86_64/egg/EGG-INFO\n",
      "copying google_dataproc_templates.egg-info/requires.txt -> build/bdist.linux-x86_64/egg/EGG-INFO\n",
      "copying google_dataproc_templates.egg-info/top_level.txt -> build/bdist.linux-x86_64/egg/EGG-INFO\n",
      "zip_safe flag not set; analyzing archive contents...\n",
      "creating 'dist/google_dataproc_templates-0.3.0b0-py3.7.egg' and adding 'build/bdist.linux-x86_64/egg' to it\n",
      "removing 'build/bdist.linux-x86_64/egg' (and everything under it)\n",
      "Will rename output .egg file from dist/google_dataproc_templates-0.3.0b0-py3.7.egg to dataproc_templates_distribution.egg\n"
     ]
    }
   ],
   "source": [
    "! python ./setup.py bdist_egg --output=$PACKAGE_EGG_FILE"
   ]
  },
  {
   "cell_type": "markdown",
   "id": "fab7c84b-a310-4c77-ae96-0a444a989e67",
   "metadata": {
    "pycharm": {
     "name": "#%% md\n"
    }
   },
   "source": [
    "### Copying JAR files to GCS_STAGING_LOCATION"
   ]
  },
  {
   "cell_type": "code",
   "execution_count": 21,
   "id": "6c70baf3-2b11-4f84-b948-1ea70fb932ff",
   "metadata": {
    "pycharm": {
     "name": "#%%\n"
    }
   },
   "outputs": [
    {
     "name": "stdout",
     "output_type": "stream",
     "text": [
      "Copying file://main.py...\n",
      "/ [1 files][  6.0 KiB/  6.0 KiB]                                                \n",
      "Operation completed over 1 objects/6.0 KiB.                                      \n",
      "Copying file://dataproc_templates_distribution.egg...\n",
      "OSError: Permission denied. KiB]                                                \n",
      "Copying file://postgresql-42.2.6.jar...\n",
      "OSError: Permission denied. KiB]                                                \n",
      "Copying file://spark-bigquery-with-dependencies_2.12-0.27.0.jar...\n",
      "OSError: Permission denied. MiB]                                                \n"
     ]
    }
   ],
   "source": [
    "! gsutil cp main.py $GCS_STAGING_LOCATION/\n",
    "! gsutil cp -r $PACKAGE_EGG_FILE $GCS_STAGING_LOCATION/\n",
    "! gsutil cp postgresql-42.2.6.jar $GCS_STAGING_LOCATION/jars/postgresql-42.2.6.jar\n",
    "! gsutil cp spark-bigquery-with-dependencies_2.12-0.27.0.jar $GCS_STAGING_LOCATION/jars/spark-bigquery-with-dependencies_2.12-0.27.0.jar"
   ]
  },
  {
   "cell_type": "markdown",
   "id": "53007b43-28c7-41db-8698-e70f4a84b8ea",
   "metadata": {
    "pycharm": {
     "name": "#%% md\n"
    }
   },
   "source": [
    "# Step 7: Calculate Parallel Jobs for POSTGRESQL to BigQuery\n",
    "\n",
    "This step uses MAX_PARALLELISM parameter to calculate number of parallel jobs to run"
   ]
  },
  {
   "cell_type": "code",
   "execution_count": 22,
   "id": "365e3ca3-4381-4191-b8ee-43659ba85940",
   "metadata": {
    "pycharm": {
     "name": "#%%\n"
    }
   },
   "outputs": [
    {
     "name": "stdout",
     "output_type": "stream",
     "text": [
      "list of tables for execution : \n",
      "[['public.users']]\n"
     ]
    }
   ],
   "source": [
    "# calculate parallel jobs:\n",
    "COMPLETE_LIST = copy.deepcopy(POSTGRESQL_TABLE_LIST)\n",
    "PARALLEL_JOBS = len(POSTGRESQL_TABLE_LIST)//MAX_PARALLELISM\n",
    "JOB_LIST = []\n",
    "while len(COMPLETE_LIST) > 0:\n",
    "    SUB_LIST = []\n",
    "    for i in range(MAX_PARALLELISM):\n",
    "        if len(COMPLETE_LIST)>0 :\n",
    "            SUB_LIST.append(COMPLETE_LIST[0])\n",
    "            COMPLETE_LIST.pop(0)\n",
    "        else:\n",
    "            break\n",
    "    JOB_LIST.append(SUB_LIST)\n",
    "print(\"list of tables for execution : \")\n",
    "print(JOB_LIST)"
   ]
  },
  {
   "cell_type": "markdown",
   "id": "57e663cc-a269-4beb-87e1-740f772e9eb4",
   "metadata": {
    "pycharm": {
     "name": "#%% md\n"
    }
   },
   "source": [
    "# Step 8: Get Row Count of Tables and identify Partition Columns\n",
    "\n",
    "This step uses PARTITION_THRESHOLD (default value is 1 million) parameter and any table having rows greater than PARTITION_THRESHOLD will be partitioned based on Primary Keys\n",
    "Get Primary keys for all tables to be migrated and find an integer column to partition on"
   ]
  },
  {
   "cell_type": "code",
   "execution_count": 23,
   "id": "636b871e-c975-4a0b-bc51-7069ce77e51e",
   "metadata": {
    "pycharm": {
     "name": "#%%\n"
    }
   },
   "outputs": [],
   "source": [
    "PARTITION_THRESHOLD = 1000000\n",
    "CHECK_PARTITION_COLUMN_LIST={}"
   ]
  },
  {
   "cell_type": "code",
   "execution_count": 24,
   "id": "f2055755-60ad-4371-a936-bfbfa8aaedb8",
   "metadata": {
    "pycharm": {
     "name": "#%%\n"
    }
   },
   "outputs": [],
   "source": [
    "with DB.connect() as conn:\n",
    "    for table in POSTGRESQL_TABLE_LIST:\n",
    "        results = conn.execute(text(\"SELECT count(1) FROM {}\".format(table))).fetchall()\n",
    "        # print(results)\n",
    "        if results[0][0]>PARTITION_THRESHOLD and len(POSTGRESQL_TABLE_PRIMARY_KEYS.get(table).split(\",\")[0])>0:\n",
    "            column_list=POSTGRESQL_TABLE_PRIMARY_KEYS.get(table).split(\",\")\n",
    "            for column in column_list:\n",
    "                results_datatype = DB.execute(\"SELECT DATA_TYPE FROM INFORMATION_SCHEMA.COLUMNS WHERE TABLE_SCHEMA = '{0}' AND TABLE_NAME   = '{1}' AND COLUMN_NAME  = '{2}'\".format(table.split(\".\")[0],table.split(\".\")[1],column)).fetchall()      \n",
    "                # print(results_datatype)\n",
    "                if results_datatype[0][0]==\"int\":\n",
    "                    lowerbound = DB.execute(\"SELECT min({0}) from {1}\".format(column,table)).fetchall()\n",
    "                    upperbound = DB.execute(\"SELECT max({0}) from {1}\".format(column,table)).fetchall()\n",
    "                    numberPartitions = math.ceil((upperbound[0][0]-lowerbound[0][0])/PARTITION_THRESHOLD)\n",
    "                    CHECK_PARTITION_COLUMN_LIST[table]=[column,lowerbound[0][0],upperbound[0][0],numberPartitions]\n",
    "                    print(CHECK_PARTITION_COLUMN_LIST)\n"
   ]
  },
  {
   "cell_type": "markdown",
   "id": "ff7d7523-4f87-48e7-bbe5-d1206b817c3d",
   "metadata": {
    "pycharm": {
     "name": "#%% md\n"
    }
   },
   "source": [
    "# Step 9: Execute Pipeline to Migrate tables from POSTGRESQL to BIGQUERY\n",
    "\n",
    "* BIGQUERY_DATASET : Target dataset in Bigquery\n",
    "* BIGQUERY_MODE : Mode of operation at target <append|overwrite|ignore|errorifexists> (default overwrite)\n",
    "* TEMP_GCS_BUCKET : Bucket name for dataproc job staging\n",
    "* PYTHON_FILE_URIS : Path to PACKAGE_EGG_FILE\n",
    "* MAIN_PYTHON_CLASS : Path to main.py"
   ]
  },
  {
   "cell_type": "code",
   "execution_count": 25,
   "id": "46e607f2-c6c0-4abe-b4ff-ce34c83fcbf2",
   "metadata": {
    "pycharm": {
     "name": "#%%\n"
    }
   },
   "outputs": [],
   "source": [
    "BIGQUERY_DATASET=\"python_dataproc_templates\"\n",
    "BIGQUERY_MODE = \"overwrite\"  # append/overwrite\n",
    "TEMP_GCS_BUCKET=\"python-dataproc-templates-temp-bq\"\n",
    "PYTHON_FILE_URIS = [ GCS_STAGING_LOCATION + \"/dataproc_templates_distribution.egg\" ]\n",
    "MAIN_PYTHON_CLASS = GCS_STAGING_LOCATION + \"/main.py\""
   ]
  },
  {
   "cell_type": "code",
   "execution_count": 26,
   "id": "5f287fa2-8136-4c2b-a4ff-12cce31aa0dd",
   "metadata": {
    "pycharm": {
     "name": "#%%\n"
    }
   },
   "outputs": [],
   "source": [
    "def migrate_postgresql_to_bigquery(EXECUTION_LIST):\n",
    "    EXECUTION_LIST = EXECUTION_LIST\n",
    "    aiplatform.init(project=PROJECT,staging_bucket=TEMP_GCS_BUCKET)\n",
    "    \n",
    "    @dsl.pipeline(\n",
    "        name=\"python-postgresql-to-bigquery-pyspark\",\n",
    "        description=\"Pipeline to get data from PostgreSQL to BigQuery\",\n",
    "    )\n",
    "    def pipeline(\n",
    "        PROJECT_ID: str = PROJECT,\n",
    "        LOCATION: str = REGION,\n",
    "        MAIN_PYTHON_CLASS: str = MAIN_PYTHON_CLASS,\n",
    "        JAR_FILE_URIS: list = JARS,\n",
    "        SUBNETWORK_URI: str = SUBNET,\n",
    "        SERVICE_ACCOUNT: str = SERVICE_ACCOUNT,\n",
    "        PYTHON_FILE_URIS: list = PYTHON_FILE_URIS\n",
    "    ):\n",
    "        for table in EXECUTION_LIST:\n",
    "            BATCH_ID = \"postgresql2bigquery-{}\".format(datetime.now().strftime(\"%s\"))\n",
    "            POSTGRESQL_TO_BIGQUERY_JOBS.append(BATCH_ID)\n",
    "            if table in CHECK_PARTITION_COLUMN_LIST.keys():\n",
    "                TEMPLATE_SPARK_ARGS = [\n",
    "                    \"--template=JDBCTOBIGQUERY\",\n",
    "                    \"--jdbc.bigquery.input.url={}\".format(JDBC_URL),\n",
    "                    \"--jdbc.bigquery.input.driver={}\".format(JDBC_DRIVER),\n",
    "                    \"--jdbc.bigquery.input.table={}\".format(table),\n",
    "                    \"--jdbc.bigquery.output.mode={}\".format(BIGQUERY_MODE),\n",
    "                    \"--jdbc.bigquery.output.table={}\".format(table.split('.')[1]),\n",
    "                    \"--jdbc.bigquery.temp.bucket.name={}\".format(TEMP_GCS_BUCKET),\n",
    "                    \"--jdbc.bigquery.output.dataset={}\".format(BIGQUERY_DATASET),\n",
    "                    \"--jdbc.bigquery.input.partitioncolumn={}\".format(CHECK_PARTITION_COLUMN_LIST[table][0]),\n",
    "                    \"--jdbc.bigquery.input.lowerbound={}\".format(CHECK_PARTITION_COLUMN_LIST[table][1]),\n",
    "                    \"--jdbc.bigquery.input.upperbound={}\".format(CHECK_PARTITION_COLUMN_LIST[table][2]),\n",
    "                    \"--jdbc.bigquery.numpartitions={}\".format(CHECK_PARTITION_COLUMN_LIST[table][3])\n",
    "                ]\n",
    "            else:\n",
    "                TEMPLATE_SPARK_ARGS = [\n",
    "                    \"--template=JDBCTOBIGQUERY\",\n",
    "                    \"--jdbc.bigquery.input.url={}\".format(JDBC_URL),\n",
    "                    \"--jdbc.bigquery.input.driver={}\".format(JDBC_DRIVER),\n",
    "                    \"--jdbc.bigquery.input.table={}\".format(table),\n",
    "                    \"--jdbc.bigquery.output.mode={}\".format(BIGQUERY_MODE),\n",
    "                    \"--jdbc.bigquery.output.table={}\".format(table.split('.')[1]),\n",
    "                    \"--jdbc.bigquery.temp.bucket.name={}\".format(TEMP_GCS_BUCKET),\n",
    "                    \"--jdbc.bigquery.output.dataset={}\".format(BIGQUERY_DATASET)\n",
    "                ]\n",
    "\n",
    "            _ = DataprocPySparkBatchOp(\n",
    "                project=PROJECT_ID,\n",
    "                location=LOCATION,\n",
    "                batch_id=BATCH_ID,\n",
    "                main_python_file_uri=MAIN_PYTHON_CLASS,\n",
    "                jar_file_uris=JAR_FILE_URIS,\n",
    "                python_file_uris=PYTHON_FILE_URIS,\n",
    "                subnetwork_uri=SUBNETWORK_URI,\n",
    "                service_account=SERVICE_ACCOUNT,\n",
    "                runtime_config_version=\"1.1\", # issue 665\n",
    "                args=TEMPLATE_SPARK_ARGS\n",
    "                )\n",
    "            time.sleep(3)\n",
    "\n",
    "    compiler.Compiler().compile(pipeline_func=pipeline, package_path=\"pipeline.json\")\n",
    "\n",
    "    pipeline = aiplatform.PipelineJob(\n",
    "        display_name=\"pipeline\",\n",
    "        template_path=\"pipeline.json\",\n",
    "        pipeline_root=PIPELINE_ROOT,\n",
    "        enable_caching=False,\n",
    "        )\n",
    "    pipeline.run(service_account=SERVICE_ACCOUNT)"
   ]
  },
  {
   "cell_type": "code",
   "execution_count": 27,
   "id": "1b1511c7-b899-4862-9e27-11071167febf",
   "metadata": {
    "pycharm": {
     "name": "#%%\n"
    }
   },
   "outputs": [
    {
     "name": "stdout",
     "output_type": "stream",
     "text": [
      "['public.users']\n"
     ]
    },
    {
     "ename": "NameError",
     "evalue": "name 'PROJECT' is not defined",
     "output_type": "error",
     "traceback": [
      "\u001b[0;31m---------------------------------------------------------------------------\u001b[0m",
      "\u001b[0;31mNameError\u001b[0m                                 Traceback (most recent call last)",
      "\u001b[0;32m/var/tmp/ipykernel_22926/4134293830.py\u001b[0m in \u001b[0;36m<module>\u001b[0;34m\u001b[0m\n\u001b[1;32m      1\u001b[0m \u001b[0;32mfor\u001b[0m \u001b[0mexecution_list\u001b[0m \u001b[0;32min\u001b[0m \u001b[0mJOB_LIST\u001b[0m\u001b[0;34m:\u001b[0m\u001b[0;34m\u001b[0m\u001b[0;34m\u001b[0m\u001b[0m\n\u001b[1;32m      2\u001b[0m     \u001b[0mprint\u001b[0m\u001b[0;34m(\u001b[0m\u001b[0mexecution_list\u001b[0m\u001b[0;34m)\u001b[0m\u001b[0;34m\u001b[0m\u001b[0;34m\u001b[0m\u001b[0m\n\u001b[0;32m----> 3\u001b[0;31m     \u001b[0mmigrate_postgresql_to_bigquery\u001b[0m\u001b[0;34m(\u001b[0m\u001b[0mexecution_list\u001b[0m\u001b[0;34m)\u001b[0m\u001b[0;34m\u001b[0m\u001b[0;34m\u001b[0m\u001b[0m\n\u001b[0m",
      "\u001b[0;32m/var/tmp/ipykernel_22926/1046047080.py\u001b[0m in \u001b[0;36mmigrate_postgresql_to_bigquery\u001b[0;34m(EXECUTION_LIST)\u001b[0m\n\u001b[1;32m      1\u001b[0m \u001b[0;32mdef\u001b[0m \u001b[0mmigrate_postgresql_to_bigquery\u001b[0m\u001b[0;34m(\u001b[0m\u001b[0mEXECUTION_LIST\u001b[0m\u001b[0;34m)\u001b[0m\u001b[0;34m:\u001b[0m\u001b[0;34m\u001b[0m\u001b[0;34m\u001b[0m\u001b[0m\n\u001b[1;32m      2\u001b[0m     \u001b[0mEXECUTION_LIST\u001b[0m \u001b[0;34m=\u001b[0m \u001b[0mEXECUTION_LIST\u001b[0m\u001b[0;34m\u001b[0m\u001b[0;34m\u001b[0m\u001b[0m\n\u001b[0;32m----> 3\u001b[0;31m     \u001b[0maiplatform\u001b[0m\u001b[0;34m.\u001b[0m\u001b[0minit\u001b[0m\u001b[0;34m(\u001b[0m\u001b[0mproject\u001b[0m\u001b[0;34m=\u001b[0m\u001b[0mPROJECT\u001b[0m\u001b[0;34m,\u001b[0m\u001b[0mstaging_bucket\u001b[0m\u001b[0;34m=\u001b[0m\u001b[0mTEMP_GCS_BUCKET\u001b[0m\u001b[0;34m)\u001b[0m\u001b[0;34m\u001b[0m\u001b[0;34m\u001b[0m\u001b[0m\n\u001b[0m\u001b[1;32m      4\u001b[0m \u001b[0;34m\u001b[0m\u001b[0m\n\u001b[1;32m      5\u001b[0m     @dsl.pipeline(\n",
      "\u001b[0;31mNameError\u001b[0m: name 'PROJECT' is not defined"
     ]
    }
   ],
   "source": [
    "for execution_list in JOB_LIST:\n",
    "    print(execution_list)\n",
    "    migrate_postgresql_to_bigquery(execution_list)"
   ]
  },
  {
   "cell_type": "markdown",
   "id": "23abfd4b-3658-4108-a28a-43d9adc28fe7",
   "metadata": {
    "pycharm": {
     "name": "#%% md\n"
    }
   },
   "source": [
    "# Step 10: Get status for tables migrated from PostgreSQL to BIGQUERY"
   ]
  },
  {
   "cell_type": "code",
   "execution_count": null,
   "id": "35b11938-7875-4c15-acf4-111f7b15b3f2",
   "metadata": {
    "pycharm": {
     "name": "#%%\n"
    }
   },
   "outputs": [],
   "source": [
    "def get_bearer_token():\n",
    "    \n",
    "    try:\n",
    "        #Defining Scope\n",
    "        CREDENTIAL_SCOPES = [\"https://www.googleapis.com/auth/cloud-platform\"]\n",
    "\n",
    "        #Assigning credentials and project value\n",
    "        credentials, project_id = google.auth.default(scopes=CREDENTIAL_SCOPES)\n",
    "\n",
    "        #Refreshing credentials data\n",
    "        credentials.refresh(requests.Request())\n",
    "\n",
    "        #Get refreshed token\n",
    "        token = credentials.token\n",
    "        if token:\n",
    "            return (token,200)\n",
    "        else:\n",
    "            return \"Bearer token not generated\"\n",
    "    except Exception as error:\n",
    "        return (\"Bearer token not generated. Error : {}\".format(error),500)"
   ]
  },
  {
   "cell_type": "code",
   "execution_count": null,
   "id": "34feb439-3081-4719-90cd-320994b1422b",
   "metadata": {
    "pycharm": {
     "name": "#%%\n"
    }
   },
   "outputs": [],
   "source": [
    "from google.auth.transport import requests\n",
    "import google\n",
    "\n",
    "token = get_bearer_token()\n",
    "token = get_bearer_token()\n",
    "if token[1] == 200:\n",
    "    print(\"Bearer token generated\")\n",
    "else:\n",
    "    print(token)"
   ]
  },
  {
   "cell_type": "code",
   "execution_count": null,
   "id": "f1ffebab-b7fc-4456-a9f6-487a7b9fb18b",
   "metadata": {
    "pycharm": {
     "name": "#%%\n"
    }
   },
   "outputs": [],
   "source": [
    "import requests\n",
    "\n",
    "postgresql_to_bigquery_status = []\n",
    "job_status_url = \"https://dataproc.googleapis.com/v1/projects/{}/locations/{}/batches/{}\"\n",
    "for job in POSTGRESQL_TO_BIGQUERY_JOBS:\n",
    "    auth = \"Bearer \" + token[0]\n",
    "    url = job_status_url.format(PROJECT,REGION,job)\n",
    "    headers = {\n",
    "      'Content-Type': 'application/json; charset=UTF-8',\n",
    "      'Authorization': auth \n",
    "    }\n",
    "    response = requests.get(url, headers=headers)\n",
    "    postgresql_to_bigquery_status.append(response.json()['state'])"
   ]
  },
  {
   "cell_type": "code",
   "execution_count": null,
   "id": "6f63b7e2-ef71-4dda-a7bd-d421390f00ea",
   "metadata": {
    "pycharm": {
     "name": "#%%\n"
    }
   },
   "outputs": [],
   "source": [
    "statusDF = pd.DataFrame({\"table\" : POSTGRESQL_TABLE_LIST,\"postgresql_to_bigquery_job\" : POSTGRESQL_TO_BIGQUERY_JOBS, \"postgresql_to_bigquery_status\" : postgresql_to_bigquery_status})\n",
    "statusDF"
   ]
  },
  {
   "cell_type": "markdown",
   "id": "bd34e553-e49c-4848-8a46-df565cb5267f",
   "metadata": {
    "pycharm": {
     "name": "#%% md\n"
    }
   },
   "source": [
    "# Step 11: Validate row counts of migrated tables from SQL Server to BigQuery"
   ]
  },
  {
   "cell_type": "code",
   "execution_count": null,
   "id": "98ec2df4-a190-4e41-9c3e-d1f59cfb76e5",
   "metadata": {
    "pycharm": {
     "name": "#%%\n"
    }
   },
   "outputs": [],
   "source": [
    "postgresql_row_count = []\n",
    "bq_row_count = []"
   ]
  },
  {
   "cell_type": "code",
   "execution_count": null,
   "id": "617c5fa1-f3a2-4322-b3e9-d71e34e9e4de",
   "metadata": {
    "pycharm": {
     "name": "#%%\n"
    }
   },
   "outputs": [],
   "source": [
    "# get postgresql table counts\n",
    "DB = sqlalchemy.create_engine(\n",
    "            sqlalchemy.engine.url.URL.create(\n",
    "                drivername=PY_JDBC_DRIVER,\n",
    "                username=POSTGRESQL_USERNAME,\n",
    "                password=POSTGRESQL_PASSWORD,\n",
    "                database=POSTGRESQL_DATABASE,\n",
    "                host=POSTGRESQL_HOST,\n",
    "                port=POSTGRESQL_PORT\n",
    "              )\n",
    "            )\n",
    "\n",
    "with DB.connect() as conn:\n",
    "    for table in POSTGRESQL_TABLE_LIST:\n",
    "        results = conn.execute(text(\"select count(*) from {}\".format(table))).fetchall()\n",
    "        for row in results:\n",
    "            postgresql_row_count.append(row[0])"
   ]
  },
  {
   "cell_type": "code",
   "execution_count": null,
   "id": "3d1f4420-cd44-4e77-9df7-11bff3733eed",
   "metadata": {
    "pycharm": {
     "name": "#%%\n"
    }
   },
   "outputs": [],
   "source": [
    "from google.cloud import bigquery\n",
    "\n",
    "# Construct a BigQuery client object.\n",
    "client = bigquery.Client()\n",
    "\n",
    "for table in POSTGRESQL_TABLE_LIST:\n",
    "    results = client.query(\"SELECT row_count FROM {}.__TABLES__ where table_id = '{}'\".format(BIGQUERY_DATASET,table.split('.')[1]))\n",
    "    for row in results:\n",
    "        bq_row_count.append(row[0])"
   ]
  },
  {
   "cell_type": "code",
   "execution_count": null,
   "id": "412c823f-f574-47d3-b4c6-094858763926",
   "metadata": {
    "pycharm": {
     "name": "#%%\n"
    }
   },
   "outputs": [],
   "source": [
    "statusDF['postgresql_row_count'] = postgresql_row_count \n",
    "statusDF['bq_row_count'] = bq_row_count \n",
    "statusDF"
   ]
  },
  {
   "cell_type": "code",
   "execution_count": null,
   "id": "566836ff-5cbb-4fcf-8fca-a7f00ef97139",
   "metadata": {
    "pycharm": {
     "name": "#%%\n"
    }
   },
   "outputs": [],
   "source": []
  }
 ],
 "metadata": {
  "environment": {
   "kernel": "python3",
   "name": "common-cpu.m107",
   "type": "gcloud",
   "uri": "gcr.io/deeplearning-platform-release/base-cpu:m107"
  },
  "kernelspec": {
   "display_name": "Python 3",
   "language": "python",
   "name": "python3"
  },
  "language_info": {
   "codemirror_mode": {
    "name": "ipython",
    "version": 3
   },
   "file_extension": ".py",
   "mimetype": "text/x-python",
   "name": "python",
   "nbconvert_exporter": "python",
   "pygments_lexer": "ipython3",
   "version": "3.7.12"
  },
  "vscode": {
   "interpreter": {
    "hash": "b0fa6594d8f4cbf19f97940f81e996739fb7646882a419484c72d19e05852a7e"
   }
  }
 },
 "nbformat": 4,
 "nbformat_minor": 5
}
