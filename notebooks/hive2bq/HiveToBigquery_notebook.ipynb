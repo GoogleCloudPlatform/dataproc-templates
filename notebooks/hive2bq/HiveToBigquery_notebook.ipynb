{
 "cells": [
  {
   "cell_type": "code",
   "execution_count": null,
   "id": "a3f55fbb-2197-4038-88c5-6c896a9f071a",
   "metadata": {
    "collapsed": true,
    "jupyter": {
     "outputs_hidden": true
    },
    "pycharm": {
     "name": "#%%\n"
    }
   },
   "outputs": [],
   "source": [
    "# Copyright 2022 Google LLC\n",
    "#\n",
    "# Licensed under the Apache License, Version 2.0 (the \"License\");\n",
    "# you may not use this file except in compliance with the License.\n",
    "# You may obtain a copy of the License at\n",
    "#\n",
    "#     https://www.apache.org/licenses/LICENSE-2.0\n",
    "#\n",
    "# Unless required by applicable law or agreed to in writing, software\n",
    "# distributed under the License is distributed on an \"AS IS\" BASIS,\n",
    "# WITHOUT WARRANTIES OR CONDITIONS OF ANY KIND, either express or implied.\n",
    "# See the License for the specific language governing permissions and\n",
    "# limitations under the License."
   ]
  },
  {
   "cell_type": "markdown",
   "id": "fb9eff8d-6b63-4e8f-b369-68cbb4ef04ee",
   "metadata": {
    "pycharm": {
     "name": "#%% md\n"
    }
   },
   "source": [
    "#### References\n",
    "\n",
    "- [DataprocPySparkBatchOp reference](https://google-cloud-pipeline-components.readthedocs.io/en/google-cloud-pipeline-components-1.0.0/google_cloud_pipeline_components.experimental.dataproc.html)\n",
    "- [Kubeflow SDK Overview](https://www.kubeflow.org/docs/components/pipelines/sdk/sdk-overview/)\n",
    "- [Dataproc Serverless in Vertex AI Pipelines tutorial](https://github.com/GoogleCloudPlatform/vertex-ai-samples/blob/main/notebooks/community/ml_ops/stage3/get_started_with_dataproc_serverless_pipeline_components.ipynb)\n",
    "- [Build a Vertex AI Pipeline](https://cloud.google.com/vertex-ai/docs/pipelines/build-pipeline)\n",
    "\n",
    "This notebook is built to run a Vertex AI User-Managed Notebook using the default Compute Engine Service Account.  \n",
    "Check the Dataproc Serverless in Vertex AI Pipelines tutorial linked above to learn how to setup a different Service Account.  "
   ]
  },
  {
   "cell_type": "markdown",
   "id": "0852a764-dad3-4f3b-b0b5-a71825469fd3",
   "metadata": {
    "pycharm": {
     "name": "#%% md\n"
    }
   },
   "source": [
    "#### Permissions\n",
    "\n",
    "Make sure that the service account used to run the notebook has the following roles:\n",
    "\n",
    "- roles/aiplatform.serviceAgent\n",
    "- roles/aiplatform.customCodeServiceAgent\n",
    "- roles/storage.objectCreator\n",
    "- roles/storage.objectViewer\n",
    "- roles/dataproc.editor\n",
    "- roles/dataproc.worker"
   ]
  },
  {
   "cell_type": "markdown",
   "id": "c640fa29-1a04-4301-974d-9fcec95b7e7c",
   "metadata": {
    "pycharm": {
     "name": "#%% md\n"
    },
    "tags": []
   },
   "source": [
    "#### Step 1:\n",
    "#### Install the required packages"
   ]
  },
  {
   "cell_type": "code",
   "execution_count": 1,
   "id": "b3742b9a-143d-49fc-b43c-e56179c7f0f2",
   "metadata": {
    "collapsed": true,
    "jupyter": {
     "outputs_hidden": true
    },
    "pycharm": {
     "name": "#%%\n"
    },
    "tags": []
   },
   "outputs": [
    {
     "name": "stdout",
     "output_type": "stream",
     "text": [
      "Collecting pyspark\n",
      "  Downloading pyspark-3.4.0.tar.gz (310.8 MB)\n",
      "\u001b[2K     \u001b[90m━━━━━━━━━━━━━━━━━━━━━━━━━━━━━━━━━━━━━━━\u001b[0m \u001b[32m310.8/310.8 MB\u001b[0m \u001b[31m3.4 MB/s\u001b[0m eta \u001b[36m0:00:00\u001b[0m00:01\u001b[0m00:01\u001b[0m\n",
      "\u001b[?25h  Preparing metadata (setup.py) ... \u001b[?25ldone\n",
      "\u001b[?25hCollecting py4j==0.10.9.7\n",
      "  Downloading py4j-0.10.9.7-py2.py3-none-any.whl (200 kB)\n",
      "\u001b[2K     \u001b[90m━━━━━━━━━━━━━━━━━━━━━━━━━━━━━━━━━━━━━━\u001b[0m \u001b[32m200.5/200.5 kB\u001b[0m \u001b[31m23.5 MB/s\u001b[0m eta \u001b[36m0:00:00\u001b[0m\n",
      "\u001b[?25hBuilding wheels for collected packages: pyspark\n",
      "  Building wheel for pyspark (setup.py) ... \u001b[?25ldone\n",
      "\u001b[?25h  Created wheel for pyspark: filename=pyspark-3.4.0-py2.py3-none-any.whl size=311317130 sha256=44d8023b2e263a156398338ca1ed44e00a2cc8f3de9b8198a8e3cb2327b4497b\n",
      "  Stored in directory: /home/jupyter/.cache/pip/wheels/06/51/98/f7a41aad64c08302d6c26c90650e713c3dfeb5cdec4946db00\n",
      "Successfully built pyspark\n",
      "Installing collected packages: py4j, pyspark\n",
      "Successfully installed py4j-0.10.9.7 pyspark-3.4.0\n",
      "\u001b[33m  WARNING: The script strip-hints is installed in '/home/jupyter/.local/bin' which is not on PATH.\n",
      "  Consider adding this directory to PATH or, if you prefer to suppress this warning, use --no-warn-script-location.\u001b[0m\u001b[33m\n",
      "\u001b[0m\u001b[33m  WARNING: The scripts dsl-compile, dsl-compile-v2 and kfp are installed in '/home/jupyter/.local/bin' which is not on PATH.\n",
      "  Consider adding this directory to PATH or, if you prefer to suppress this warning, use --no-warn-script-location.\u001b[0m\u001b[33m\n",
      "\u001b[0mRequirement already satisfied: pip in /opt/conda/lib/python3.7/site-packages (23.0.1)\n",
      "Collecting install\n",
      "  Downloading install-1.3.5-py3-none-any.whl (3.2 kB)\n",
      "Collecting google-auth==2.13.0\n",
      "  Downloading google_auth-2.13.0-py2.py3-none-any.whl (174 kB)\n",
      "\u001b[2K     \u001b[90m━━━━━━━━━━━━━━━━━━━━━━━━━━━━━━━━━━━━━━━\u001b[0m \u001b[32m174.5/174.5 kB\u001b[0m \u001b[31m7.5 MB/s\u001b[0m eta \u001b[36m0:00:00\u001b[0m\n",
      "\u001b[?25hRequirement already satisfied: cachetools<6.0,>=2.0.0 in /opt/conda/lib/python3.7/site-packages (from google-auth==2.13.0) (5.3.0)\n",
      "Requirement already satisfied: pyasn1-modules>=0.2.1 in /opt/conda/lib/python3.7/site-packages (from google-auth==2.13.0) (0.2.8)\n",
      "Requirement already satisfied: rsa<5,>=3.1.4 in /opt/conda/lib/python3.7/site-packages (from google-auth==2.13.0) (4.9)\n",
      "Requirement already satisfied: six>=1.9.0 in /opt/conda/lib/python3.7/site-packages (from google-auth==2.13.0) (1.16.0)\n",
      "Requirement already satisfied: pyasn1<0.5.0,>=0.4.6 in /opt/conda/lib/python3.7/site-packages (from pyasn1-modules>=0.2.1->google-auth==2.13.0) (0.4.8)\n",
      "Installing collected packages: install, google-auth\n",
      "  Attempting uninstall: google-auth\n",
      "    Found existing installation: google-auth 2.17.2\n",
      "    Uninstalling google-auth-2.17.2:\n",
      "      Successfully uninstalled google-auth-2.17.2\n",
      "\u001b[31mERROR: Could not install packages due to an OSError: [Errno 13] Permission denied: '__init__.cpython-37.pyc'\n",
      "Consider using the `--user` option or check the permissions.\n",
      "\u001b[0m\u001b[31m\n",
      "Hit:1 http://security.debian.org/debian-security buster/updates InRelease\n",
      "Hit:2 http://deb.debian.org/debian buster InRelease                            \n",
      "Get:3 http://packages.cloud.google.com/apt gcsfuse-buster InRelease [5004 B]   \n",
      "Hit:4 http://deb.debian.org/debian buster-updates InRelease                    \n",
      "Hit:5 http://deb.debian.org/debian buster-backports InRelease                  \n",
      "Hit:6 http://packages.cloud.google.com/apt google-compute-engine-buster-stable InRelease\n",
      "Hit:7 http://packages.cloud.google.com/apt cloud-sdk-buster InRelease    \n",
      "Hit:8 https://download.docker.com/linux/debian buster InRelease\n",
      "Hit:9 https://packages.cloud.google.com/apt kubernetes-xenial InRelease\n",
      "Fetched 5004 B in 1s (4033 B/s)\n",
      "Reading package lists... Done\n",
      "Reading package lists... Done\n",
      "Building dependency tree       \n",
      "Reading state information... Done\n",
      "The following additional packages will be installed:\n",
      "  ca-certificates-java default-jdk-headless default-jre default-jre-headless\n",
      "  fonts-dejavu-extra java-common libatk-wrapper-java libatk-wrapper-java-jni\n",
      "  libgail-common libgail18 libgtk2.0-0 libgtk2.0-bin libgtk2.0-common\n",
      "  libice-dev libnspr4 libnss3 libpcsclite1 libpthread-stubs0-dev libsm-dev\n",
      "  libx11-dev libxau-dev libxcb1-dev libxdmcp-dev libxt-dev openjdk-11-jdk\n",
      "  openjdk-11-jdk-headless openjdk-11-jre openjdk-11-jre-headless\n",
      "  x11proto-core-dev x11proto-dev xorg-sgml-doctools xtrans-dev\n",
      "Suggested packages:\n",
      "  gvfs libice-doc pcscd libsm-doc libx11-doc libxcb-doc libxt-doc\n",
      "  openjdk-11-demo openjdk-11-source visualvm libnss-mdns fonts-ipafont-gothic\n",
      "  fonts-ipafont-mincho fonts-wqy-microhei | fonts-wqy-zenhei fonts-indic\n",
      "The following NEW packages will be installed:\n",
      "  ca-certificates-java default-jdk default-jdk-headless default-jre\n",
      "  default-jre-headless fonts-dejavu-extra java-common libatk-wrapper-java\n",
      "  libatk-wrapper-java-jni libgail-common libgail18 libgtk2.0-0 libgtk2.0-bin\n",
      "  libgtk2.0-common libice-dev libnspr4 libnss3 libpcsclite1\n",
      "  libpthread-stubs0-dev libsm-dev libx11-dev libxau-dev libxcb1-dev\n",
      "  libxdmcp-dev libxt-dev openjdk-11-jdk openjdk-11-jdk-headless openjdk-11-jre\n",
      "  openjdk-11-jre-headless x11proto-core-dev x11proto-dev xorg-sgml-doctools\n",
      "  xtrans-dev\n",
      "0 upgraded, 33 newly installed, 0 to remove and 17 not upgraded.\n",
      "Need to get 276 MB of archives.\n",
      "After this operation, 457 MB of additional disk space will be used.\n",
      "Get:1 http://security.debian.org/debian-security buster/updates/main amd64 libnss3 amd64 2:3.42.1-1+deb10u6 [1245 kB]\n",
      "Get:2 http://deb.debian.org/debian buster/main amd64 java-common all 0.71 [14.4 kB]\n",
      "Get:3 http://deb.debian.org/debian buster/main amd64 libnspr4 amd64 2:4.20-1 [112 kB]\n",
      "Get:4 http://deb.debian.org/debian buster/main amd64 libpcsclite1 amd64 1.8.24-1 [58.5 kB]\n",
      "Get:5 http://deb.debian.org/debian buster/main amd64 default-jre-headless amd64 2:1.11-71 [10.9 kB]\n",
      "Get:6 http://deb.debian.org/debian buster/main amd64 ca-certificates-java all 20190405 [15.7 kB]\n",
      "Get:7 http://deb.debian.org/debian buster/main amd64 default-jre amd64 2:1.11-71 [1044 B]\n",
      "Get:8 http://deb.debian.org/debian buster/main amd64 default-jdk-headless amd64 2:1.11-71 [1104 B]\n",
      "Get:9 http://deb.debian.org/debian buster/main amd64 default-jdk amd64 2:1.11-71 [1056 B]\n",
      "Get:10 http://deb.debian.org/debian buster/main amd64 fonts-dejavu-extra all 2.37-1 [1982 kB]\n",
      "Get:11 http://deb.debian.org/debian buster/main amd64 libatk-wrapper-java all 0.33.3-22+deb10u1 [45.5 kB]\n",
      "Get:12 http://deb.debian.org/debian buster/main amd64 libgtk2.0-common all 2.24.32-3 [2698 kB]\n",
      "Get:13 http://security.debian.org/debian-security buster/updates/main amd64 openjdk-11-jre-headless amd64 11.0.18+10-1~deb10u1 [37.3 MB]\n",
      "Get:14 http://deb.debian.org/debian buster/main amd64 libgtk2.0-0 amd64 2.24.32-3 [1809 kB]\n",
      "Get:15 http://deb.debian.org/debian buster/main amd64 libatk-wrapper-java-jni amd64 0.33.3-22+deb10u1 [39.5 kB]\n",
      "Get:16 http://deb.debian.org/debian buster/main amd64 libgail18 amd64 2.24.32-3 [55.5 kB]\n",
      "Get:17 http://deb.debian.org/debian buster/main amd64 libgail-common amd64 2.24.32-3 [156 kB]\n",
      "Get:18 http://deb.debian.org/debian buster/main amd64 libgtk2.0-bin amd64 2.24.32-3 [48.5 kB]\n",
      "Get:19 http://deb.debian.org/debian buster/main amd64 xorg-sgml-doctools all 1:1.11-1 [21.9 kB]\n",
      "Get:20 http://deb.debian.org/debian buster/main amd64 x11proto-dev all 2018.4-4 [251 kB]\n",
      "Get:21 http://deb.debian.org/debian buster/main amd64 x11proto-core-dev all 2018.4-4 [3128 B]\n",
      "Get:22 http://deb.debian.org/debian buster/main amd64 libice-dev amd64 2:1.0.9-2 [66.8 kB]\n",
      "Get:23 http://deb.debian.org/debian buster/main amd64 libpthread-stubs0-dev amd64 0.4-1 [5344 B]\n",
      "Get:24 http://deb.debian.org/debian buster/main amd64 libsm-dev amd64 2:1.2.3-1 [38.0 kB]\n",
      "Get:25 http://deb.debian.org/debian buster/main amd64 libxau-dev amd64 1:1.0.8-1+b2 [23.1 kB]\n",
      "Get:26 http://deb.debian.org/debian buster/main amd64 libxdmcp-dev amd64 1:1.1.2-3 [42.2 kB]\n",
      "Get:27 http://deb.debian.org/debian buster/main amd64 xtrans-dev all 1.3.5-1 [100 kB]\n",
      "Get:28 http://deb.debian.org/debian buster/main amd64 libxcb1-dev amd64 1.13.1-2 [174 kB]\n",
      "Get:29 http://deb.debian.org/debian buster/main amd64 libx11-dev amd64 2:1.6.7-1+deb10u2 [825 kB]\n",
      "Get:30 http://deb.debian.org/debian buster/main amd64 libxt-dev amd64 1:1.1.5-1+b3 [426 kB]\n",
      "Get:31 http://security.debian.org/debian-security buster/updates/main amd64 openjdk-11-jre amd64 11.0.18+10-1~deb10u1 [174 kB]\n",
      "Get:32 http://security.debian.org/debian-security buster/updates/main amd64 openjdk-11-jdk-headless amd64 11.0.18+10-1~deb10u1 [221 MB]\n",
      "Get:33 http://security.debian.org/debian-security buster/updates/main amd64 openjdk-11-jdk amd64 11.0.18+10-1~deb10u1 [7135 kB]\n",
      "Fetched 276 MB in 4s (64.8 MB/s)          \n",
      "Extracting templates from packages: 100%\n",
      "Selecting previously unselected package java-common.\n",
      "(Reading database ... 124194 files and directories currently installed.)\n",
      "Preparing to unpack .../00-java-common_0.71_all.deb ...\n",
      "Unpacking java-common (0.71) ...\n",
      "Selecting previously unselected package libnspr4:amd64.\n",
      "Preparing to unpack .../01-libnspr4_2%3a4.20-1_amd64.deb ...\n",
      "Unpacking libnspr4:amd64 (2:4.20-1) ...\n",
      "Selecting previously unselected package libnss3:amd64.\n",
      "Preparing to unpack .../02-libnss3_2%3a3.42.1-1+deb10u6_amd64.deb ...\n",
      "Unpacking libnss3:amd64 (2:3.42.1-1+deb10u6) ...\n",
      "Selecting previously unselected package libpcsclite1:amd64.\n",
      "Preparing to unpack .../03-libpcsclite1_1.8.24-1_amd64.deb ...\n",
      "Unpacking libpcsclite1:amd64 (1.8.24-1) ...\n",
      "Selecting previously unselected package openjdk-11-jre-headless:amd64.\n",
      "Preparing to unpack .../04-openjdk-11-jre-headless_11.0.18+10-1~deb10u1_amd64.deb ...\n",
      "Unpacking openjdk-11-jre-headless:amd64 (11.0.18+10-1~deb10u1) ...\n",
      "Selecting previously unselected package default-jre-headless.\n",
      "Preparing to unpack .../05-default-jre-headless_2%3a1.11-71_amd64.deb ...\n",
      "Unpacking default-jre-headless (2:1.11-71) ...\n",
      "Selecting previously unselected package ca-certificates-java.\n",
      "Preparing to unpack .../06-ca-certificates-java_20190405_all.deb ...\n",
      "Unpacking ca-certificates-java (20190405) ...\n",
      "Selecting previously unselected package openjdk-11-jre:amd64.\n",
      "Preparing to unpack .../07-openjdk-11-jre_11.0.18+10-1~deb10u1_amd64.deb ...\n",
      "Unpacking openjdk-11-jre:amd64 (11.0.18+10-1~deb10u1) ...\n",
      "Selecting previously unselected package default-jre.\n",
      "Preparing to unpack .../08-default-jre_2%3a1.11-71_amd64.deb ...\n",
      "Unpacking default-jre (2:1.11-71) ...\n",
      "Selecting previously unselected package openjdk-11-jdk-headless:amd64.\n",
      "Preparing to unpack .../09-openjdk-11-jdk-headless_11.0.18+10-1~deb10u1_amd64.deb ...\n",
      "Unpacking openjdk-11-jdk-headless:amd64 (11.0.18+10-1~deb10u1) ...\n",
      "Selecting previously unselected package default-jdk-headless.\n",
      "Preparing to unpack .../10-default-jdk-headless_2%3a1.11-71_amd64.deb ...\n",
      "Unpacking default-jdk-headless (2:1.11-71) ...\n",
      "Selecting previously unselected package openjdk-11-jdk:amd64.\n",
      "Preparing to unpack .../11-openjdk-11-jdk_11.0.18+10-1~deb10u1_amd64.deb ...\n",
      "Unpacking openjdk-11-jdk:amd64 (11.0.18+10-1~deb10u1) ...\n",
      "Selecting previously unselected package default-jdk.\n",
      "Preparing to unpack .../12-default-jdk_2%3a1.11-71_amd64.deb ...\n",
      "Unpacking default-jdk (2:1.11-71) ...\n",
      "Selecting previously unselected package fonts-dejavu-extra.\n",
      "Preparing to unpack .../13-fonts-dejavu-extra_2.37-1_all.deb ...\n",
      "Unpacking fonts-dejavu-extra (2.37-1) ...\n",
      "Selecting previously unselected package libatk-wrapper-java.\n",
      "Preparing to unpack .../14-libatk-wrapper-java_0.33.3-22+deb10u1_all.deb ...\n",
      "Unpacking libatk-wrapper-java (0.33.3-22+deb10u1) ...\n",
      "Selecting previously unselected package libgtk2.0-common.\n",
      "Preparing to unpack .../15-libgtk2.0-common_2.24.32-3_all.deb ...\n",
      "Unpacking libgtk2.0-common (2.24.32-3) ...\n",
      "Selecting previously unselected package libgtk2.0-0:amd64.\n",
      "Preparing to unpack .../16-libgtk2.0-0_2.24.32-3_amd64.deb ...\n",
      "Unpacking libgtk2.0-0:amd64 (2.24.32-3) ...\n",
      "Selecting previously unselected package libatk-wrapper-java-jni:amd64.\n",
      "Preparing to unpack .../17-libatk-wrapper-java-jni_0.33.3-22+deb10u1_amd64.deb ...\n",
      "Unpacking libatk-wrapper-java-jni:amd64 (0.33.3-22+deb10u1) ...\n",
      "Selecting previously unselected package libgail18:amd64.\n",
      "Preparing to unpack .../18-libgail18_2.24.32-3_amd64.deb ...\n",
      "Unpacking libgail18:amd64 (2.24.32-3) ...\n",
      "Selecting previously unselected package libgail-common:amd64.\n",
      "Preparing to unpack .../19-libgail-common_2.24.32-3_amd64.deb ...\n",
      "Unpacking libgail-common:amd64 (2.24.32-3) ...\n",
      "Selecting previously unselected package libgtk2.0-bin.\n",
      "Preparing to unpack .../20-libgtk2.0-bin_2.24.32-3_amd64.deb ...\n",
      "Unpacking libgtk2.0-bin (2.24.32-3) ...\n",
      "Selecting previously unselected package xorg-sgml-doctools.\n",
      "Preparing to unpack .../21-xorg-sgml-doctools_1%3a1.11-1_all.deb ...\n",
      "Unpacking xorg-sgml-doctools (1:1.11-1) ...\n",
      "Selecting previously unselected package x11proto-dev.\n",
      "Preparing to unpack .../22-x11proto-dev_2018.4-4_all.deb ...\n",
      "Unpacking x11proto-dev (2018.4-4) ...\n",
      "Selecting previously unselected package x11proto-core-dev.\n",
      "Preparing to unpack .../23-x11proto-core-dev_2018.4-4_all.deb ...\n",
      "Unpacking x11proto-core-dev (2018.4-4) ...\n",
      "Selecting previously unselected package libice-dev:amd64.\n",
      "Preparing to unpack .../24-libice-dev_2%3a1.0.9-2_amd64.deb ...\n",
      "Unpacking libice-dev:amd64 (2:1.0.9-2) ...\n",
      "Selecting previously unselected package libpthread-stubs0-dev:amd64.\n",
      "Preparing to unpack .../25-libpthread-stubs0-dev_0.4-1_amd64.deb ...\n",
      "Unpacking libpthread-stubs0-dev:amd64 (0.4-1) ...\n",
      "Selecting previously unselected package libsm-dev:amd64.\n",
      "Preparing to unpack .../26-libsm-dev_2%3a1.2.3-1_amd64.deb ...\n",
      "Unpacking libsm-dev:amd64 (2:1.2.3-1) ...\n",
      "Selecting previously unselected package libxau-dev:amd64.\n",
      "Preparing to unpack .../27-libxau-dev_1%3a1.0.8-1+b2_amd64.deb ...\n",
      "Unpacking libxau-dev:amd64 (1:1.0.8-1+b2) ...\n",
      "Selecting previously unselected package libxdmcp-dev:amd64.\n",
      "Preparing to unpack .../28-libxdmcp-dev_1%3a1.1.2-3_amd64.deb ...\n",
      "Unpacking libxdmcp-dev:amd64 (1:1.1.2-3) ...\n",
      "Selecting previously unselected package xtrans-dev.\n",
      "Preparing to unpack .../29-xtrans-dev_1.3.5-1_all.deb ...\n",
      "Unpacking xtrans-dev (1.3.5-1) ...\n",
      "Selecting previously unselected package libxcb1-dev:amd64.\n",
      "Preparing to unpack .../30-libxcb1-dev_1.13.1-2_amd64.deb ...\n",
      "Unpacking libxcb1-dev:amd64 (1.13.1-2) ...\n",
      "Selecting previously unselected package libx11-dev:amd64.\n",
      "Preparing to unpack .../31-libx11-dev_2%3a1.6.7-1+deb10u2_amd64.deb ...\n",
      "Unpacking libx11-dev:amd64 (2:1.6.7-1+deb10u2) ...\n",
      "Selecting previously unselected package libxt-dev:amd64.\n",
      "Preparing to unpack .../32-libxt-dev_1%3a1.1.5-1+b3_amd64.deb ...\n",
      "Unpacking libxt-dev:amd64 (1:1.1.5-1+b3) ...\n",
      "Setting up java-common (0.71) ...\n",
      "Setting up libpthread-stubs0-dev:amd64 (0.4-1) ...\n",
      "Setting up xtrans-dev (1.3.5-1) ...\n",
      "Setting up libnspr4:amd64 (2:4.20-1) ...\n",
      "Setting up libpcsclite1:amd64 (1.8.24-1) ...\n",
      "Setting up fonts-dejavu-extra (2.37-1) ...\n",
      "Setting up xorg-sgml-doctools (1:1.11-1) ...\n",
      "Setting up libgtk2.0-common (2.24.32-3) ...\n",
      "Setting up libatk-wrapper-java (0.33.3-22+deb10u1) ...\n",
      "Setting up x11proto-dev (2018.4-4) ...\n",
      "Setting up libxau-dev:amd64 (1:1.0.8-1+b2) ...\n",
      "Setting up libice-dev:amd64 (2:1.0.9-2) ...\n",
      "Setting up libsm-dev:amd64 (2:1.2.3-1) ...\n",
      "Setting up libgtk2.0-0:amd64 (2.24.32-3) ...\n",
      "Setting up libnss3:amd64 (2:3.42.1-1+deb10u6) ...\n",
      "Setting up libatk-wrapper-java-jni:amd64 (0.33.3-22+deb10u1) ...\n",
      "Setting up libxdmcp-dev:amd64 (1:1.1.2-3) ...\n",
      "Setting up x11proto-core-dev (2018.4-4) ...\n",
      "Setting up libgail18:amd64 (2.24.32-3) ...\n",
      "Setting up libgtk2.0-bin (2.24.32-3) ...\n",
      "Setting up libxcb1-dev:amd64 (1.13.1-2) ...\n",
      "Setting up libgail-common:amd64 (2.24.32-3) ...\n",
      "Setting up libx11-dev:amd64 (2:1.6.7-1+deb10u2) ...\n",
      "Setting up libxt-dev:amd64 (1:1.1.5-1+b3) ...\n",
      "Setting up default-jre-headless (2:1.11-71) ...\n",
      "Setting up openjdk-11-jre-headless:amd64 (11.0.18+10-1~deb10u1) ...\n",
      "update-alternatives: using /usr/lib/jvm/java-11-openjdk-amd64/bin/java to provide /usr/bin/java (java) in auto mode\n",
      "update-alternatives: using /usr/lib/jvm/java-11-openjdk-amd64/bin/jjs to provide /usr/bin/jjs (jjs) in auto mode\n",
      "update-alternatives: using /usr/lib/jvm/java-11-openjdk-amd64/bin/keytool to provide /usr/bin/keytool (keytool) in auto mode\n",
      "update-alternatives: using /usr/lib/jvm/java-11-openjdk-amd64/bin/rmid to provide /usr/bin/rmid (rmid) in auto mode\n",
      "update-alternatives: using /usr/lib/jvm/java-11-openjdk-amd64/bin/rmiregistry to provide /usr/bin/rmiregistry (rmiregistry) in auto mode\n",
      "update-alternatives: using /usr/lib/jvm/java-11-openjdk-amd64/bin/pack200 to provide /usr/bin/pack200 (pack200) in auto mode\n",
      "update-alternatives: using /usr/lib/jvm/java-11-openjdk-amd64/bin/unpack200 to provide /usr/bin/unpack200 (unpack200) in auto mode\n",
      "update-alternatives: using /usr/lib/jvm/java-11-openjdk-amd64/lib/jexec to provide /usr/bin/jexec (jexec) in auto mode\n",
      "Setting up openjdk-11-jre:amd64 (11.0.18+10-1~deb10u1) ...\n",
      "Setting up openjdk-11-jdk-headless:amd64 (11.0.18+10-1~deb10u1) ...\n",
      "update-alternatives: using /usr/lib/jvm/java-11-openjdk-amd64/bin/jar to provide /usr/bin/jar (jar) in auto mode\n",
      "update-alternatives: using /usr/lib/jvm/java-11-openjdk-amd64/bin/jarsigner to provide /usr/bin/jarsigner (jarsigner) in auto mode\n",
      "update-alternatives: using /usr/lib/jvm/java-11-openjdk-amd64/bin/javac to provide /usr/bin/javac (javac) in auto mode\n",
      "update-alternatives: using /usr/lib/jvm/java-11-openjdk-amd64/bin/javadoc to provide /usr/bin/javadoc (javadoc) in auto mode\n",
      "update-alternatives: using /usr/lib/jvm/java-11-openjdk-amd64/bin/javap to provide /usr/bin/javap (javap) in auto mode\n",
      "update-alternatives: using /usr/lib/jvm/java-11-openjdk-amd64/bin/jcmd to provide /usr/bin/jcmd (jcmd) in auto mode\n",
      "update-alternatives: using /usr/lib/jvm/java-11-openjdk-amd64/bin/jdb to provide /usr/bin/jdb (jdb) in auto mode\n",
      "update-alternatives: using /usr/lib/jvm/java-11-openjdk-amd64/bin/jdeprscan to provide /usr/bin/jdeprscan (jdeprscan) in auto mode\n",
      "update-alternatives: using /usr/lib/jvm/java-11-openjdk-amd64/bin/jdeps to provide /usr/bin/jdeps (jdeps) in auto mode\n",
      "update-alternatives: using /usr/lib/jvm/java-11-openjdk-amd64/bin/jfr to provide /usr/bin/jfr (jfr) in auto mode\n",
      "update-alternatives: using /usr/lib/jvm/java-11-openjdk-amd64/bin/jimage to provide /usr/bin/jimage (jimage) in auto mode\n",
      "update-alternatives: using /usr/lib/jvm/java-11-openjdk-amd64/bin/jinfo to provide /usr/bin/jinfo (jinfo) in auto mode\n",
      "update-alternatives: using /usr/lib/jvm/java-11-openjdk-amd64/bin/jlink to provide /usr/bin/jlink (jlink) in auto mode\n",
      "update-alternatives: using /usr/lib/jvm/java-11-openjdk-amd64/bin/jmap to provide /usr/bin/jmap (jmap) in auto mode\n",
      "update-alternatives: using /usr/lib/jvm/java-11-openjdk-amd64/bin/jmod to provide /usr/bin/jmod (jmod) in auto mode\n",
      "update-alternatives: using /usr/lib/jvm/java-11-openjdk-amd64/bin/jps to provide /usr/bin/jps (jps) in auto mode\n",
      "update-alternatives: using /usr/lib/jvm/java-11-openjdk-amd64/bin/jrunscript to provide /usr/bin/jrunscript (jrunscript) in auto mode\n",
      "update-alternatives: using /usr/lib/jvm/java-11-openjdk-amd64/bin/jshell to provide /usr/bin/jshell (jshell) in auto mode\n",
      "update-alternatives: using /usr/lib/jvm/java-11-openjdk-amd64/bin/jstack to provide /usr/bin/jstack (jstack) in auto mode\n",
      "update-alternatives: using /usr/lib/jvm/java-11-openjdk-amd64/bin/jstat to provide /usr/bin/jstat (jstat) in auto mode\n",
      "update-alternatives: using /usr/lib/jvm/java-11-openjdk-amd64/bin/jstatd to provide /usr/bin/jstatd (jstatd) in auto mode\n",
      "update-alternatives: using /usr/lib/jvm/java-11-openjdk-amd64/bin/rmic to provide /usr/bin/rmic (rmic) in auto mode\n",
      "update-alternatives: using /usr/lib/jvm/java-11-openjdk-amd64/bin/serialver to provide /usr/bin/serialver (serialver) in auto mode\n",
      "update-alternatives: using /usr/lib/jvm/java-11-openjdk-amd64/bin/jaotc to provide /usr/bin/jaotc (jaotc) in auto mode\n",
      "update-alternatives: using /usr/lib/jvm/java-11-openjdk-amd64/bin/jhsdb to provide /usr/bin/jhsdb (jhsdb) in auto mode\n",
      "Setting up default-jre (2:1.11-71) ...\n",
      "Setting up default-jdk-headless (2:1.11-71) ...\n",
      "Setting up openjdk-11-jdk:amd64 (11.0.18+10-1~deb10u1) ...\n",
      "update-alternatives: using /usr/lib/jvm/java-11-openjdk-amd64/bin/jconsole to provide /usr/bin/jconsole (jconsole) in auto mode\n",
      "Setting up ca-certificates-java (20190405) ...\n",
      "head: cannot open '/etc/ssl/certs/java/cacerts' for reading: No such file or directory\n",
      "Adding debian:COMODO_RSA_Certification_Authority.pem\n",
      "Adding debian:Buypass_Class_3_Root_CA.pem\n",
      "Adding debian:DigiCert_Global_Root_CA.pem\n",
      "Adding debian:GTS_Root_R2.pem\n",
      "Adding debian:SecureTrust_CA.pem\n",
      "Adding debian:Starfield_Class_2_CA.pem\n",
      "Adding debian:GlobalSign_Root_CA_-_R2.pem\n",
      "Adding debian:Hellenic_Academic_and_Research_Institutions_ECC_RootCA_2015.pem\n",
      "Adding debian:EC-ACC.pem\n",
      "Adding debian:SSL.com_Root_Certification_Authority_ECC.pem\n",
      "Adding debian:XRamp_Global_CA_Root.pem\n",
      "Adding debian:thawte_Primary_Root_CA_-_G2.pem\n",
      "Adding debian:OISTE_WISeKey_Global_Root_GC_CA.pem\n",
      "Adding debian:Go_Daddy_Root_Certificate_Authority_-_G2.pem\n",
      "Adding debian:D-TRUST_Root_Class_3_CA_2_2009.pem\n",
      "Adding debian:TeliaSonera_Root_CA_v1.pem\n",
      "Adding debian:E-Tugra_Certification_Authority.pem\n",
      "Adding debian:USERTrust_ECC_Certification_Authority.pem\n",
      "Adding debian:AffirmTrust_Premium_ECC.pem\n",
      "Adding debian:GeoTrust_Primary_Certification_Authority_-_G3.pem\n",
      "Adding debian:emSign_ECC_Root_CA_-_C3.pem\n",
      "Adding debian:Network_Solutions_Certificate_Authority.pem\n",
      "Adding debian:thawte_Primary_Root_CA_-_G3.pem\n",
      "Adding debian:COMODO_ECC_Certification_Authority.pem\n",
      "Adding debian:VeriSign_Class_3_Public_Primary_Certification_Authority_-_G5.pem\n",
      "Adding debian:DigiCert_Assured_ID_Root_G3.pem\n",
      "Adding debian:GeoTrust_Universal_CA_2.pem\n",
      "Adding debian:GTS_Root_R3.pem\n",
      "Adding debian:SecureSign_RootCA11.pem\n",
      "Adding debian:OISTE_WISeKey_Global_Root_GB_CA.pem\n",
      "Adding debian:Staat_der_Nederlanden_Root_CA_-_G3.pem\n",
      "Adding debian:Certigna.pem\n",
      "Adding debian:OISTE_WISeKey_Global_Root_GA_CA.pem\n",
      "Adding debian:Verisign_Class_3_Public_Primary_Certification_Authority_-_G3.pem\n",
      "Adding debian:NetLock_Arany_=Class_Gold=_Főtanúsítvány.pem\n",
      "Adding debian:Secure_Global_CA.pem\n",
      "Adding debian:CA_Disig_Root_R2.pem\n",
      "Adding debian:SwissSign_Silver_CA_-_G2.pem\n",
      "Adding debian:QuoVadis_Root_CA_3.pem\n",
      "Adding debian:Izenpe.com.pem\n",
      "Adding debian:UCA_Extended_Validation_Root.pem\n",
      "Adding debian:GTS_Root_R1.pem\n",
      "Adding debian:IdenTrust_Public_Sector_Root_CA_1.pem\n",
      "Adding debian:Taiwan_GRCA.pem\n",
      "Adding debian:T-TeleSec_GlobalRoot_Class_2.pem\n",
      "Adding debian:DigiCert_Global_Root_G3.pem\n",
      "Adding debian:Buypass_Class_2_Root_CA.pem\n",
      "Adding debian:Certigna_Root_CA.pem\n",
      "Adding debian:TrustCor_ECA-1.pem\n",
      "Adding debian:QuoVadis_Root_CA_3_G3.pem\n",
      "Adding debian:VeriSign_Class_3_Public_Primary_Certification_Authority_-_G4.pem\n",
      "Adding debian:Staat_der_Nederlanden_EV_Root_CA.pem\n",
      "Adding debian:Security_Communication_Root_CA.pem\n",
      "Adding debian:AffirmTrust_Networking.pem\n",
      "Adding debian:QuoVadis_Root_CA.pem\n",
      "Adding debian:ISRG_Root_X1.pem\n",
      "Adding debian:Amazon_Root_CA_2.pem\n",
      "Adding debian:ePKI_Root_Certification_Authority.pem\n",
      "Adding debian:emSign_Root_CA_-_G1.pem\n",
      "Adding debian:COMODO_Certification_Authority.pem\n",
      "Adding debian:Go_Daddy_Class_2_CA.pem\n",
      "Adding debian:QuoVadis_Root_CA_2.pem\n",
      "Adding debian:GlobalSign_Root_CA_-_R3.pem\n",
      "Adding debian:Entrust_Root_Certification_Authority_-_EC1.pem\n",
      "Adding debian:Starfield_Root_Certificate_Authority_-_G2.pem\n",
      "Adding debian:LuxTrust_Global_Root_2.pem\n",
      "Adding debian:Comodo_AAA_Services_root.pem\n",
      "Adding debian:Chambers_of_Commerce_Root_-_2008.pem\n",
      "Adding debian:TrustCor_RootCert_CA-1.pem\n",
      "Adding debian:Global_Chambersign_Root_-_2008.pem\n",
      "Adding debian:T-TeleSec_GlobalRoot_Class_3.pem\n",
      "Adding debian:Entrust_Root_Certification_Authority_-_G2.pem\n",
      "Adding debian:GlobalSign_Root_CA.pem\n",
      "Adding debian:EE_Certification_Centre_Root_CA.pem\n",
      "Adding debian:SSL.com_EV_Root_Certification_Authority_RSA_R2.pem\n",
      "Adding debian:TWCA_Root_Certification_Authority.pem\n",
      "Adding debian:DigiCert_Assured_ID_Root_G2.pem\n",
      "Adding debian:TrustCor_RootCert_CA-2.pem\n",
      "Adding debian:Actalis_Authentication_Root_CA.pem\n",
      "Adding debian:SSL.com_EV_Root_Certification_Authority_ECC.pem\n",
      "Adding debian:Entrust_Root_Certification_Authority.pem\n",
      "Adding debian:UCA_Global_G2_Root.pem\n",
      "Adding debian:certSIGN_ROOT_CA.pem\n",
      "Adding debian:Amazon_Root_CA_1.pem\n",
      "Adding debian:emSign_ECC_Root_CA_-_G3.pem\n",
      "Adding debian:DigiCert_Assured_ID_Root_CA.pem\n",
      "Adding debian:DigiCert_Trusted_Root_G4.pem\n",
      "Adding debian:DST_Root_CA_X3.pem\n",
      "Adding debian:Staat_der_Nederlanden_Root_CA_-_G2.pem\n",
      "Adding debian:Amazon_Root_CA_3.pem\n",
      "Adding debian:ACCVRAIZ1.pem\n",
      "Adding debian:DigiCert_High_Assurance_EV_Root_CA.pem\n",
      "Adding debian:GeoTrust_Universal_CA.pem\n",
      "Adding debian:SSL.com_Root_Certification_Authority_RSA.pem\n",
      "Adding debian:Certum_Trusted_Network_CA.pem\n",
      "Adding debian:Hongkong_Post_Root_CA_1.pem\n",
      "Adding debian:CFCA_EV_ROOT.pem\n",
      "Adding debian:Starfield_Services_Root_Certificate_Authority_-_G2.pem\n",
      "Adding debian:TUBITAK_Kamu_SM_SSL_Kok_Sertifikasi_-_Surum_1.pem\n",
      "Adding debian:GeoTrust_Global_CA.pem\n",
      "Adding debian:AC_RAIZ_FNMT-RCM.pem\n",
      "Adding debian:Trustis_FPS_Root_CA.pem\n",
      "Adding debian:QuoVadis_Root_CA_2_G3.pem\n",
      "Adding debian:D-TRUST_Root_Class_3_CA_2_EV_2009.pem\n",
      "Adding debian:Amazon_Root_CA_4.pem\n",
      "Adding debian:Entrust_Root_Certification_Authority_-_G4.pem\n",
      "Adding debian:Atos_TrustedRoot_2011.pem\n",
      "Adding debian:Autoridad_de_Certificacion_Firmaprofesional_CIF_A62634068.pem\n",
      "Adding debian:QuoVadis_Root_CA_1_G3.pem\n",
      "Adding debian:GlobalSign_ECC_Root_CA_-_R4.pem\n",
      "Adding debian:GeoTrust_Primary_Certification_Authority_-_G2.pem\n",
      "Adding debian:VeriSign_Universal_Root_Certification_Authority.pem\n",
      "Adding debian:IdenTrust_Commercial_Root_CA_1.pem\n",
      "Adding debian:Security_Communication_RootCA2.pem\n",
      "Adding debian:GlobalSign_ECC_Root_CA_-_R5.pem\n",
      "Adding debian:Hellenic_Academic_and_Research_Institutions_RootCA_2015.pem\n",
      "Adding debian:GDCA_TrustAUTH_R5_ROOT.pem\n",
      "Adding debian:DigiCert_Global_Root_G2.pem\n",
      "Adding debian:Cybertrust_Global_Root.pem\n",
      "Adding debian:thawte_Primary_Root_CA.pem\n",
      "Adding debian:GlobalSign_Root_CA_-_R6.pem\n",
      "Adding debian:USERTrust_RSA_Certification_Authority.pem\n",
      "Adding debian:AffirmTrust_Commercial.pem\n",
      "Adding debian:TWCA_Global_Root_CA.pem\n",
      "Adding debian:Entrust.net_Premium_2048_Secure_Server_CA.pem\n",
      "Adding debian:GTS_Root_R4.pem\n",
      "Adding debian:SZAFIR_ROOT_CA2.pem\n",
      "Adding debian:AffirmTrust_Premium.pem\n",
      "Adding debian:Microsec_e-Szigno_Root_CA_2009.pem\n",
      "Adding debian:SwissSign_Gold_CA_-_G2.pem\n",
      "Adding debian:Sonera_Class_2_Root_CA.pem\n",
      "Adding debian:Baltimore_CyberTrust_Root.pem\n",
      "Adding debian:Hongkong_Post_Root_CA_3.pem\n",
      "Adding debian:Hellenic_Academic_and_Research_Institutions_RootCA_2011.pem\n",
      "Adding debian:emSign_Root_CA_-_C1.pem\n",
      "Adding debian:Certum_Trusted_Network_CA_2.pem\n",
      "Adding debian:GeoTrust_Primary_Certification_Authority.pem\n",
      "done.\n",
      "Setting up default-jdk (2:1.11-71) ...\n",
      "Processing triggers for man-db (2.8.5-2) ...\n",
      "Processing triggers for ca-certificates (20200601~deb10u2) ...\n",
      "Updating certificates in /etc/ssl/certs...\n",
      "0 added, 0 removed; done.\n",
      "Running hooks in /etc/ca-certificates/update.d...\n",
      "\n",
      "done.\n",
      "done.\n",
      "Processing triggers for fontconfig (2.13.1-2) ...\n",
      "Processing triggers for mime-support (3.62) ...\n",
      "Processing triggers for hicolor-icon-theme (0.17-2) ...\n",
      "Processing triggers for libc-bin (2.28-10+deb10u2) ...\n"
     ]
    }
   ],
   "source": [
    "# Google Cloud notebooks requires dependencies to be installed with '--user'\n",
    "! pip3 install pyspark\n",
    "! pip3 install --upgrade google-cloud-pipeline-components kfp --user -q\n",
    "! pip3 install pip install google-auth==2.13.0\n",
    "! pip3 install --upgrade google-cloud-bigquery-migration\n",
    "\n",
    "# Install latest JDK\n",
    "! sudo apt-get update\n",
    "! sudo apt-get install default-jdk -y"
   ]
  },
  {
   "cell_type": "markdown",
   "id": "58552a67-9012-4ba9-82e9-d34299cd6d15",
   "metadata": {
    "pycharm": {
     "name": "#%% md\n"
    }
   },
   "source": [
    "#### Once you've installed the additional packages, you may need to restart the notebook kernel so it can find the packages.\n",
    "\n",
    "Uncomment & Run this cell if you have installed anything from above commands"
   ]
  },
  {
   "cell_type": "code",
   "execution_count": null,
   "id": "01c19b5e-e7d9-416f-ad12-edc19b6877e6",
   "metadata": {
    "collapsed": true,
    "jupyter": {
     "outputs_hidden": true
    },
    "pycharm": {
     "name": "#%%\n"
    }
   },
   "outputs": [],
   "source": [
    "# import os\n",
    "\n",
    "# if not os.getenv(\"IS_TESTING\"):\n",
    "#    import IPython\n",
    "#    app = IPython.Application.instance()\n",
    "#    app.kernel.do_shutdown(True)"
   ]
  },
  {
   "cell_type": "markdown",
   "id": "7a2fa95e-b745-4649-8040-af99e7a4013c",
   "metadata": {
    "pycharm": {
     "name": "#%% md\n"
    }
   },
   "source": [
    "#### Step 2:\n",
    "#### Set Google Cloud properties"
   ]
  },
  {
   "cell_type": "markdown",
   "id": "920dd937-7a43-4709-8297-f9c346d7897c",
   "metadata": {
    "pycharm": {
     "name": "#%% md\n"
    }
   },
   "source": [
    "**Overview**  \n",
    "This notebook shows how to build a Vertex AI Pipeline to run a Dataproc Template   \n",
    "using the DataprocPySparkBatchOp component."
   ]
  },
  {
   "cell_type": "code",
   "execution_count": 1,
   "id": "7e2ef85e-4cac-464c-9ed4-a66ea9c4f4c6",
   "metadata": {
    "collapsed": true,
    "jupyter": {
     "outputs_hidden": true
    },
    "pycharm": {
     "name": "#%%\n"
    },
    "tags": []
   },
   "outputs": [],
   "source": [
    "# User Configuration\n",
    "# User Inputs\n",
    "\n",
    "get_project_id = ! gcloud config list --format 'value(core.project)' 2>/dev/null\n",
    "PROJECT_ID = get_project_id[0]\n",
    "REGION = \"\"  # example \"us-west1\"\n",
    "GCS_STAGING_LOCATION = \"gs://<bucket_name>\" # example \"gs://my_bucket_name\"\n",
    "SUBNET = \"\" # example \"projects/<project-id>/regions/<region-id>/subnetworks/<subnet-name>\" \n",
    "INPUT_HIVE_DATABASE= \"\"\n",
    "INPUT_HIVE_TABLES= \"*\" # example \"table1,table2,table3...\" or \"*\"\n",
    "OUTPUT_BIGQUERY_DATASET= \"\"\n",
    "TEMP_BUCKET= \"<bucket_name>\"\n",
    "HIVE_METASTORE= \"\" # example \"thrift://shubu-hive2bqnb-m:9083\"\n",
    "BQ_DATASET_REGION=\"us\"\n",
    "\n",
    "## Change if needed\n",
    "HIVE_OUTPUT_MODE=\"overwrite\"\n",
    "MAX_PARALLELISM=10 # Controlls number of parallel Dataproc Serverless Jobs"
   ]
  },
  {
   "cell_type": "markdown",
   "id": "454bb0de-3e0a-4daa-92ed-1319e1d9604d",
   "metadata": {
    "pycharm": {
     "name": "#%% md\n"
    }
   },
   "source": [
    "#### Step 3:\n",
    "#### Import dependencies"
   ]
  },
  {
   "cell_type": "code",
   "execution_count": 3,
   "id": "c7aede36-3a0a-43f7-8e4c-db2d8087e289",
   "metadata": {
    "collapsed": true,
    "jupyter": {
     "outputs_hidden": true
    },
    "pycharm": {
     "name": "#%%\n"
    },
    "tags": []
   },
   "outputs": [],
   "source": [
    "import google.cloud.aiplatform as aiplatform\n",
    "from kfp import dsl\n",
    "from kfp.v2 import compiler\n",
    "from datetime import datetime\n",
    "from google_cloud_pipeline_components.experimental.dataproc import DataprocPySparkBatchOp\n",
    "import time\n",
    "import os\n",
    "from pyspark.sql import SparkSession\n",
    "import pandas as pd\n",
    "from pathlib import Path\n",
    "import subprocess\n"
   ]
  },
  {
   "cell_type": "markdown",
   "id": "d8b33331-b529-47ac-a08d-0c166acd264e",
   "metadata": {
    "pycharm": {
     "name": "#%% md\n"
    }
   },
   "source": [
    "#### Step 4:\n",
    "#### Change working directory to the Dataproc Templates python folder"
   ]
  },
  {
   "cell_type": "code",
   "execution_count": 4,
   "id": "da510653",
   "metadata": {
    "collapsed": true,
    "jupyter": {
     "outputs_hidden": true
    },
    "pycharm": {
     "name": "#%%\n"
    },
    "tags": []
   },
   "outputs": [
    {
     "name": "stdout",
     "output_type": "stream",
     "text": [
      "/home/jupyter/dataproc-templates/python\n"
     ]
    }
   ],
   "source": [
    "cur_path = Path(os.getcwd())\n",
    "WORKING_DIRECTORY = os.path.join(cur_path.parent.parent ,'python')\n",
    "\n",
    "# If the above code doesn't fetches the correct path please\n",
    "# provide complete path to python folder in your dataproc \n",
    "# template repo which you cloned \n",
    "\n",
    "# WORKING_DIRECTORY = \"/home/jupyter/dataproc-templates/python/\"\n",
    "print(WORKING_DIRECTORY)"
   ]
  },
  {
   "cell_type": "code",
   "execution_count": 5,
   "id": "d6e0e80a-e8b7-4e54-9f99-b7874e164978",
   "metadata": {
    "collapsed": true,
    "jupyter": {
     "outputs_hidden": true
    },
    "pycharm": {
     "name": "#%%\n"
    },
    "tags": []
   },
   "outputs": [
    {
     "name": "stdout",
     "output_type": "stream",
     "text": [
      "/home/jupyter/dataproc-templates/python\n"
     ]
    }
   ],
   "source": [
    "%cd $WORKING_DIRECTORY"
   ]
  },
  {
   "cell_type": "markdown",
   "id": "e73bb252-c3e3-4d56-b1ad-f52a2db52869",
   "metadata": {
    "pycharm": {
     "name": "#%% md\n"
    }
   },
   "source": [
    "#### Step 5:\n",
    "#### Build Dataproc Templates python package"
   ]
  },
  {
   "cell_type": "code",
   "execution_count": 6,
   "id": "cfaa8c93-5e69-48fc-984a-f4fa3b28519b",
   "metadata": {
    "collapsed": true,
    "jupyter": {
     "outputs_hidden": true
    },
    "pycharm": {
     "name": "#%%\n"
    },
    "tags": []
   },
   "outputs": [
    {
     "name": "stdout",
     "output_type": "stream",
     "text": [
      "/opt/conda/lib/python3.7/site-packages/setuptools/dist.py:547: UserWarning: Normalizing '0.2.0-beta' to '0.2.0b0'\n",
      "  warnings.warn(tmpl.format(**locals()))\n",
      "running bdist_egg\n",
      "running egg_info\n",
      "writing google_dataproc_templates.egg-info/PKG-INFO\n",
      "writing dependency_links to google_dataproc_templates.egg-info/dependency_links.txt\n",
      "writing requirements to google_dataproc_templates.egg-info/requires.txt\n",
      "writing top-level names to google_dataproc_templates.egg-info/top_level.txt\n",
      "reading manifest file 'google_dataproc_templates.egg-info/SOURCES.txt'\n",
      "reading manifest template 'MANIFEST.in'\n",
      "writing manifest file 'google_dataproc_templates.egg-info/SOURCES.txt'\n",
      "installing library code to build/bdist.linux-x86_64/egg\n",
      "/opt/conda/lib/python3.7/site-packages/setuptools/command/install.py:37: SetuptoolsDeprecationWarning: setup.py install is deprecated. Use build and pip and other standards-based tools.\n",
      "  setuptools.SetuptoolsDeprecationWarning,\n",
      "running install_lib\n",
      "running build_py\n",
      "creating build/bdist.linux-x86_64/egg\n",
      "creating build/bdist.linux-x86_64/egg/dataproc_templates\n",
      "creating build/bdist.linux-x86_64/egg/dataproc_templates/jdbc\n",
      "copying build/lib/dataproc_templates/jdbc/__init__.py -> build/bdist.linux-x86_64/egg/dataproc_templates/jdbc\n",
      "copying build/lib/dataproc_templates/jdbc/jdbc_to_gcs.py -> build/bdist.linux-x86_64/egg/dataproc_templates/jdbc\n",
      "copying build/lib/dataproc_templates/jdbc/jdbc_to_bigquery.py -> build/bdist.linux-x86_64/egg/dataproc_templates/jdbc\n",
      "copying build/lib/dataproc_templates/jdbc/jdbc_to_jdbc.py -> build/bdist.linux-x86_64/egg/dataproc_templates/jdbc\n",
      "creating build/bdist.linux-x86_64/egg/dataproc_templates/redshift\n",
      "copying build/lib/dataproc_templates/redshift/__init__.py -> build/bdist.linux-x86_64/egg/dataproc_templates/redshift\n",
      "copying build/lib/dataproc_templates/redshift/redshift_to_gcs.py -> build/bdist.linux-x86_64/egg/dataproc_templates/redshift\n",
      "copying build/lib/dataproc_templates/__init__.py -> build/bdist.linux-x86_64/egg/dataproc_templates\n",
      "creating build/bdist.linux-x86_64/egg/dataproc_templates/s3\n",
      "copying build/lib/dataproc_templates/s3/__init__.py -> build/bdist.linux-x86_64/egg/dataproc_templates/s3\n",
      "copying build/lib/dataproc_templates/s3/s3_to_bigquery.py -> build/bdist.linux-x86_64/egg/dataproc_templates/s3\n",
      "creating build/bdist.linux-x86_64/egg/dataproc_templates/hive\n",
      "copying build/lib/dataproc_templates/hive/__init__.py -> build/bdist.linux-x86_64/egg/dataproc_templates/hive\n",
      "creating build/bdist.linux-x86_64/egg/dataproc_templates/hive/util\n",
      "copying build/lib/dataproc_templates/hive/util/__init__.py -> build/bdist.linux-x86_64/egg/dataproc_templates/hive/util\n",
      "copying build/lib/dataproc_templates/hive/util/hive_ddl_extractor.py -> build/bdist.linux-x86_64/egg/dataproc_templates/hive/util\n",
      "copying build/lib/dataproc_templates/hive/hive_to_gcs.py -> build/bdist.linux-x86_64/egg/dataproc_templates/hive\n",
      "copying build/lib/dataproc_templates/hive/hive_to_bigquery.py -> build/bdist.linux-x86_64/egg/dataproc_templates/hive\n",
      "copying build/lib/dataproc_templates/template_name.py -> build/bdist.linux-x86_64/egg/dataproc_templates\n",
      "creating build/bdist.linux-x86_64/egg/dataproc_templates/hbase\n",
      "copying build/lib/dataproc_templates/hbase/hbase_to_gcs.py -> build/bdist.linux-x86_64/egg/dataproc_templates/hbase\n",
      "copying build/lib/dataproc_templates/hbase/__init__.py -> build/bdist.linux-x86_64/egg/dataproc_templates/hbase\n",
      "creating build/bdist.linux-x86_64/egg/dataproc_templates/util\n",
      "copying build/lib/dataproc_templates/util/__init__.py -> build/bdist.linux-x86_64/egg/dataproc_templates/util\n",
      "copying build/lib/dataproc_templates/util/dataframe_writer_wrappers.py -> build/bdist.linux-x86_64/egg/dataproc_templates/util\n",
      "copying build/lib/dataproc_templates/util/dataframe_reader_wrappers.py -> build/bdist.linux-x86_64/egg/dataproc_templates/util\n",
      "copying build/lib/dataproc_templates/util/tracking.py -> build/bdist.linux-x86_64/egg/dataproc_templates/util\n",
      "copying build/lib/dataproc_templates/util/template_constants.py -> build/bdist.linux-x86_64/egg/dataproc_templates/util\n",
      "copying build/lib/dataproc_templates/util/argument_parsing.py -> build/bdist.linux-x86_64/egg/dataproc_templates/util\n",
      "creating build/bdist.linux-x86_64/egg/dataproc_templates/bigquery\n",
      "copying build/lib/dataproc_templates/bigquery/__init__.py -> build/bdist.linux-x86_64/egg/dataproc_templates/bigquery\n",
      "copying build/lib/dataproc_templates/bigquery/bigquery_to_gcs.py -> build/bdist.linux-x86_64/egg/dataproc_templates/bigquery\n",
      "creating build/bdist.linux-x86_64/egg/dataproc_templates/gcs\n",
      "copying build/lib/dataproc_templates/gcs/__init__.py -> build/bdist.linux-x86_64/egg/dataproc_templates/gcs\n",
      "copying build/lib/dataproc_templates/gcs/gcs_to_gcs.py -> build/bdist.linux-x86_64/egg/dataproc_templates/gcs\n",
      "copying build/lib/dataproc_templates/gcs/gcs_to_bigtable.py -> build/bdist.linux-x86_64/egg/dataproc_templates/gcs\n",
      "copying build/lib/dataproc_templates/gcs/text_to_bigquery.py -> build/bdist.linux-x86_64/egg/dataproc_templates/gcs\n",
      "copying build/lib/dataproc_templates/gcs/gcs_to_jdbc.py -> build/bdist.linux-x86_64/egg/dataproc_templates/gcs\n",
      "copying build/lib/dataproc_templates/gcs/gcs_to_mongo.py -> build/bdist.linux-x86_64/egg/dataproc_templates/gcs\n",
      "copying build/lib/dataproc_templates/gcs/gcs_to_bigquery.py -> build/bdist.linux-x86_64/egg/dataproc_templates/gcs\n",
      "copying build/lib/dataproc_templates/base_template.py -> build/bdist.linux-x86_64/egg/dataproc_templates\n",
      "creating build/bdist.linux-x86_64/egg/dataproc_templates/mongo\n",
      "copying build/lib/dataproc_templates/mongo/__init__.py -> build/bdist.linux-x86_64/egg/dataproc_templates/mongo\n",
      "copying build/lib/dataproc_templates/mongo/mongo_to_gcs.py -> build/bdist.linux-x86_64/egg/dataproc_templates/mongo\n",
      "creating build/bdist.linux-x86_64/egg/dataproc_templates/kafka\n",
      "copying build/lib/dataproc_templates/kafka/__init__.py -> build/bdist.linux-x86_64/egg/dataproc_templates/kafka\n",
      "copying build/lib/dataproc_templates/kafka/kafka_to_bq.py -> build/bdist.linux-x86_64/egg/dataproc_templates/kafka\n",
      "copying build/lib/dataproc_templates/kafka/kafka_to_gcs.py -> build/bdist.linux-x86_64/egg/dataproc_templates/kafka\n",
      "creating build/bdist.linux-x86_64/egg/dataproc_templates/cassandra\n",
      "copying build/lib/dataproc_templates/cassandra/__init__.py -> build/bdist.linux-x86_64/egg/dataproc_templates/cassandra\n",
      "copying build/lib/dataproc_templates/cassandra/cassandra_to_bigquery.py -> build/bdist.linux-x86_64/egg/dataproc_templates/cassandra\n",
      "copying build/lib/dataproc_templates/cassandra/cassandra_to_gcs.py -> build/bdist.linux-x86_64/egg/dataproc_templates/cassandra\n",
      "creating build/bdist.linux-x86_64/egg/dataproc_templates/snowflake\n",
      "copying build/lib/dataproc_templates/snowflake/__init__.py -> build/bdist.linux-x86_64/egg/dataproc_templates/snowflake\n",
      "copying build/lib/dataproc_templates/snowflake/snowflake_to_gcs.py -> build/bdist.linux-x86_64/egg/dataproc_templates/snowflake\n",
      "creating build/bdist.linux-x86_64/egg/dataproc_templates/pubsublite\n",
      "copying build/lib/dataproc_templates/pubsublite/__init__.py -> build/bdist.linux-x86_64/egg/dataproc_templates/pubsublite\n",
      "copying build/lib/dataproc_templates/pubsublite/pubsublite_to_bigtable.py -> build/bdist.linux-x86_64/egg/dataproc_templates/pubsublite\n",
      "copying build/lib/dataproc_templates/pubsublite/pubsublite_to_gcs.py -> build/bdist.linux-x86_64/egg/dataproc_templates/pubsublite\n",
      "creating build/bdist.linux-x86_64/egg/dataproc_templates/azure\n",
      "copying build/lib/dataproc_templates/azure/__init__.py -> build/bdist.linux-x86_64/egg/dataproc_templates/azure\n",
      "copying build/lib/dataproc_templates/azure/azure_blob_storage_to_bigquery.py -> build/bdist.linux-x86_64/egg/dataproc_templates/azure\n",
      "creating build/bdist.linux-x86_64/egg/test\n",
      "creating build/bdist.linux-x86_64/egg/test/jdbc\n",
      "copying build/lib/test/jdbc/test_jdbc_to_gcs.py -> build/bdist.linux-x86_64/egg/test/jdbc\n",
      "copying build/lib/test/jdbc/__init__.py -> build/bdist.linux-x86_64/egg/test/jdbc\n",
      "copying build/lib/test/jdbc/test_jdbc_to_jdbc.py -> build/bdist.linux-x86_64/egg/test/jdbc\n",
      "copying build/lib/test/jdbc/test_jdbc_to_bigquery.py -> build/bdist.linux-x86_64/egg/test/jdbc\n",
      "creating build/bdist.linux-x86_64/egg/test/redshift\n",
      "copying build/lib/test/redshift/__init__.py -> build/bdist.linux-x86_64/egg/test/redshift\n",
      "copying build/lib/test/redshift/test_redshift_to_gcs.py -> build/bdist.linux-x86_64/egg/test/redshift\n",
      "creating build/bdist.linux-x86_64/egg/test/s3\n",
      "copying build/lib/test/s3/__init__.py -> build/bdist.linux-x86_64/egg/test/s3\n",
      "copying build/lib/test/s3/test_s3_to_bigquery.py -> build/bdist.linux-x86_64/egg/test/s3\n",
      "creating build/bdist.linux-x86_64/egg/test/hive\n",
      "copying build/lib/test/hive/__init__.py -> build/bdist.linux-x86_64/egg/test/hive\n",
      "creating build/bdist.linux-x86_64/egg/test/hive/util\n",
      "copying build/lib/test/hive/util/__init__.py -> build/bdist.linux-x86_64/egg/test/hive/util\n",
      "copying build/lib/test/hive/util/test_hive_ddl_extractor.py -> build/bdist.linux-x86_64/egg/test/hive/util\n",
      "copying build/lib/test/hive/test_hive_to_gcs.py -> build/bdist.linux-x86_64/egg/test/hive\n",
      "copying build/lib/test/hive/test_hive_to_bigquery.py -> build/bdist.linux-x86_64/egg/test/hive\n",
      "creating build/bdist.linux-x86_64/egg/test/hbase\n",
      "copying build/lib/test/hbase/__init__.py -> build/bdist.linux-x86_64/egg/test/hbase\n",
      "copying build/lib/test/hbase/test_hbase_to_gcs.py -> build/bdist.linux-x86_64/egg/test/hbase\n",
      "creating build/bdist.linux-x86_64/egg/test/util\n",
      "copying build/lib/test/util/__init__.py -> build/bdist.linux-x86_64/egg/test/util\n",
      "copying build/lib/test/util/test_argument_parsing.py -> build/bdist.linux-x86_64/egg/test/util\n",
      "creating build/bdist.linux-x86_64/egg/test/bigquery\n",
      "copying build/lib/test/bigquery/__init__.py -> build/bdist.linux-x86_64/egg/test/bigquery\n",
      "copying build/lib/test/bigquery/test_bigquery_to_gcs.py -> build/bdist.linux-x86_64/egg/test/bigquery\n",
      "creating build/bdist.linux-x86_64/egg/test/gcs\n",
      "copying build/lib/test/gcs/__init__.py -> build/bdist.linux-x86_64/egg/test/gcs\n",
      "copying build/lib/test/gcs/test_gcs_to_mongo.py -> build/bdist.linux-x86_64/egg/test/gcs\n",
      "copying build/lib/test/gcs/test_text_to_bigquery.py -> build/bdist.linux-x86_64/egg/test/gcs\n",
      "copying build/lib/test/gcs/test_gcs_to_jdbc.py -> build/bdist.linux-x86_64/egg/test/gcs\n",
      "copying build/lib/test/gcs/test_gcs_to_bigquery.py -> build/bdist.linux-x86_64/egg/test/gcs\n",
      "copying build/lib/test/gcs/test_gcs_to_gcs.py -> build/bdist.linux-x86_64/egg/test/gcs\n",
      "copying build/lib/test/gcs/test_gcs_to_bigtable.py -> build/bdist.linux-x86_64/egg/test/gcs\n",
      "creating build/bdist.linux-x86_64/egg/test/mongo\n",
      "copying build/lib/test/mongo/__init__.py -> build/bdist.linux-x86_64/egg/test/mongo\n",
      "copying build/lib/test/mongo/test_mongo_to_gcs.py -> build/bdist.linux-x86_64/egg/test/mongo\n",
      "creating build/bdist.linux-x86_64/egg/test/cassandra\n",
      "copying build/lib/test/cassandra/__init__.py -> build/bdist.linux-x86_64/egg/test/cassandra\n",
      "copying build/lib/test/cassandra/test_cassandra_to_gcs.py -> build/bdist.linux-x86_64/egg/test/cassandra\n",
      "copying build/lib/test/cassandra/test_cassandra_to_bq.py -> build/bdist.linux-x86_64/egg/test/cassandra\n",
      "creating build/bdist.linux-x86_64/egg/test/pubsublite\n",
      "copying build/lib/test/pubsublite/__init__.py -> build/bdist.linux-x86_64/egg/test/pubsublite\n",
      "copying build/lib/test/pubsublite/test_pubsublite_to_bigtable.py -> build/bdist.linux-x86_64/egg/test/pubsublite\n",
      "copying build/lib/test/pubsublite/test_pubsublite_to_gcs.py -> build/bdist.linux-x86_64/egg/test/pubsublite\n",
      "creating build/bdist.linux-x86_64/egg/test/azure\n",
      "copying build/lib/test/azure/test_azure_blob_storage_to_bigquery.py -> build/bdist.linux-x86_64/egg/test/azure\n",
      "copying build/lib/test/azure/__init__.py -> build/bdist.linux-x86_64/egg/test/azure\n",
      "byte-compiling build/bdist.linux-x86_64/egg/dataproc_templates/jdbc/__init__.py to __init__.cpython-37.pyc\n",
      "byte-compiling build/bdist.linux-x86_64/egg/dataproc_templates/jdbc/jdbc_to_gcs.py to jdbc_to_gcs.cpython-37.pyc\n",
      "byte-compiling build/bdist.linux-x86_64/egg/dataproc_templates/jdbc/jdbc_to_bigquery.py to jdbc_to_bigquery.cpython-37.pyc\n",
      "byte-compiling build/bdist.linux-x86_64/egg/dataproc_templates/jdbc/jdbc_to_jdbc.py to jdbc_to_jdbc.cpython-37.pyc\n",
      "byte-compiling build/bdist.linux-x86_64/egg/dataproc_templates/redshift/__init__.py to __init__.cpython-37.pyc\n",
      "byte-compiling build/bdist.linux-x86_64/egg/dataproc_templates/redshift/redshift_to_gcs.py to redshift_to_gcs.cpython-37.pyc\n",
      "byte-compiling build/bdist.linux-x86_64/egg/dataproc_templates/__init__.py to __init__.cpython-37.pyc\n",
      "byte-compiling build/bdist.linux-x86_64/egg/dataproc_templates/s3/__init__.py to __init__.cpython-37.pyc\n",
      "byte-compiling build/bdist.linux-x86_64/egg/dataproc_templates/s3/s3_to_bigquery.py to s3_to_bigquery.cpython-37.pyc\n",
      "byte-compiling build/bdist.linux-x86_64/egg/dataproc_templates/hive/__init__.py to __init__.cpython-37.pyc\n",
      "byte-compiling build/bdist.linux-x86_64/egg/dataproc_templates/hive/util/__init__.py to __init__.cpython-37.pyc\n",
      "byte-compiling build/bdist.linux-x86_64/egg/dataproc_templates/hive/util/hive_ddl_extractor.py to hive_ddl_extractor.cpython-37.pyc\n",
      "byte-compiling build/bdist.linux-x86_64/egg/dataproc_templates/hive/hive_to_gcs.py to hive_to_gcs.cpython-37.pyc\n",
      "byte-compiling build/bdist.linux-x86_64/egg/dataproc_templates/hive/hive_to_bigquery.py to hive_to_bigquery.cpython-37.pyc\n",
      "byte-compiling build/bdist.linux-x86_64/egg/dataproc_templates/template_name.py to template_name.cpython-37.pyc\n",
      "byte-compiling build/bdist.linux-x86_64/egg/dataproc_templates/hbase/hbase_to_gcs.py to hbase_to_gcs.cpython-37.pyc\n",
      "byte-compiling build/bdist.linux-x86_64/egg/dataproc_templates/hbase/__init__.py to __init__.cpython-37.pyc\n",
      "byte-compiling build/bdist.linux-x86_64/egg/dataproc_templates/util/__init__.py to __init__.cpython-37.pyc\n",
      "byte-compiling build/bdist.linux-x86_64/egg/dataproc_templates/util/dataframe_writer_wrappers.py to dataframe_writer_wrappers.cpython-37.pyc\n",
      "byte-compiling build/bdist.linux-x86_64/egg/dataproc_templates/util/dataframe_reader_wrappers.py to dataframe_reader_wrappers.cpython-37.pyc\n",
      "byte-compiling build/bdist.linux-x86_64/egg/dataproc_templates/util/tracking.py to tracking.cpython-37.pyc\n",
      "byte-compiling build/bdist.linux-x86_64/egg/dataproc_templates/util/template_constants.py to template_constants.cpython-37.pyc\n",
      "byte-compiling build/bdist.linux-x86_64/egg/dataproc_templates/util/argument_parsing.py to argument_parsing.cpython-37.pyc\n",
      "byte-compiling build/bdist.linux-x86_64/egg/dataproc_templates/bigquery/__init__.py to __init__.cpython-37.pyc\n",
      "byte-compiling build/bdist.linux-x86_64/egg/dataproc_templates/bigquery/bigquery_to_gcs.py to bigquery_to_gcs.cpython-37.pyc\n",
      "byte-compiling build/bdist.linux-x86_64/egg/dataproc_templates/gcs/__init__.py to __init__.cpython-37.pyc\n",
      "byte-compiling build/bdist.linux-x86_64/egg/dataproc_templates/gcs/gcs_to_gcs.py to gcs_to_gcs.cpython-37.pyc\n",
      "byte-compiling build/bdist.linux-x86_64/egg/dataproc_templates/gcs/gcs_to_bigtable.py to gcs_to_bigtable.cpython-37.pyc\n",
      "byte-compiling build/bdist.linux-x86_64/egg/dataproc_templates/gcs/text_to_bigquery.py to text_to_bigquery.cpython-37.pyc\n",
      "byte-compiling build/bdist.linux-x86_64/egg/dataproc_templates/gcs/gcs_to_jdbc.py to gcs_to_jdbc.cpython-37.pyc\n",
      "byte-compiling build/bdist.linux-x86_64/egg/dataproc_templates/gcs/gcs_to_mongo.py to gcs_to_mongo.cpython-37.pyc\n",
      "byte-compiling build/bdist.linux-x86_64/egg/dataproc_templates/gcs/gcs_to_bigquery.py to gcs_to_bigquery.cpython-37.pyc\n",
      "byte-compiling build/bdist.linux-x86_64/egg/dataproc_templates/base_template.py to base_template.cpython-37.pyc\n",
      "byte-compiling build/bdist.linux-x86_64/egg/dataproc_templates/mongo/__init__.py to __init__.cpython-37.pyc\n",
      "byte-compiling build/bdist.linux-x86_64/egg/dataproc_templates/mongo/mongo_to_gcs.py to mongo_to_gcs.cpython-37.pyc\n",
      "byte-compiling build/bdist.linux-x86_64/egg/dataproc_templates/kafka/__init__.py to __init__.cpython-37.pyc\n",
      "byte-compiling build/bdist.linux-x86_64/egg/dataproc_templates/kafka/kafka_to_bq.py to kafka_to_bq.cpython-37.pyc\n",
      "byte-compiling build/bdist.linux-x86_64/egg/dataproc_templates/kafka/kafka_to_gcs.py to kafka_to_gcs.cpython-37.pyc\n",
      "byte-compiling build/bdist.linux-x86_64/egg/dataproc_templates/cassandra/__init__.py to __init__.cpython-37.pyc\n",
      "byte-compiling build/bdist.linux-x86_64/egg/dataproc_templates/cassandra/cassandra_to_bigquery.py to cassandra_to_bigquery.cpython-37.pyc\n",
      "byte-compiling build/bdist.linux-x86_64/egg/dataproc_templates/cassandra/cassandra_to_gcs.py to cassandra_to_gcs.cpython-37.pyc\n",
      "byte-compiling build/bdist.linux-x86_64/egg/dataproc_templates/snowflake/__init__.py to __init__.cpython-37.pyc\n",
      "byte-compiling build/bdist.linux-x86_64/egg/dataproc_templates/snowflake/snowflake_to_gcs.py to snowflake_to_gcs.cpython-37.pyc\n",
      "byte-compiling build/bdist.linux-x86_64/egg/dataproc_templates/pubsublite/__init__.py to __init__.cpython-37.pyc\n",
      "byte-compiling build/bdist.linux-x86_64/egg/dataproc_templates/pubsublite/pubsublite_to_bigtable.py to pubsublite_to_bigtable.cpython-37.pyc\n",
      "byte-compiling build/bdist.linux-x86_64/egg/dataproc_templates/pubsublite/pubsublite_to_gcs.py to pubsublite_to_gcs.cpython-37.pyc\n",
      "byte-compiling build/bdist.linux-x86_64/egg/dataproc_templates/azure/__init__.py to __init__.cpython-37.pyc\n",
      "byte-compiling build/bdist.linux-x86_64/egg/dataproc_templates/azure/azure_blob_storage_to_bigquery.py to azure_blob_storage_to_bigquery.cpython-37.pyc\n",
      "byte-compiling build/bdist.linux-x86_64/egg/test/jdbc/test_jdbc_to_gcs.py to test_jdbc_to_gcs.cpython-37.pyc\n",
      "byte-compiling build/bdist.linux-x86_64/egg/test/jdbc/__init__.py to __init__.cpython-37.pyc\n",
      "byte-compiling build/bdist.linux-x86_64/egg/test/jdbc/test_jdbc_to_jdbc.py to test_jdbc_to_jdbc.cpython-37.pyc\n",
      "byte-compiling build/bdist.linux-x86_64/egg/test/jdbc/test_jdbc_to_bigquery.py to test_jdbc_to_bigquery.cpython-37.pyc\n",
      "byte-compiling build/bdist.linux-x86_64/egg/test/redshift/__init__.py to __init__.cpython-37.pyc\n",
      "byte-compiling build/bdist.linux-x86_64/egg/test/redshift/test_redshift_to_gcs.py to test_redshift_to_gcs.cpython-37.pyc\n",
      "byte-compiling build/bdist.linux-x86_64/egg/test/s3/__init__.py to __init__.cpython-37.pyc\n",
      "byte-compiling build/bdist.linux-x86_64/egg/test/s3/test_s3_to_bigquery.py to test_s3_to_bigquery.cpython-37.pyc\n",
      "byte-compiling build/bdist.linux-x86_64/egg/test/hive/__init__.py to __init__.cpython-37.pyc\n",
      "byte-compiling build/bdist.linux-x86_64/egg/test/hive/util/__init__.py to __init__.cpython-37.pyc\n",
      "byte-compiling build/bdist.linux-x86_64/egg/test/hive/util/test_hive_ddl_extractor.py to test_hive_ddl_extractor.cpython-37.pyc\n",
      "byte-compiling build/bdist.linux-x86_64/egg/test/hive/test_hive_to_gcs.py to test_hive_to_gcs.cpython-37.pyc\n",
      "byte-compiling build/bdist.linux-x86_64/egg/test/hive/test_hive_to_bigquery.py to test_hive_to_bigquery.cpython-37.pyc\n",
      "byte-compiling build/bdist.linux-x86_64/egg/test/hbase/__init__.py to __init__.cpython-37.pyc\n",
      "byte-compiling build/bdist.linux-x86_64/egg/test/hbase/test_hbase_to_gcs.py to test_hbase_to_gcs.cpython-37.pyc\n",
      "byte-compiling build/bdist.linux-x86_64/egg/test/util/__init__.py to __init__.cpython-37.pyc\n",
      "byte-compiling build/bdist.linux-x86_64/egg/test/util/test_argument_parsing.py to test_argument_parsing.cpython-37.pyc\n",
      "byte-compiling build/bdist.linux-x86_64/egg/test/bigquery/__init__.py to __init__.cpython-37.pyc\n",
      "byte-compiling build/bdist.linux-x86_64/egg/test/bigquery/test_bigquery_to_gcs.py to test_bigquery_to_gcs.cpython-37.pyc\n",
      "byte-compiling build/bdist.linux-x86_64/egg/test/gcs/__init__.py to __init__.cpython-37.pyc\n",
      "byte-compiling build/bdist.linux-x86_64/egg/test/gcs/test_gcs_to_mongo.py to test_gcs_to_mongo.cpython-37.pyc\n",
      "byte-compiling build/bdist.linux-x86_64/egg/test/gcs/test_text_to_bigquery.py to test_text_to_bigquery.cpython-37.pyc\n",
      "byte-compiling build/bdist.linux-x86_64/egg/test/gcs/test_gcs_to_jdbc.py to test_gcs_to_jdbc.cpython-37.pyc\n",
      "byte-compiling build/bdist.linux-x86_64/egg/test/gcs/test_gcs_to_bigquery.py to test_gcs_to_bigquery.cpython-37.pyc\n",
      "byte-compiling build/bdist.linux-x86_64/egg/test/gcs/test_gcs_to_gcs.py to test_gcs_to_gcs.cpython-37.pyc\n",
      "byte-compiling build/bdist.linux-x86_64/egg/test/gcs/test_gcs_to_bigtable.py to test_gcs_to_bigtable.cpython-37.pyc\n",
      "byte-compiling build/bdist.linux-x86_64/egg/test/mongo/__init__.py to __init__.cpython-37.pyc\n",
      "byte-compiling build/bdist.linux-x86_64/egg/test/mongo/test_mongo_to_gcs.py to test_mongo_to_gcs.cpython-37.pyc\n",
      "byte-compiling build/bdist.linux-x86_64/egg/test/cassandra/__init__.py to __init__.cpython-37.pyc\n",
      "byte-compiling build/bdist.linux-x86_64/egg/test/cassandra/test_cassandra_to_gcs.py to test_cassandra_to_gcs.cpython-37.pyc\n",
      "byte-compiling build/bdist.linux-x86_64/egg/test/cassandra/test_cassandra_to_bq.py to test_cassandra_to_bq.cpython-37.pyc\n",
      "byte-compiling build/bdist.linux-x86_64/egg/test/pubsublite/__init__.py to __init__.cpython-37.pyc\n",
      "byte-compiling build/bdist.linux-x86_64/egg/test/pubsublite/test_pubsublite_to_bigtable.py to test_pubsublite_to_bigtable.cpython-37.pyc\n",
      "byte-compiling build/bdist.linux-x86_64/egg/test/pubsublite/test_pubsublite_to_gcs.py to test_pubsublite_to_gcs.cpython-37.pyc\n",
      "byte-compiling build/bdist.linux-x86_64/egg/test/azure/test_azure_blob_storage_to_bigquery.py to test_azure_blob_storage_to_bigquery.cpython-37.pyc\n",
      "byte-compiling build/bdist.linux-x86_64/egg/test/azure/__init__.py to __init__.cpython-37.pyc\n",
      "creating build/bdist.linux-x86_64/egg/EGG-INFO\n",
      "copying google_dataproc_templates.egg-info/PKG-INFO -> build/bdist.linux-x86_64/egg/EGG-INFO\n",
      "copying google_dataproc_templates.egg-info/SOURCES.txt -> build/bdist.linux-x86_64/egg/EGG-INFO\n",
      "copying google_dataproc_templates.egg-info/dependency_links.txt -> build/bdist.linux-x86_64/egg/EGG-INFO\n",
      "copying google_dataproc_templates.egg-info/requires.txt -> build/bdist.linux-x86_64/egg/EGG-INFO\n",
      "copying google_dataproc_templates.egg-info/top_level.txt -> build/bdist.linux-x86_64/egg/EGG-INFO\n",
      "zip_safe flag not set; analyzing archive contents...\n",
      "creating 'dist/google_dataproc_templates-0.2.0b0-py3.7.egg' and adding 'build/bdist.linux-x86_64/egg' to it\n",
      "removing 'build/bdist.linux-x86_64/egg' (and everything under it)\n",
      "Will rename output .egg file from dist/google_dataproc_templates-0.2.0b0-py3.7.egg to dist/dataproc_templates_distribution.egg\n"
     ]
    }
   ],
   "source": [
    "PACKAGE_EGG_FILE = \"dist/dataproc_templates_distribution.egg\"\n",
    "! python ./setup.py bdist_egg --output=$PACKAGE_EGG_FILE"
   ]
  },
  {
   "cell_type": "markdown",
   "id": "b528c874-b948-40c1-b57c-afff76d80b47",
   "metadata": {
    "pycharm": {
     "name": "#%% md\n"
    }
   },
   "source": [
    "#### Step 6:\n",
    "#### Copy package to the GCS bucket\n",
    "\n",
    "For this, make sure that the service account used to run the notebook has the following roles:\n",
    " - roles/storage.objectCreator\n",
    " - roles/storage.objectViewer"
   ]
  },
  {
   "cell_type": "code",
   "execution_count": 7,
   "id": "33dd85ce-46f6-4b35-8997-2189cf1b2eee",
   "metadata": {
    "collapsed": true,
    "jupyter": {
     "outputs_hidden": true
    },
    "pycharm": {
     "name": "#%%\n"
    },
    "tags": []
   },
   "outputs": [
    {
     "name": "stdout",
     "output_type": "stream",
     "text": [
      "Copying file://main.py [Content-Type=text/x-python]...\n",
      "/ [1 files][  6.0 KiB/  6.0 KiB]                                                \n",
      "Operation completed over 1 objects/6.0 KiB.                                      \n",
      "Copying file://dist/dataproc_templates_distribution.egg [Content-Type=application/octet-stream]...\n",
      "/ [1 files][236.1 KiB/236.1 KiB]                                                \n",
      "Operation completed over 1 objects/236.1 KiB.                                    \n"
     ]
    }
   ],
   "source": [
    "!gsutil cp main.py $GCS_STAGING_LOCATION/\n",
    "!gsutil cp $PACKAGE_EGG_FILE $GCS_STAGING_LOCATION/dist/"
   ]
  },
  {
   "cell_type": "markdown",
   "id": "5a8d8c5f-b28b-4fbb-b585-cb2f1d9c1915",
   "metadata": {
    "pycharm": {
     "name": "#%% md\n"
    }
   },
   "source": [
    "#### Step 7:\n",
    "#### Get Hive Tables \n",
    "In case user wants to load all the Hive tables from the database, we need to get the table list using the metastore.\n",
    "\n",
    "Below cell will fetch all tables from the Hive database by running a Spark SQL query using the provided Hive Metastore."
   ]
  },
  {
   "cell_type": "code",
   "execution_count": 8,
   "id": "3751abe3-47b7-4b4a-81f4-498da750d884",
   "metadata": {
    "collapsed": true,
    "jupyter": {
     "outputs_hidden": true
    },
    "pycharm": {
     "name": "#%%\n"
    },
    "tags": []
   },
   "outputs": [
    {
     "name": "stderr",
     "output_type": "stream",
     "text": [
      "Warning: Ignoring non-Spark config property: hive.metastore.uris\n",
      "Setting default log level to \"WARN\".\n",
      "To adjust logging level use sc.setLogLevel(newLevel). For SparkR, use setLogLevel(newLevel).\n",
      "23/05/07 13:35:24 WARN NativeCodeLoader: Unable to load native-hadoop library for your platform... using builtin-java classes where applicable\n",
      "/opt/conda/lib/python3.7/site-packages/pyspark/context.py:317: FutureWarning: Python 3.7 support is deprecated in Spark 3.4.\n",
      "  warnings.warn(\"Python 3.7 support is deprecated in Spark 3.4.\", FutureWarning)\n",
      "                                                                                \r"
     ]
    },
    {
     "name": "stdout",
     "output_type": "stream",
     "text": [
      "Table Sets to Migrate: \n",
      "['avro_nonpartitioned', 'avro_partitioned', 'orc_nonpartitioned', 'orc_partitioned', 'parquet_nonpartitioned', 'parquet_partitioned']\n"
     ]
    }
   ],
   "source": [
    "if INPUT_HIVE_TABLES==\"*\":\n",
    "    #os.environ[\"JAVA_HOME\"] = \"/usr/lib/jvm/java-11-openjdk-amd64\"\n",
    "    #os.environ[\"PATH\"] = os.environ[\"JAVA_HOME\"] + \"/bin:\" + os.environ[\"PATH\"]\n",
    "    spark=SparkSession.builder \\\n",
    "          .master(\"local\")\\\n",
    "          .appName(\"Spark Job to get HIVE table list\") \\\n",
    "          .config(\"hive.metastore.uris\",HIVE_METASTORE) \\\n",
    "          .enableHiveSupport() \\\n",
    "          .getOrCreate()  \n",
    "    TABLE_LIST_DF=spark.sql(\"show tables in \"+INPUT_HIVE_DATABASE)\n",
    "    TABLE_LIST=TABLE_LIST_DF.select(\"tableName\").rdd.flatMap(lambda x: x).collect()\n",
    "    print(\"Table Sets to Migrate: \")\n",
    "    print(TABLE_LIST)\n",
    "    spark.stop()\n",
    "else:\n",
    "    TABLE_LIST=INPUT_HIVE_TABLES.split(\",\")\n",
    "    print(\"Table Sets to Migrate: \")\n",
    "    print(TABLE_LIST)"
   ]
  },
  {
   "cell_type": "markdown",
   "id": "a0093181-7c2f-49ab-a071-a93c3a74c974",
   "metadata": {},
   "source": [
    "#### -----  Skip steps 8-16 to create non partitioned tables in Bigquery -----\n",
    "\n",
    "\n",
    "#### Step 8:\n",
    "#### Get Required Variables for HIVEDDLEXTRACTOR"
   ]
  },
  {
   "cell_type": "code",
   "execution_count": 56,
   "id": "d5fbc306-ca17-4bc7-a855-7afcc9ee2324",
   "metadata": {
    "tags": []
   },
   "outputs": [],
   "source": [
    "DDL_INPUT_PATH=GCS_STAGING_LOCATION+\"/hiveddl/input\"\n",
    "DDL_OUTPUT_PATH=GCS_STAGING_LOCATION+\"/hiveddl/output\"\n",
    "os.environ[\"GCP_PROJECT\"]=get_project_id[0]\n",
    "os.environ[\"REGION\"]=REGION\n",
    "os.environ[\"GCS_STAGING_LOCATION\"]=GCS_STAGING_LOCATION\n",
    "os.environ[\"SUBNET\"]=SUBNET\n",
    "os.environ[\"HIVE_METASTORE\"]=HIVE_METASTORE\n",
    "os.environ[\"INPUT_HIVE_DATABASE\"]=INPUT_HIVE_DATABASE\n",
    "os.environ[\"GCS_STAGING_PATH\"]=DDL_INPUT_PATH\n"
   ]
  },
  {
   "cell_type": "markdown",
   "id": "1bc26c67-4d75-47dc-9a96-bed55035c25d",
   "metadata": {},
   "source": [
    "#### Step 9:\n",
    "#### Run HIVEDDLEXTRACTOR to extract HIVE DDLs\n",
    "\n",
    "We will be making use of HIVEDDLEXTRACTOR utility to connect to thrift server and extracting all the DDLs. "
   ]
  },
  {
   "cell_type": "code",
   "execution_count": 10,
   "id": "36339d20-3039-4cd5-bba9-01a3d2bb6b4c",
   "metadata": {
    "collapsed": true,
    "jupyter": {
     "outputs_hidden": true
    },
    "tags": []
   },
   "outputs": [
    {
     "name": "stdout",
     "output_type": "stream",
     "text": [
      "GCP_PROJECT=yadavaja-sandbox\n",
      "REGION=us-west1\n",
      "GCS_STAGING_LOCATION=gs://test-shubu\n",
      "/opt/conda/lib/python3.7/site-packages/setuptools/dist.py:547: UserWarning: Normalizing '0.2.0-beta' to '0.2.0b0'\n",
      "  warnings.warn(tmpl.format(**locals()))\n",
      "running bdist_egg\n",
      "running egg_info\n",
      "writing google_dataproc_templates.egg-info/PKG-INFO\n",
      "writing dependency_links to google_dataproc_templates.egg-info/dependency_links.txt\n",
      "writing requirements to google_dataproc_templates.egg-info/requires.txt\n",
      "writing top-level names to google_dataproc_templates.egg-info/top_level.txt\n",
      "reading manifest file 'google_dataproc_templates.egg-info/SOURCES.txt'\n",
      "reading manifest template 'MANIFEST.in'\n",
      "writing manifest file 'google_dataproc_templates.egg-info/SOURCES.txt'\n",
      "installing library code to build/bdist.linux-x86_64/egg\n",
      "/opt/conda/lib/python3.7/site-packages/setuptools/command/install.py:37: SetuptoolsDeprecationWarning: setup.py install is deprecated. Use build and pip and other standards-based tools.\n",
      "  setuptools.SetuptoolsDeprecationWarning,\n",
      "running install_lib\n",
      "running build_py\n",
      "creating build/bdist.linux-x86_64/egg\n",
      "creating build/bdist.linux-x86_64/egg/dataproc_templates\n",
      "creating build/bdist.linux-x86_64/egg/dataproc_templates/jdbc\n",
      "copying build/lib/dataproc_templates/jdbc/__init__.py -> build/bdist.linux-x86_64/egg/dataproc_templates/jdbc\n",
      "copying build/lib/dataproc_templates/jdbc/jdbc_to_gcs.py -> build/bdist.linux-x86_64/egg/dataproc_templates/jdbc\n",
      "copying build/lib/dataproc_templates/jdbc/jdbc_to_bigquery.py -> build/bdist.linux-x86_64/egg/dataproc_templates/jdbc\n",
      "copying build/lib/dataproc_templates/jdbc/jdbc_to_jdbc.py -> build/bdist.linux-x86_64/egg/dataproc_templates/jdbc\n",
      "creating build/bdist.linux-x86_64/egg/dataproc_templates/redshift\n",
      "copying build/lib/dataproc_templates/redshift/__init__.py -> build/bdist.linux-x86_64/egg/dataproc_templates/redshift\n",
      "copying build/lib/dataproc_templates/redshift/redshift_to_gcs.py -> build/bdist.linux-x86_64/egg/dataproc_templates/redshift\n",
      "copying build/lib/dataproc_templates/__init__.py -> build/bdist.linux-x86_64/egg/dataproc_templates\n",
      "creating build/bdist.linux-x86_64/egg/dataproc_templates/s3\n",
      "copying build/lib/dataproc_templates/s3/__init__.py -> build/bdist.linux-x86_64/egg/dataproc_templates/s3\n",
      "copying build/lib/dataproc_templates/s3/s3_to_bigquery.py -> build/bdist.linux-x86_64/egg/dataproc_templates/s3\n",
      "creating build/bdist.linux-x86_64/egg/dataproc_templates/hive\n",
      "copying build/lib/dataproc_templates/hive/__init__.py -> build/bdist.linux-x86_64/egg/dataproc_templates/hive\n",
      "creating build/bdist.linux-x86_64/egg/dataproc_templates/hive/util\n",
      "copying build/lib/dataproc_templates/hive/util/__init__.py -> build/bdist.linux-x86_64/egg/dataproc_templates/hive/util\n",
      "copying build/lib/dataproc_templates/hive/util/hive_ddl_extractor.py -> build/bdist.linux-x86_64/egg/dataproc_templates/hive/util\n",
      "copying build/lib/dataproc_templates/hive/hive_to_gcs.py -> build/bdist.linux-x86_64/egg/dataproc_templates/hive\n",
      "copying build/lib/dataproc_templates/hive/hive_to_bigquery.py -> build/bdist.linux-x86_64/egg/dataproc_templates/hive\n",
      "copying build/lib/dataproc_templates/template_name.py -> build/bdist.linux-x86_64/egg/dataproc_templates\n",
      "creating build/bdist.linux-x86_64/egg/dataproc_templates/hbase\n",
      "copying build/lib/dataproc_templates/hbase/hbase_to_gcs.py -> build/bdist.linux-x86_64/egg/dataproc_templates/hbase\n",
      "copying build/lib/dataproc_templates/hbase/__init__.py -> build/bdist.linux-x86_64/egg/dataproc_templates/hbase\n",
      "creating build/bdist.linux-x86_64/egg/dataproc_templates/util\n",
      "copying build/lib/dataproc_templates/util/__init__.py -> build/bdist.linux-x86_64/egg/dataproc_templates/util\n",
      "copying build/lib/dataproc_templates/util/dataframe_writer_wrappers.py -> build/bdist.linux-x86_64/egg/dataproc_templates/util\n",
      "copying build/lib/dataproc_templates/util/dataframe_reader_wrappers.py -> build/bdist.linux-x86_64/egg/dataproc_templates/util\n",
      "copying build/lib/dataproc_templates/util/tracking.py -> build/bdist.linux-x86_64/egg/dataproc_templates/util\n",
      "copying build/lib/dataproc_templates/util/template_constants.py -> build/bdist.linux-x86_64/egg/dataproc_templates/util\n",
      "copying build/lib/dataproc_templates/util/argument_parsing.py -> build/bdist.linux-x86_64/egg/dataproc_templates/util\n",
      "creating build/bdist.linux-x86_64/egg/dataproc_templates/bigquery\n",
      "copying build/lib/dataproc_templates/bigquery/__init__.py -> build/bdist.linux-x86_64/egg/dataproc_templates/bigquery\n",
      "copying build/lib/dataproc_templates/bigquery/bigquery_to_gcs.py -> build/bdist.linux-x86_64/egg/dataproc_templates/bigquery\n",
      "creating build/bdist.linux-x86_64/egg/dataproc_templates/gcs\n",
      "copying build/lib/dataproc_templates/gcs/__init__.py -> build/bdist.linux-x86_64/egg/dataproc_templates/gcs\n",
      "copying build/lib/dataproc_templates/gcs/gcs_to_gcs.py -> build/bdist.linux-x86_64/egg/dataproc_templates/gcs\n",
      "copying build/lib/dataproc_templates/gcs/gcs_to_bigtable.py -> build/bdist.linux-x86_64/egg/dataproc_templates/gcs\n",
      "copying build/lib/dataproc_templates/gcs/text_to_bigquery.py -> build/bdist.linux-x86_64/egg/dataproc_templates/gcs\n",
      "copying build/lib/dataproc_templates/gcs/gcs_to_jdbc.py -> build/bdist.linux-x86_64/egg/dataproc_templates/gcs\n",
      "copying build/lib/dataproc_templates/gcs/gcs_to_mongo.py -> build/bdist.linux-x86_64/egg/dataproc_templates/gcs\n",
      "copying build/lib/dataproc_templates/gcs/gcs_to_bigquery.py -> build/bdist.linux-x86_64/egg/dataproc_templates/gcs\n",
      "copying build/lib/dataproc_templates/base_template.py -> build/bdist.linux-x86_64/egg/dataproc_templates\n",
      "creating build/bdist.linux-x86_64/egg/dataproc_templates/mongo\n",
      "copying build/lib/dataproc_templates/mongo/__init__.py -> build/bdist.linux-x86_64/egg/dataproc_templates/mongo\n",
      "copying build/lib/dataproc_templates/mongo/mongo_to_gcs.py -> build/bdist.linux-x86_64/egg/dataproc_templates/mongo\n",
      "creating build/bdist.linux-x86_64/egg/dataproc_templates/kafka\n",
      "copying build/lib/dataproc_templates/kafka/__init__.py -> build/bdist.linux-x86_64/egg/dataproc_templates/kafka\n",
      "copying build/lib/dataproc_templates/kafka/kafka_to_bq.py -> build/bdist.linux-x86_64/egg/dataproc_templates/kafka\n",
      "copying build/lib/dataproc_templates/kafka/kafka_to_gcs.py -> build/bdist.linux-x86_64/egg/dataproc_templates/kafka\n",
      "creating build/bdist.linux-x86_64/egg/dataproc_templates/cassandra\n",
      "copying build/lib/dataproc_templates/cassandra/__init__.py -> build/bdist.linux-x86_64/egg/dataproc_templates/cassandra\n",
      "copying build/lib/dataproc_templates/cassandra/cassandra_to_bigquery.py -> build/bdist.linux-x86_64/egg/dataproc_templates/cassandra\n",
      "copying build/lib/dataproc_templates/cassandra/cassandra_to_gcs.py -> build/bdist.linux-x86_64/egg/dataproc_templates/cassandra\n",
      "creating build/bdist.linux-x86_64/egg/dataproc_templates/snowflake\n",
      "copying build/lib/dataproc_templates/snowflake/__init__.py -> build/bdist.linux-x86_64/egg/dataproc_templates/snowflake\n",
      "copying build/lib/dataproc_templates/snowflake/snowflake_to_gcs.py -> build/bdist.linux-x86_64/egg/dataproc_templates/snowflake\n",
      "creating build/bdist.linux-x86_64/egg/dataproc_templates/pubsublite\n",
      "copying build/lib/dataproc_templates/pubsublite/__init__.py -> build/bdist.linux-x86_64/egg/dataproc_templates/pubsublite\n",
      "copying build/lib/dataproc_templates/pubsublite/pubsublite_to_bigtable.py -> build/bdist.linux-x86_64/egg/dataproc_templates/pubsublite\n",
      "copying build/lib/dataproc_templates/pubsublite/pubsublite_to_gcs.py -> build/bdist.linux-x86_64/egg/dataproc_templates/pubsublite\n",
      "creating build/bdist.linux-x86_64/egg/dataproc_templates/azure\n",
      "copying build/lib/dataproc_templates/azure/__init__.py -> build/bdist.linux-x86_64/egg/dataproc_templates/azure\n",
      "copying build/lib/dataproc_templates/azure/azure_blob_storage_to_bigquery.py -> build/bdist.linux-x86_64/egg/dataproc_templates/azure\n",
      "creating build/bdist.linux-x86_64/egg/test\n",
      "creating build/bdist.linux-x86_64/egg/test/jdbc\n",
      "copying build/lib/test/jdbc/test_jdbc_to_gcs.py -> build/bdist.linux-x86_64/egg/test/jdbc\n",
      "copying build/lib/test/jdbc/__init__.py -> build/bdist.linux-x86_64/egg/test/jdbc\n",
      "copying build/lib/test/jdbc/test_jdbc_to_jdbc.py -> build/bdist.linux-x86_64/egg/test/jdbc\n",
      "copying build/lib/test/jdbc/test_jdbc_to_bigquery.py -> build/bdist.linux-x86_64/egg/test/jdbc\n",
      "creating build/bdist.linux-x86_64/egg/test/redshift\n",
      "copying build/lib/test/redshift/__init__.py -> build/bdist.linux-x86_64/egg/test/redshift\n",
      "copying build/lib/test/redshift/test_redshift_to_gcs.py -> build/bdist.linux-x86_64/egg/test/redshift\n",
      "creating build/bdist.linux-x86_64/egg/test/s3\n",
      "copying build/lib/test/s3/__init__.py -> build/bdist.linux-x86_64/egg/test/s3\n",
      "copying build/lib/test/s3/test_s3_to_bigquery.py -> build/bdist.linux-x86_64/egg/test/s3\n",
      "creating build/bdist.linux-x86_64/egg/test/hive\n",
      "copying build/lib/test/hive/__init__.py -> build/bdist.linux-x86_64/egg/test/hive\n",
      "creating build/bdist.linux-x86_64/egg/test/hive/util\n",
      "copying build/lib/test/hive/util/__init__.py -> build/bdist.linux-x86_64/egg/test/hive/util\n",
      "copying build/lib/test/hive/util/test_hive_ddl_extractor.py -> build/bdist.linux-x86_64/egg/test/hive/util\n",
      "copying build/lib/test/hive/test_hive_to_gcs.py -> build/bdist.linux-x86_64/egg/test/hive\n",
      "copying build/lib/test/hive/test_hive_to_bigquery.py -> build/bdist.linux-x86_64/egg/test/hive\n",
      "creating build/bdist.linux-x86_64/egg/test/hbase\n",
      "copying build/lib/test/hbase/__init__.py -> build/bdist.linux-x86_64/egg/test/hbase\n",
      "copying build/lib/test/hbase/test_hbase_to_gcs.py -> build/bdist.linux-x86_64/egg/test/hbase\n",
      "creating build/bdist.linux-x86_64/egg/test/util\n",
      "copying build/lib/test/util/__init__.py -> build/bdist.linux-x86_64/egg/test/util\n",
      "copying build/lib/test/util/test_argument_parsing.py -> build/bdist.linux-x86_64/egg/test/util\n",
      "creating build/bdist.linux-x86_64/egg/test/bigquery\n",
      "copying build/lib/test/bigquery/__init__.py -> build/bdist.linux-x86_64/egg/test/bigquery\n",
      "copying build/lib/test/bigquery/test_bigquery_to_gcs.py -> build/bdist.linux-x86_64/egg/test/bigquery\n",
      "creating build/bdist.linux-x86_64/egg/test/gcs\n",
      "copying build/lib/test/gcs/__init__.py -> build/bdist.linux-x86_64/egg/test/gcs\n",
      "copying build/lib/test/gcs/test_gcs_to_mongo.py -> build/bdist.linux-x86_64/egg/test/gcs\n",
      "copying build/lib/test/gcs/test_text_to_bigquery.py -> build/bdist.linux-x86_64/egg/test/gcs\n",
      "copying build/lib/test/gcs/test_gcs_to_jdbc.py -> build/bdist.linux-x86_64/egg/test/gcs\n",
      "copying build/lib/test/gcs/test_gcs_to_bigquery.py -> build/bdist.linux-x86_64/egg/test/gcs\n",
      "copying build/lib/test/gcs/test_gcs_to_gcs.py -> build/bdist.linux-x86_64/egg/test/gcs\n",
      "copying build/lib/test/gcs/test_gcs_to_bigtable.py -> build/bdist.linux-x86_64/egg/test/gcs\n",
      "creating build/bdist.linux-x86_64/egg/test/mongo\n",
      "copying build/lib/test/mongo/__init__.py -> build/bdist.linux-x86_64/egg/test/mongo\n",
      "copying build/lib/test/mongo/test_mongo_to_gcs.py -> build/bdist.linux-x86_64/egg/test/mongo\n",
      "creating build/bdist.linux-x86_64/egg/test/cassandra\n",
      "copying build/lib/test/cassandra/__init__.py -> build/bdist.linux-x86_64/egg/test/cassandra\n",
      "copying build/lib/test/cassandra/test_cassandra_to_gcs.py -> build/bdist.linux-x86_64/egg/test/cassandra\n",
      "copying build/lib/test/cassandra/test_cassandra_to_bq.py -> build/bdist.linux-x86_64/egg/test/cassandra\n",
      "creating build/bdist.linux-x86_64/egg/test/pubsublite\n",
      "copying build/lib/test/pubsublite/__init__.py -> build/bdist.linux-x86_64/egg/test/pubsublite\n",
      "copying build/lib/test/pubsublite/test_pubsublite_to_bigtable.py -> build/bdist.linux-x86_64/egg/test/pubsublite\n",
      "copying build/lib/test/pubsublite/test_pubsublite_to_gcs.py -> build/bdist.linux-x86_64/egg/test/pubsublite\n",
      "creating build/bdist.linux-x86_64/egg/test/azure\n",
      "copying build/lib/test/azure/test_azure_blob_storage_to_bigquery.py -> build/bdist.linux-x86_64/egg/test/azure\n",
      "copying build/lib/test/azure/__init__.py -> build/bdist.linux-x86_64/egg/test/azure\n",
      "byte-compiling build/bdist.linux-x86_64/egg/dataproc_templates/jdbc/__init__.py to __init__.cpython-37.pyc\n",
      "byte-compiling build/bdist.linux-x86_64/egg/dataproc_templates/jdbc/jdbc_to_gcs.py to jdbc_to_gcs.cpython-37.pyc\n",
      "byte-compiling build/bdist.linux-x86_64/egg/dataproc_templates/jdbc/jdbc_to_bigquery.py to jdbc_to_bigquery.cpython-37.pyc\n",
      "byte-compiling build/bdist.linux-x86_64/egg/dataproc_templates/jdbc/jdbc_to_jdbc.py to jdbc_to_jdbc.cpython-37.pyc\n",
      "byte-compiling build/bdist.linux-x86_64/egg/dataproc_templates/redshift/__init__.py to __init__.cpython-37.pyc\n",
      "byte-compiling build/bdist.linux-x86_64/egg/dataproc_templates/redshift/redshift_to_gcs.py to redshift_to_gcs.cpython-37.pyc\n",
      "byte-compiling build/bdist.linux-x86_64/egg/dataproc_templates/__init__.py to __init__.cpython-37.pyc\n",
      "byte-compiling build/bdist.linux-x86_64/egg/dataproc_templates/s3/__init__.py to __init__.cpython-37.pyc\n",
      "byte-compiling build/bdist.linux-x86_64/egg/dataproc_templates/s3/s3_to_bigquery.py to s3_to_bigquery.cpython-37.pyc\n",
      "byte-compiling build/bdist.linux-x86_64/egg/dataproc_templates/hive/__init__.py to __init__.cpython-37.pyc\n",
      "byte-compiling build/bdist.linux-x86_64/egg/dataproc_templates/hive/util/__init__.py to __init__.cpython-37.pyc\n",
      "byte-compiling build/bdist.linux-x86_64/egg/dataproc_templates/hive/util/hive_ddl_extractor.py to hive_ddl_extractor.cpython-37.pyc\n",
      "byte-compiling build/bdist.linux-x86_64/egg/dataproc_templates/hive/hive_to_gcs.py to hive_to_gcs.cpython-37.pyc\n",
      "byte-compiling build/bdist.linux-x86_64/egg/dataproc_templates/hive/hive_to_bigquery.py to hive_to_bigquery.cpython-37.pyc\n",
      "byte-compiling build/bdist.linux-x86_64/egg/dataproc_templates/template_name.py to template_name.cpython-37.pyc\n",
      "byte-compiling build/bdist.linux-x86_64/egg/dataproc_templates/hbase/hbase_to_gcs.py to hbase_to_gcs.cpython-37.pyc\n",
      "byte-compiling build/bdist.linux-x86_64/egg/dataproc_templates/hbase/__init__.py to __init__.cpython-37.pyc\n",
      "byte-compiling build/bdist.linux-x86_64/egg/dataproc_templates/util/__init__.py to __init__.cpython-37.pyc\n",
      "byte-compiling build/bdist.linux-x86_64/egg/dataproc_templates/util/dataframe_writer_wrappers.py to dataframe_writer_wrappers.cpython-37.pyc\n",
      "byte-compiling build/bdist.linux-x86_64/egg/dataproc_templates/util/dataframe_reader_wrappers.py to dataframe_reader_wrappers.cpython-37.pyc\n",
      "byte-compiling build/bdist.linux-x86_64/egg/dataproc_templates/util/tracking.py to tracking.cpython-37.pyc\n",
      "byte-compiling build/bdist.linux-x86_64/egg/dataproc_templates/util/template_constants.py to template_constants.cpython-37.pyc\n",
      "byte-compiling build/bdist.linux-x86_64/egg/dataproc_templates/util/argument_parsing.py to argument_parsing.cpython-37.pyc\n",
      "byte-compiling build/bdist.linux-x86_64/egg/dataproc_templates/bigquery/__init__.py to __init__.cpython-37.pyc\n",
      "byte-compiling build/bdist.linux-x86_64/egg/dataproc_templates/bigquery/bigquery_to_gcs.py to bigquery_to_gcs.cpython-37.pyc\n",
      "byte-compiling build/bdist.linux-x86_64/egg/dataproc_templates/gcs/__init__.py to __init__.cpython-37.pyc\n",
      "byte-compiling build/bdist.linux-x86_64/egg/dataproc_templates/gcs/gcs_to_gcs.py to gcs_to_gcs.cpython-37.pyc\n",
      "byte-compiling build/bdist.linux-x86_64/egg/dataproc_templates/gcs/gcs_to_bigtable.py to gcs_to_bigtable.cpython-37.pyc\n",
      "byte-compiling build/bdist.linux-x86_64/egg/dataproc_templates/gcs/text_to_bigquery.py to text_to_bigquery.cpython-37.pyc\n",
      "byte-compiling build/bdist.linux-x86_64/egg/dataproc_templates/gcs/gcs_to_jdbc.py to gcs_to_jdbc.cpython-37.pyc\n",
      "byte-compiling build/bdist.linux-x86_64/egg/dataproc_templates/gcs/gcs_to_mongo.py to gcs_to_mongo.cpython-37.pyc\n",
      "byte-compiling build/bdist.linux-x86_64/egg/dataproc_templates/gcs/gcs_to_bigquery.py to gcs_to_bigquery.cpython-37.pyc\n",
      "byte-compiling build/bdist.linux-x86_64/egg/dataproc_templates/base_template.py to base_template.cpython-37.pyc\n",
      "byte-compiling build/bdist.linux-x86_64/egg/dataproc_templates/mongo/__init__.py to __init__.cpython-37.pyc\n",
      "byte-compiling build/bdist.linux-x86_64/egg/dataproc_templates/mongo/mongo_to_gcs.py to mongo_to_gcs.cpython-37.pyc\n",
      "byte-compiling build/bdist.linux-x86_64/egg/dataproc_templates/kafka/__init__.py to __init__.cpython-37.pyc\n",
      "byte-compiling build/bdist.linux-x86_64/egg/dataproc_templates/kafka/kafka_to_bq.py to kafka_to_bq.cpython-37.pyc\n",
      "byte-compiling build/bdist.linux-x86_64/egg/dataproc_templates/kafka/kafka_to_gcs.py to kafka_to_gcs.cpython-37.pyc\n",
      "byte-compiling build/bdist.linux-x86_64/egg/dataproc_templates/cassandra/__init__.py to __init__.cpython-37.pyc\n",
      "byte-compiling build/bdist.linux-x86_64/egg/dataproc_templates/cassandra/cassandra_to_bigquery.py to cassandra_to_bigquery.cpython-37.pyc\n",
      "byte-compiling build/bdist.linux-x86_64/egg/dataproc_templates/cassandra/cassandra_to_gcs.py to cassandra_to_gcs.cpython-37.pyc\n",
      "byte-compiling build/bdist.linux-x86_64/egg/dataproc_templates/snowflake/__init__.py to __init__.cpython-37.pyc\n",
      "byte-compiling build/bdist.linux-x86_64/egg/dataproc_templates/snowflake/snowflake_to_gcs.py to snowflake_to_gcs.cpython-37.pyc\n",
      "byte-compiling build/bdist.linux-x86_64/egg/dataproc_templates/pubsublite/__init__.py to __init__.cpython-37.pyc\n",
      "byte-compiling build/bdist.linux-x86_64/egg/dataproc_templates/pubsublite/pubsublite_to_bigtable.py to pubsublite_to_bigtable.cpython-37.pyc\n",
      "byte-compiling build/bdist.linux-x86_64/egg/dataproc_templates/pubsublite/pubsublite_to_gcs.py to pubsublite_to_gcs.cpython-37.pyc\n",
      "byte-compiling build/bdist.linux-x86_64/egg/dataproc_templates/azure/__init__.py to __init__.cpython-37.pyc\n",
      "byte-compiling build/bdist.linux-x86_64/egg/dataproc_templates/azure/azure_blob_storage_to_bigquery.py to azure_blob_storage_to_bigquery.cpython-37.pyc\n",
      "byte-compiling build/bdist.linux-x86_64/egg/test/jdbc/test_jdbc_to_gcs.py to test_jdbc_to_gcs.cpython-37.pyc\n",
      "byte-compiling build/bdist.linux-x86_64/egg/test/jdbc/__init__.py to __init__.cpython-37.pyc\n",
      "byte-compiling build/bdist.linux-x86_64/egg/test/jdbc/test_jdbc_to_jdbc.py to test_jdbc_to_jdbc.cpython-37.pyc\n",
      "byte-compiling build/bdist.linux-x86_64/egg/test/jdbc/test_jdbc_to_bigquery.py to test_jdbc_to_bigquery.cpython-37.pyc\n",
      "byte-compiling build/bdist.linux-x86_64/egg/test/redshift/__init__.py to __init__.cpython-37.pyc\n",
      "byte-compiling build/bdist.linux-x86_64/egg/test/redshift/test_redshift_to_gcs.py to test_redshift_to_gcs.cpython-37.pyc\n",
      "byte-compiling build/bdist.linux-x86_64/egg/test/s3/__init__.py to __init__.cpython-37.pyc\n",
      "byte-compiling build/bdist.linux-x86_64/egg/test/s3/test_s3_to_bigquery.py to test_s3_to_bigquery.cpython-37.pyc\n",
      "byte-compiling build/bdist.linux-x86_64/egg/test/hive/__init__.py to __init__.cpython-37.pyc\n",
      "byte-compiling build/bdist.linux-x86_64/egg/test/hive/util/__init__.py to __init__.cpython-37.pyc\n",
      "byte-compiling build/bdist.linux-x86_64/egg/test/hive/util/test_hive_ddl_extractor.py to test_hive_ddl_extractor.cpython-37.pyc\n",
      "byte-compiling build/bdist.linux-x86_64/egg/test/hive/test_hive_to_gcs.py to test_hive_to_gcs.cpython-37.pyc\n",
      "byte-compiling build/bdist.linux-x86_64/egg/test/hive/test_hive_to_bigquery.py to test_hive_to_bigquery.cpython-37.pyc\n",
      "byte-compiling build/bdist.linux-x86_64/egg/test/hbase/__init__.py to __init__.cpython-37.pyc\n",
      "byte-compiling build/bdist.linux-x86_64/egg/test/hbase/test_hbase_to_gcs.py to test_hbase_to_gcs.cpython-37.pyc\n",
      "byte-compiling build/bdist.linux-x86_64/egg/test/util/__init__.py to __init__.cpython-37.pyc\n",
      "byte-compiling build/bdist.linux-x86_64/egg/test/util/test_argument_parsing.py to test_argument_parsing.cpython-37.pyc\n",
      "byte-compiling build/bdist.linux-x86_64/egg/test/bigquery/__init__.py to __init__.cpython-37.pyc\n",
      "byte-compiling build/bdist.linux-x86_64/egg/test/bigquery/test_bigquery_to_gcs.py to test_bigquery_to_gcs.cpython-37.pyc\n",
      "byte-compiling build/bdist.linux-x86_64/egg/test/gcs/__init__.py to __init__.cpython-37.pyc\n",
      "byte-compiling build/bdist.linux-x86_64/egg/test/gcs/test_gcs_to_mongo.py to test_gcs_to_mongo.cpython-37.pyc\n",
      "byte-compiling build/bdist.linux-x86_64/egg/test/gcs/test_text_to_bigquery.py to test_text_to_bigquery.cpython-37.pyc\n",
      "byte-compiling build/bdist.linux-x86_64/egg/test/gcs/test_gcs_to_jdbc.py to test_gcs_to_jdbc.cpython-37.pyc\n",
      "byte-compiling build/bdist.linux-x86_64/egg/test/gcs/test_gcs_to_bigquery.py to test_gcs_to_bigquery.cpython-37.pyc\n",
      "byte-compiling build/bdist.linux-x86_64/egg/test/gcs/test_gcs_to_gcs.py to test_gcs_to_gcs.cpython-37.pyc\n",
      "byte-compiling build/bdist.linux-x86_64/egg/test/gcs/test_gcs_to_bigtable.py to test_gcs_to_bigtable.cpython-37.pyc\n",
      "byte-compiling build/bdist.linux-x86_64/egg/test/mongo/__init__.py to __init__.cpython-37.pyc\n",
      "byte-compiling build/bdist.linux-x86_64/egg/test/mongo/test_mongo_to_gcs.py to test_mongo_to_gcs.cpython-37.pyc\n",
      "byte-compiling build/bdist.linux-x86_64/egg/test/cassandra/__init__.py to __init__.cpython-37.pyc\n",
      "byte-compiling build/bdist.linux-x86_64/egg/test/cassandra/test_cassandra_to_gcs.py to test_cassandra_to_gcs.cpython-37.pyc\n",
      "byte-compiling build/bdist.linux-x86_64/egg/test/cassandra/test_cassandra_to_bq.py to test_cassandra_to_bq.cpython-37.pyc\n",
      "byte-compiling build/bdist.linux-x86_64/egg/test/pubsublite/__init__.py to __init__.cpython-37.pyc\n",
      "byte-compiling build/bdist.linux-x86_64/egg/test/pubsublite/test_pubsublite_to_bigtable.py to test_pubsublite_to_bigtable.cpython-37.pyc\n",
      "byte-compiling build/bdist.linux-x86_64/egg/test/pubsublite/test_pubsublite_to_gcs.py to test_pubsublite_to_gcs.cpython-37.pyc\n",
      "byte-compiling build/bdist.linux-x86_64/egg/test/azure/test_azure_blob_storage_to_bigquery.py to test_azure_blob_storage_to_bigquery.cpython-37.pyc\n",
      "byte-compiling build/bdist.linux-x86_64/egg/test/azure/__init__.py to __init__.cpython-37.pyc\n",
      "creating build/bdist.linux-x86_64/egg/EGG-INFO\n",
      "copying google_dataproc_templates.egg-info/PKG-INFO -> build/bdist.linux-x86_64/egg/EGG-INFO\n",
      "copying google_dataproc_templates.egg-info/SOURCES.txt -> build/bdist.linux-x86_64/egg/EGG-INFO\n",
      "copying google_dataproc_templates.egg-info/dependency_links.txt -> build/bdist.linux-x86_64/egg/EGG-INFO\n",
      "copying google_dataproc_templates.egg-info/requires.txt -> build/bdist.linux-x86_64/egg/EGG-INFO\n",
      "copying google_dataproc_templates.egg-info/top_level.txt -> build/bdist.linux-x86_64/egg/EGG-INFO\n",
      "zip_safe flag not set; analyzing archive contents...\n",
      "creating 'dist/google_dataproc_templates-0.2.0b0-py3.7.egg' and adding 'build/bdist.linux-x86_64/egg' to it\n",
      "removing 'build/bdist.linux-x86_64/egg' (and everything under it)\n",
      "Will rename output .egg file from dist/google_dataproc_templates-0.2.0b0-py3.7.egg to dist/dataproc_templates_distribution.egg\n",
      "Triggering Spark Submit job\n",
      "gcloud beta dataproc batches submit pyspark ./bin/../main.py --version=1.1 --project=yadavaja-sandbox --region=us-west1 --jars=file:///usr/lib/spark/external/spark-avro.jar --labels=job_type=dataproc_template --deps-bucket=gs://test-shubu --py-files=./bin/../dist/dataproc_templates_distribution.egg --subnet=projects/yadavaja-sandbox/regions/us-west1/subnetworks/test-subnet1 --properties=spark.hadoop.hive.metastore.uris=thrift://shubu-hive2bqnb-m:9083 -- --template=HIVEDDLEXTRACTOR --hive.ddl.extractor.input.database=default --hive.ddl.extractor.output.path=gs://test-shubu/hiveddl/input\n",
      "Batch [dcb1f0e2d46e47b7b0cca970756d8827] submitted.\n",
      "Using the default container image\n",
      "Waiting for container log creation\n",
      "PYSPARK_PYTHON=/opt/dataproc/conda/bin/python\n",
      "JAVA_HOME=/usr/lib/jvm/temurin-11-jdk-amd64\n",
      "SPARK_EXTRA_CLASSPATH=\n",
      ":: loading settings :: file = /etc/spark/conf/ivysettings.xml\n",
      "23/05/07 13:37:34 INFO tracking: Tracked invocation: austin_311\n",
      "23/05/07 13:37:34 INFO base_template: Starting Hive DDL Extraction job with parameters:\n",
      "{'hive.ddl.consider.spark.tables': False,\n",
      " 'hive.ddl.extractor.input.database': 'default',\n",
      " 'hive.ddl.extractor.output.path': 'gs://test-shubu/hiveddl/input',\n",
      " 'hive.ddl.translation.disposition': False}\n",
      "23/05/07 13:37:39 INFO HiveConf: Found configuration file null\n",
      "ivysettings.xml file not found in HIVE_HOME or HIVE_CONF_DIR,/etc/spark/conf/ivysettings.xml will be used\n",
      "23/05/07 13:37:39 INFO DependencyResolver: ivysettings.xml file not found in HIVE_HOME or HIVE_CONF_DIR,/etc/spark/conf/ivysettings.xml will be used\n",
      "23/05/07 13:37:40 INFO metastore: Trying to connect to metastore with URI thrift://shubu-hive2bqnb-m:9083\n",
      "23/05/07 13:37:40 INFO metastore: Opened a connection to metastore, current connections: 1\n",
      "23/05/07 13:37:40 INFO metastore: Connected to metastore.\n",
      "Batch [dcb1f0e2d46e47b7b0cca970756d8827] finished.\n",
      "metadata:\n",
      "  '@type': type.googleapis.com/google.cloud.dataproc.v1.BatchOperationMetadata\n",
      "  batch: projects/yadavaja-sandbox/locations/us-west1/batches/dcb1f0e2d46e47b7b0cca970756d8827\n",
      "  batchUuid: 66c4bc83-a440-402e-ac92-57b87630bfed\n",
      "  createTime: '2023-05-07T13:35:42.627546Z'\n",
      "  description: Batch\n",
      "  labels:\n",
      "    job_type: dataproc_template\n",
      "  operationType: BATCH\n",
      "name: projects/yadavaja-sandbox/regions/us-west1/operations/b147854c-cabe-3813-96fc-36274c51fd17\n",
      "\n",
      " Spark Command ran successful \n",
      "We will love to hear your feedback at: https://forms.gle/XXCJeWeCJJ9fNLQS6\n",
      "Email us at: dataproc-templates-support-external@googlegroups.com\n"
     ]
    }
   ],
   "source": [
    "!./bin/start.sh \\\n",
    "    --properties=spark.hadoop.hive.metastore.uris=$HIVE_METASTORE \\\n",
    "    -- --template=HIVEDDLEXTRACTOR \\\n",
    "    --hive.ddl.extractor.input.database=$INPUT_HIVE_DATABASE \\\n",
    "    --hive.ddl.extractor.output.path=$GCS_STAGING_PATH\n"
   ]
  },
  {
   "cell_type": "markdown",
   "id": "805e7b49-4cda-4378-a5b7-ca89cf948c4f",
   "metadata": {},
   "source": [
    "#### Step 10:\n",
    "#### Get the latest DDL GCS path\n",
    "\n",
    "HIVEDDLEXTRACTOR utility will create seperate directory for each run based on the hive database name and run time."
   ]
  },
  {
   "cell_type": "code",
   "execution_count": 11,
   "id": "76ed4d99-992a-4d2e-8d53-67055fcc60b9",
   "metadata": {
    "collapsed": true,
    "jupyter": {
     "outputs_hidden": true
    },
    "tags": []
   },
   "outputs": [
    {
     "name": "stdout",
     "output_type": "stream",
     "text": [
      "gs://test-shubu/hiveddl/input/default/05-07-2023 13.37.34/\n"
     ]
    }
   ],
   "source": [
    "result=subprocess.run(f\"gsutil ls  {DDL_INPUT_PATH}/{INPUT_HIVE_DATABASE} | sed '$!d'\", capture_output=True, shell=True, encoding=\"utf-8\")\n",
    "latest_ddl_path=str(result.stdout)[:-1]\n",
    "print(latest_ddl_path)"
   ]
  },
  {
   "cell_type": "markdown",
   "id": "c5b99e70-63dd-4a05-b55f-8c43eeb8862d",
   "metadata": {},
   "source": [
    "#### Step 12:\n",
    "#### Copy Global Typeconvert file into the input folder\n",
    "\n",
    "Refer Reamde file in the current folder for more information.\n"
   ]
  },
  {
   "cell_type": "code",
   "execution_count": 12,
   "id": "396d7af7-fb5c-4cc0-84dd-064d54cfacc6",
   "metadata": {
    "collapsed": true,
    "jupyter": {
     "outputs_hidden": true
    },
    "tags": []
   },
   "outputs": [
    {
     "name": "stdout",
     "output_type": "stream",
     "text": [
      "Copying file://../notebooks/util/global_typeconvert.config.yaml [Content-Type=application/octet-stream]...\n",
      "/ [1 files][   81.0 B/   81.0 B]                                                \n",
      "Operation completed over 1 objects/81.0 B.                                       \n"
     ]
    }
   ],
   "source": [
    "!gsutil cp ../notebooks/util/global_typeconvert.config.yaml \"$latest_ddl_path\""
   ]
  },
  {
   "cell_type": "markdown",
   "id": "d6ca5bb6-e812-4821-997c-f25d3f0043fc",
   "metadata": {},
   "source": [
    "#### Step 13:\n",
    "#### Create object name mapping\n",
    "\n",
    "Object name mapping will help us to replace HIVE database name with Bigquery Dataset in the final DDL"
   ]
  },
  {
   "cell_type": "code",
   "execution_count": 15,
   "id": "223f41c2-34ea-4be0-b4d4-49b13be80ce0",
   "metadata": {
    "collapsed": true,
    "jupyter": {
     "outputs_hidden": true
    },
    "tags": []
   },
   "outputs": [],
   "source": [
    "obj_name_mapping={\n",
    "                    \"name_map\": [{\n",
    "                      \"source\": {\n",
    "                        \"schema\": INPUT_HIVE_DATABASE,\n",
    "                                 },\n",
    "                      \"target\": {\n",
    "                        \"schema\": OUTPUT_BIGQUERY_DATASET,\n",
    "                                 }\n",
    "                                }, \n",
    "                                ]\n",
    "                  }"
   ]
  },
  {
   "cell_type": "markdown",
   "id": "eab93500-2446-4874-a5ba-925584075c0e",
   "metadata": {},
   "source": [
    "#### Step 14:\n",
    "#### Call create_migration_workflow to convert HIVE DDls to Bigquery syntax\n",
    "\n",
    "Below cell will call create_migration_workflow function to call BQ Translation API and then wait for the status to be completed.\n",
    "\n",
    "It will create the translated DDLs in \"gs://bucket_name/hiveddl/output/bq_dataset\""
   ]
  },
  {
   "cell_type": "code",
   "execution_count": 16,
   "id": "47768a89-0bed-42d2-91b1-3f46ae258434",
   "metadata": {
    "collapsed": true,
    "jupyter": {
     "outputs_hidden": true
    },
    "tags": []
   },
   "outputs": [
    {
     "name": "stdout",
     "output_type": "stream",
     "text": [
      "Created workflow:\n",
      "workflow-python-hive2bq\n",
      "Current state:\n",
      "State.RUNNING\n",
      "Running Migration Workflow\n",
      "Running Migration Workflow\n",
      "State.COMPLETED\n"
     ]
    }
   ],
   "source": [
    "import sys\n",
    "#Import required util functions\n",
    "sys.path.insert(0, '../notebooks/util')\n",
    "from utils import *\n",
    "\n",
    "#Set required vraiables to be passed to the create_migration_workflow\n",
    "gcs_input_path=latest_ddl_path\n",
    "gcs_output_path=DDL_OUTPUT_PATH+\"/\"+OUTPUT_BIGQUERY_DATASET\n",
    "project_id=get_project_id[0]\n",
    "bq_dataset=OUTPUT_BIGQUERY_DATASET\n",
    "default_database=get_project_id[0]\n",
    "source_dilect=\"hive\"\n",
    "bq_region=BQ_DATASET_REGION\n",
    "\n",
    "# Call create_migration_workflow with the require parameters\n",
    "workflow_name,workflow_state=create_migration_workflow(\n",
    "    gcs_input_path, gcs_output_path, project_id, bq_dataset,\n",
    "    default_database, source_dilect, bq_region,obj_name_mapping)\n",
    "\n",
    "#Get Worklow status\n",
    "while (str(workflow_state) == \"State.RUNNING\"):\n",
    "    print(\"Running Migration Workflow\")\n",
    "    time.sleep(5)\n",
    "    workflow_state=get_migration_workflow_status(workflow_name).state\n",
    "print(str(workflow_state))"
   ]
  },
  {
   "cell_type": "markdown",
   "id": "9533ff6d-34a0-4e8f-b268-bdc475f90e69",
   "metadata": {},
   "source": [
    "#### Step 14:\n",
    "#### Extract translated DDLs\n",
    "\n",
    "Below cell will read all the translated Bigquery DDLs"
   ]
  },
  {
   "cell_type": "code",
   "execution_count": 17,
   "id": "8e65cefb-2e92-4fd6-8666-7a57644da25b",
   "metadata": {
    "collapsed": true,
    "jupyter": {
     "outputs_hidden": true
    },
    "tags": []
   },
   "outputs": [],
   "source": [
    "\n",
    "result=subprocess.run(f\"gsutil ls  {gcs_output_path} \", capture_output=True, shell=True, encoding=\"utf-8\")\n",
    "translated_files=result.stdout.split(\"\\n\")\n",
    "all_ddls=\"\"\n",
    "for file in translated_files:\n",
    "    if \"/_SUCCESS\" not in file and \"batch_translation_report.csv\" not in file and \"consumed_name_map.json\" not in file and len(file)>0:\n",
    "        bucket_name=file.replace(\"gs://\",\"\").split(\"/\",1)[0]\n",
    "        file_path=file.replace(\"gs://\",\"\").split(\"/\",1)[1]\n",
    "        all_ddls=all_ddls+(get_gcs_file_as_string(bucket_name,file_path))"
   ]
  },
  {
   "cell_type": "markdown",
   "id": "3e4cd771-8cc3-424d-b502-28849a702724",
   "metadata": {
    "jupyter": {
     "outputs_hidden": true
    },
    "tags": []
   },
   "source": [
    "#### Step 15:\n",
    "#### Run translated ddls and create BQ partitioned and clustered tables\n",
    "\n",
    "Below cell will try to run each bigquery DDL one by one and save the status in DDL_FAIL_AUDIT_DF dataframe"
   ]
  },
  {
   "cell_type": "code",
   "execution_count": 47,
   "id": "859c3439-2dc5-4399-b5d1-2e28983ece7f",
   "metadata": {
    "collapsed": true,
    "jupyter": {
     "outputs_hidden": true
    },
    "tags": []
   },
   "outputs": [
    {
     "name": "stdout",
     "output_type": "stream",
     "text": [
      "Table Created in bigquery: hive2bq.avro_nonpartitioned\n",
      "Failed to create table: hive2bq.avro_partitioned\n",
      "409 Already Exists: Table yadavaja-sandbox:hive2bq.avro_partitioned\n",
      "\n",
      "Location: US\n",
      "Job ID: fe29a624-d581-4fc7-8287-cfc52872a956\n",
      "\n",
      "Table Created in bigquery: hive2bq.orc_nonpartitioned\n",
      "Failed to create table: hive2bq.orc_partitioned\n",
      "409 Already Exists: Table yadavaja-sandbox:hive2bq.orc_partitioned\n",
      "\n",
      "Location: US\n",
      "Job ID: 409def9b-ff08-4c4e-b2a6-a38ab7e4408a\n",
      "\n",
      "Table Created in bigquery: hive2bq.parquet_nonpartitioned\n",
      "Failed to create table: hive2bq.parquet_partitioned\n",
      "409 Already Exists: Table yadavaja-sandbox:hive2bq.parquet_partitioned\n",
      "\n",
      "Location: US\n",
      "Job ID: 2a35b828-6fdb-4662-9f70-d9ad62793c3b\n",
      "\n"
     ]
    }
   ],
   "source": [
    "DDL_FAIL_AUDIT_DICT={}\n",
    "DDL_FAIL_AUDIT_DF = pd.DataFrame(columns=[\"Source_DB_Name\",\"Source_Table_Set\",\"Target_DB_Name\",\"Target_Table_Set\",\"Job_Start_Time\",\"Job_End_Time\",\"Job_Status\"])\n",
    "for ddl in all_ddls[:-1].split(\";\\n\"):\n",
    "    tblnm=ddl.split(\"CREATE TABLE\")[1].split(\"\\n\")[0].split(\".\")[2]\n",
    "    try:\n",
    "        run_bq_query(ddl)\n",
    "        print(f\"Table Created in bigquery: {OUTPUT_BIGQUERY_DATASET}.{tblnm}\")\n",
    "    except Exception as e:\n",
    "        print(f\"Failed to create table: {OUTPUT_BIGQUERY_DATASET}.{tblnm}\")\n",
    "        print(e)\n",
    "        DDL_FAIL_AUDIT_DICT[\"Source_DB_Name\"]=INPUT_HIVE_DATABASE\n",
    "        DDL_FAIL_AUDIT_DICT[\"Source_Table_Set\"]=tblnm\n",
    "        DDL_FAIL_AUDIT_DICT[\"Target_DB_Name\"]=OUTPUT_BIGQUERY_DATASET\n",
    "        DDL_FAIL_AUDIT_DICT[\"Target_Table_Set\"]=tblnm\n",
    "        DDL_FAIL_AUDIT_DICT[\"Job_Start_Time\"]=str(datetime.now())\n",
    "        DDL_FAIL_AUDIT_DICT[\"Job_Status\"]=f\"FAIL REASON: {e}\"\n",
    "        DDL_FAIL_AUDIT_DICT[\"Job_End_Time\"]=str(datetime.now())\n",
    "        DDL_FAIL_AUDIT_DF=DDL_FAIL_AUDIT_DF.append(DDL_FAIL_AUDIT_DICT, ignore_index = True)\n"
   ]
  },
  {
   "cell_type": "markdown",
   "id": "d90ab6ca-c378-4367-8fca-e5b62a28876d",
   "metadata": {},
   "source": [
    "#### Step 16:\n",
    "#### Remove failed tables from the final TABLE_LIST\n"
   ]
  },
  {
   "cell_type": "code",
   "execution_count": 50,
   "id": "8affd005-ae5e-4950-8ec4-673c87219aa4",
   "metadata": {
    "collapsed": true,
    "jupyter": {
     "outputs_hidden": true
    },
    "tags": []
   },
   "outputs": [],
   "source": [
    "import copy\n",
    "FAILED_DDL_TBLS=DDL_FAIL_AUDIT_DF[['Target_Table_Set']].values.ravel().tolist()\n",
    "TABLE_LIST_COPY=copy.deepcopy(TABLE_LIST)\n",
    "for element in TABLE_LIST_COPY:\n",
    "    if element in FAILED_DDL_TBLS:\n",
    "        TABLE_LIST.remove(element)\n"
   ]
  },
  {
   "cell_type": "markdown",
   "id": "0dbaf266-91a0-46e2-8a88-b594b9301c83",
   "metadata": {
    "pycharm": {
     "name": "#%% md\n"
    }
   },
   "source": [
    "\n",
    "#### Step 17:\n",
    "\n",
    "Split Hive Tables list based on MAX_PARALLELISM value provided by the user."
   ]
  },
  {
   "cell_type": "code",
   "execution_count": 52,
   "id": "6b170e58-7acf-4aae-9619-2361eef0ed12",
   "metadata": {
    "collapsed": true,
    "jupyter": {
     "outputs_hidden": true
    },
    "pycharm": {
     "name": "#%%\n"
    },
    "tags": []
   },
   "outputs": [
    {
     "name": "stdout",
     "output_type": "stream",
     "text": [
      "List of tables for execution : \n",
      "[['avro_nonpartitioned', 'orc_nonpartitioned', 'parquet_nonpartitioned']]\n"
     ]
    }
   ],
   "source": [
    "COMPLETE_LIST = copy.deepcopy(TABLE_LIST)\n",
    "PARALLEL_JOBS = len(TABLE_LIST)//MAX_PARALLELISM\n",
    "JOB_LIST = []\n",
    "while len(COMPLETE_LIST) > 0:\n",
    "    SUB_LIST = []\n",
    "    for i in range(MAX_PARALLELISM):\n",
    "        if len(COMPLETE_LIST)>0 :\n",
    "            SUB_LIST.append(COMPLETE_LIST[0])\n",
    "            COMPLETE_LIST.pop(0)\n",
    "        else:\n",
    "            break\n",
    "    JOB_LIST.append(SUB_LIST)\n",
    "print(\"List of tables for execution : \")\n",
    "print(JOB_LIST)"
   ]
  },
  {
   "cell_type": "markdown",
   "id": "e7d5a0b9-d2b2-4072-aa4f-3748609f7cdc",
   "metadata": {
    "pycharm": {
     "name": "#%% md\n"
    }
   },
   "source": [
    "#### Step 18:\n",
    "\n",
    "Set Dataproc Template Properties"
   ]
  },
  {
   "cell_type": "code",
   "execution_count": 53,
   "id": "73197165-0ea0-4732-841d-8ba4bcd8a94d",
   "metadata": {
    "collapsed": true,
    "jupyter": {
     "outputs_hidden": true
    },
    "pycharm": {
     "name": "#%%\n"
    },
    "tags": []
   },
   "outputs": [],
   "source": [
    "PIPELINE_ROOT = GCS_STAGING_LOCATION + \"/pipeline_root/dataproc_pyspark\"\n",
    "MAIN_PYTHON_FILE = GCS_STAGING_LOCATION + \"/main.py\"\n",
    "JARS = [\"gs://spark-lib/bigquery/spark-bigquery-latest_2.12.jar\"]\n",
    "PYTHON_FILE_URIS = [GCS_STAGING_LOCATION + \"/dist/dataproc_templates_distribution.egg\"]"
   ]
  },
  {
   "cell_type": "markdown",
   "id": "332168ba-6e69-4f6e-aa03-38b4965b5304",
   "metadata": {
    "pycharm": {
     "name": "#%% md\n"
    },
    "tags": []
   },
   "source": [
    "#### Step 19:\n",
    "#### Build pipeline and run Dataproc Template on Vertex AI Pipelines to migrate Hive tables to BigQuery\n",
    "\n",
    "For this, make sure that the service account used to run the notebook has the following roles:\n",
    " - roles/dataproc.editor\n",
    " - roles/dataproc.worker"
   ]
  },
  {
   "cell_type": "code",
   "execution_count": 54,
   "id": "095c13bf-c121-4465-88fc-04778ef35a36",
   "metadata": {
    "collapsed": true,
    "jupyter": {
     "outputs_hidden": true
    },
    "pycharm": {
     "name": "#%%\n"
    },
    "tags": []
   },
   "outputs": [],
   "source": [
    "runtime_prop={}\n",
    "runtime_prop['spark.hadoop.hive.metastore.uris']=HIVE_METASTORE\n",
    "runtime_prop['mapreduce.fileoutputcommitter.marksuccessfuljobs'] = \"false\"\n",
    "\n",
    "def migrate_hive(EXECUTION_LIST):\n",
    "    EXECUTION_LIST = EXECUTION_LIST\n",
    "    aiplatform.init(project=PROJECT_ID, staging_bucket=GCS_STAGING_LOCATION)\n",
    "\n",
    "    @dsl.pipeline(\n",
    "        name=\"hive-to-bq-pyspark\",\n",
    "        description=\"Pipeline to migrate tables from hive to bq\",\n",
    "    )\n",
    "    def pipeline(\n",
    "        project_id: str = PROJECT_ID,\n",
    "        location: str = REGION,\n",
    "        main_python_file_uri: str = MAIN_PYTHON_FILE,\n",
    "        python_file_uris: list = PYTHON_FILE_URIS,\n",
    "        jar_file_uris: list = JARS,\n",
    "        subnetwork_uri: str = SUBNET\n",
    "    ):\n",
    "        for table in EXECUTION_LIST:\n",
    "            BATCH_ID = \"hive2bq-{}-{}\".format(table,datetime.now().strftime(\"%s\")).replace('_','-')\n",
    "            TEMPLATE_SPARK_ARGS = [\n",
    "                                    \"--template=HIVETOBIGQUERY\",\n",
    "                                    \"--hive.bigquery.input.database={}\".format(INPUT_HIVE_DATABASE),\n",
    "                                    \"--hive.bigquery.input.table={}\".format(table),\n",
    "                                    \"--hive.bigquery.output.table={}\".format(table),\n",
    "                                    \"--hive.bigquery.output.dataset={}\".format(OUTPUT_BIGQUERY_DATASET),\n",
    "                                    \"--hive.bigquery.output.mode={}\".format(HIVE_OUTPUT_MODE),\n",
    "                                    \"--hive.bigquery.temp.bucket.name={}\".format(TEMP_BUCKET)                                    ]\n",
    "            _ = DataprocPySparkBatchOp(\n",
    "                project=project_id,\n",
    "                location=location,\n",
    "                batch_id=BATCH_ID,\n",
    "                main_python_file_uri=main_python_file_uri,\n",
    "                python_file_uris=python_file_uris,\n",
    "                jar_file_uris=jar_file_uris,\n",
    "                subnetwork_uri=subnetwork_uri,\n",
    "                runtime_config_properties=runtime_prop,\n",
    "                runtime_config_version=\"1.1\", # issue 665\n",
    "                args=TEMPLATE_SPARK_ARGS,\n",
    "            )\n",
    "            time.sleep(5)\n",
    "\n",
    "    compiler.Compiler().compile(pipeline_func=pipeline, package_path=\"pipeline.json\")\n",
    "\n",
    "    pipeline = aiplatform.PipelineJob(\n",
    "            display_name=\"pipeline\",\n",
    "            template_path=\"pipeline.json\",\n",
    "            pipeline_root=PIPELINE_ROOT,\n",
    "            enable_caching=False,\n",
    "            )\n",
    "    pipeline.run()"
   ]
  },
  {
   "cell_type": "markdown",
   "id": "a7ba4453-ddf9-4f35-901e-ab20433ae7fa",
   "metadata": {
    "pycharm": {
     "name": "#%% md\n"
    }
   },
   "source": [
    "#### Step 20:\n",
    "\n",
    "Run Dataproc Batch Template based on Hive Tables list calculated in Step 8.\n",
    "\n",
    "The below cell will call function migrate_hive to migrate tables using dataproc serverless batch job and also add an entry in Audit Table for each Table Set."
   ]
  },
  {
   "cell_type": "code",
   "execution_count": 55,
   "id": "4580bcc2-9302-48dc-8a47-7ccac603fbd7",
   "metadata": {
    "collapsed": true,
    "jupyter": {
     "outputs_hidden": true
    },
    "pycharm": {
     "name": "#%%\n"
    },
    "tags": []
   },
   "outputs": [
    {
     "name": "stdout",
     "output_type": "stream",
     "text": [
      "\n",
      "\n",
      "Loading Table Set: ['avro_nonpartitioned', 'orc_nonpartitioned', 'parquet_nonpartitioned']\n"
     ]
    },
    {
     "name": "stderr",
     "output_type": "stream",
     "text": [
      "/home/jupyter/.local/lib/python3.7/site-packages/kfp/v2/compiler/compiler.py:1293: FutureWarning: APIs imported from the v1 namespace (e.g. kfp.dsl, kfp.components, etc) will not be supported by the v2 compiler since v2.0.0\n",
      "  category=FutureWarning,\n"
     ]
    },
    {
     "name": "stdout",
     "output_type": "stream",
     "text": [
      "Creating PipelineJob\n"
     ]
    },
    {
     "name": "stderr",
     "output_type": "stream",
     "text": [
      "INFO:google.cloud.aiplatform.pipeline_jobs:Creating PipelineJob\n"
     ]
    },
    {
     "name": "stdout",
     "output_type": "stream",
     "text": [
      "PipelineJob created. Resource name: projects/617357862702/locations/us-central1/pipelineJobs/hive-to-bq-pyspark-20230507135738\n"
     ]
    },
    {
     "name": "stderr",
     "output_type": "stream",
     "text": [
      "INFO:google.cloud.aiplatform.pipeline_jobs:PipelineJob created. Resource name: projects/617357862702/locations/us-central1/pipelineJobs/hive-to-bq-pyspark-20230507135738\n"
     ]
    },
    {
     "name": "stdout",
     "output_type": "stream",
     "text": [
      "To use this PipelineJob in another session:\n"
     ]
    },
    {
     "name": "stderr",
     "output_type": "stream",
     "text": [
      "INFO:google.cloud.aiplatform.pipeline_jobs:To use this PipelineJob in another session:\n"
     ]
    },
    {
     "name": "stdout",
     "output_type": "stream",
     "text": [
      "pipeline_job = aiplatform.PipelineJob.get('projects/617357862702/locations/us-central1/pipelineJobs/hive-to-bq-pyspark-20230507135738')\n"
     ]
    },
    {
     "name": "stderr",
     "output_type": "stream",
     "text": [
      "INFO:google.cloud.aiplatform.pipeline_jobs:pipeline_job = aiplatform.PipelineJob.get('projects/617357862702/locations/us-central1/pipelineJobs/hive-to-bq-pyspark-20230507135738')\n"
     ]
    },
    {
     "name": "stdout",
     "output_type": "stream",
     "text": [
      "View Pipeline Job:\n",
      "https://console.cloud.google.com/vertex-ai/locations/us-central1/pipelines/runs/hive-to-bq-pyspark-20230507135738?project=617357862702\n"
     ]
    },
    {
     "name": "stderr",
     "output_type": "stream",
     "text": [
      "INFO:google.cloud.aiplatform.pipeline_jobs:View Pipeline Job:\n",
      "https://console.cloud.google.com/vertex-ai/locations/us-central1/pipelines/runs/hive-to-bq-pyspark-20230507135738?project=617357862702\n"
     ]
    },
    {
     "name": "stdout",
     "output_type": "stream",
     "text": [
      "PipelineJob projects/617357862702/locations/us-central1/pipelineJobs/hive-to-bq-pyspark-20230507135738 current state:\n",
      "PipelineState.PIPELINE_STATE_RUNNING\n"
     ]
    },
    {
     "name": "stderr",
     "output_type": "stream",
     "text": [
      "INFO:google.cloud.aiplatform.pipeline_jobs:PipelineJob projects/617357862702/locations/us-central1/pipelineJobs/hive-to-bq-pyspark-20230507135738 current state:\n",
      "PipelineState.PIPELINE_STATE_RUNNING\n"
     ]
    },
    {
     "name": "stdout",
     "output_type": "stream",
     "text": [
      "PipelineJob projects/617357862702/locations/us-central1/pipelineJobs/hive-to-bq-pyspark-20230507135738 current state:\n",
      "PipelineState.PIPELINE_STATE_RUNNING\n"
     ]
    },
    {
     "name": "stderr",
     "output_type": "stream",
     "text": [
      "INFO:google.cloud.aiplatform.pipeline_jobs:PipelineJob projects/617357862702/locations/us-central1/pipelineJobs/hive-to-bq-pyspark-20230507135738 current state:\n",
      "PipelineState.PIPELINE_STATE_RUNNING\n"
     ]
    },
    {
     "name": "stdout",
     "output_type": "stream",
     "text": [
      "PipelineJob projects/617357862702/locations/us-central1/pipelineJobs/hive-to-bq-pyspark-20230507135738 current state:\n",
      "PipelineState.PIPELINE_STATE_RUNNING\n"
     ]
    },
    {
     "name": "stderr",
     "output_type": "stream",
     "text": [
      "INFO:google.cloud.aiplatform.pipeline_jobs:PipelineJob projects/617357862702/locations/us-central1/pipelineJobs/hive-to-bq-pyspark-20230507135738 current state:\n",
      "PipelineState.PIPELINE_STATE_RUNNING\n"
     ]
    },
    {
     "name": "stdout",
     "output_type": "stream",
     "text": [
      "PipelineJob projects/617357862702/locations/us-central1/pipelineJobs/hive-to-bq-pyspark-20230507135738 current state:\n",
      "PipelineState.PIPELINE_STATE_RUNNING\n"
     ]
    },
    {
     "name": "stderr",
     "output_type": "stream",
     "text": [
      "INFO:google.cloud.aiplatform.pipeline_jobs:PipelineJob projects/617357862702/locations/us-central1/pipelineJobs/hive-to-bq-pyspark-20230507135738 current state:\n",
      "PipelineState.PIPELINE_STATE_RUNNING\n"
     ]
    },
    {
     "name": "stdout",
     "output_type": "stream",
     "text": [
      "PipelineJob projects/617357862702/locations/us-central1/pipelineJobs/hive-to-bq-pyspark-20230507135738 current state:\n",
      "PipelineState.PIPELINE_STATE_RUNNING\n"
     ]
    },
    {
     "name": "stderr",
     "output_type": "stream",
     "text": [
      "INFO:google.cloud.aiplatform.pipeline_jobs:PipelineJob projects/617357862702/locations/us-central1/pipelineJobs/hive-to-bq-pyspark-20230507135738 current state:\n",
      "PipelineState.PIPELINE_STATE_RUNNING\n"
     ]
    },
    {
     "name": "stdout",
     "output_type": "stream",
     "text": [
      "PipelineJob projects/617357862702/locations/us-central1/pipelineJobs/hive-to-bq-pyspark-20230507135738 current state:\n",
      "PipelineState.PIPELINE_STATE_RUNNING\n"
     ]
    },
    {
     "name": "stderr",
     "output_type": "stream",
     "text": [
      "INFO:google.cloud.aiplatform.pipeline_jobs:PipelineJob projects/617357862702/locations/us-central1/pipelineJobs/hive-to-bq-pyspark-20230507135738 current state:\n",
      "PipelineState.PIPELINE_STATE_RUNNING\n"
     ]
    },
    {
     "name": "stdout",
     "output_type": "stream",
     "text": [
      "PipelineJob run completed. Resource name: projects/617357862702/locations/us-central1/pipelineJobs/hive-to-bq-pyspark-20230507135738\n"
     ]
    },
    {
     "name": "stderr",
     "output_type": "stream",
     "text": [
      "INFO:google.cloud.aiplatform.pipeline_jobs:PipelineJob run completed. Resource name: projects/617357862702/locations/us-central1/pipelineJobs/hive-to-bq-pyspark-20230507135738\n"
     ]
    },
    {
     "name": "stdout",
     "output_type": "stream",
     "text": [
      "\n",
      "\n",
      "Loaded Table Set: ['avro_nonpartitioned', 'orc_nonpartitioned', 'parquet_nonpartitioned']\n",
      "  Source_DB_Name                                   Source_Table_Set  \\\n",
      "0        default  avro_nonpartitioned|orc_nonpartitioned|parquet...   \n",
      "0        default                                   avro_partitioned   \n",
      "1        default                                    orc_partitioned   \n",
      "2        default                                parquet_partitioned   \n",
      "\n",
      "  Target_DB_Name                                   Target_Table_Set  \\\n",
      "0        hive2bq  avro_nonpartitioned|orc_nonpartitioned|parquet...   \n",
      "0        hive2bq                                   avro_partitioned   \n",
      "1        hive2bq                                    orc_partitioned   \n",
      "2        hive2bq                                parquet_partitioned   \n",
      "\n",
      "               Job_Start_Time                Job_End_Time  \\\n",
      "0  2023-05-07 13:57:23.388685  2023-05-07 14:04:19.979226   \n",
      "0  2023-05-07 13:56:18.495603  2023-05-07 13:56:18.495638   \n",
      "1  2023-05-07 13:56:19.978333  2023-05-07 13:56:19.978366   \n",
      "2  2023-05-07 13:56:21.415068  2023-05-07 13:56:21.415108   \n",
      "\n",
      "                                          Job_Status  \n",
      "0                                               PASS  \n",
      "0  FAIL REASON: 409 Already Exists: Table yadavaj...  \n",
      "1  FAIL REASON: 409 Already Exists: Table yadavaj...  \n",
      "2  FAIL REASON: 409 Already Exists: Table yadavaj...  \n"
     ]
    }
   ],
   "source": [
    "AUDIT_DICT={}\n",
    "AUDIT_DF = pd.DataFrame(columns=[\"Source_DB_Name\",\"Source_Table_Set\",\"Target_DB_Name\",\"Target_Table_Set\",\"Job_Start_Time\",\"Job_End_Time\",\"Job_Status\"])\n",
    " \n",
    "for execution_list in JOB_LIST:\n",
    "    print(\"\\n\\nLoading Table Set: \"+str(execution_list))\n",
    "    AUDIT_DICT[\"Source_DB_Name\"]=INPUT_HIVE_DATABASE\n",
    "    AUDIT_DICT[\"Source_Table_Set\"]='|'.join(execution_list)\n",
    "    AUDIT_DICT[\"Target_DB_Name\"]=OUTPUT_BIGQUERY_DATASET\n",
    "    AUDIT_DICT[\"Target_Table_Set\"]='|'.join(execution_list)\n",
    "    AUDIT_DICT[\"Job_Start_Time\"]=str(datetime.now())\n",
    "    try:\n",
    "        migrate_hive(execution_list)\n",
    "    except Exception:\n",
    "        AUDIT_DICT[\"Job_Status\"]=\"FAIL\"\n",
    "        print(\"\\n\\nSome Error Occured while loading Table Set: \"+str(execution_list))\n",
    "    else:\n",
    "        AUDIT_DICT[\"Job_Status\"]=\"PASS\"\n",
    "        print(\"\\n\\nLoaded Table Set: \"+str(execution_list))\n",
    "\n",
    "    AUDIT_DICT[\"Job_End_Time\"]=str(datetime.now())\n",
    "    AUDIT_DF=AUDIT_DF.append(AUDIT_DICT, ignore_index = True)\n",
    "\n",
    "AUDIT_DF_COMBINED = pd.concat([AUDIT_DF, DDL_FAIL_AUDIT_DF], axis=0)\n",
    "\n",
    "if AUDIT_DF_COMBINED.empty:\n",
    "    print(\"Audit Dataframe is Empty\")\n",
    "else:\n",
    "    print(AUDIT_DF_COMBINED)\n",
    "    AUDIT_DF_COMBINED.to_csv(\"gs://\"+TEMP_BUCKET+\"/audit/audit_file_{}.csv\".format(str(datetime.now())),index=False,header = False)"
   ]
  }
 ],
 "metadata": {
  "environment": {
   "kernel": "python3",
   "name": "common-cpu.m107",
   "type": "gcloud",
   "uri": "gcr.io/deeplearning-platform-release/base-cpu:m107"
  },
  "kernelspec": {
   "display_name": "Python 3",
   "language": "python",
   "name": "python3"
  },
  "language_info": {
   "codemirror_mode": {
    "name": "ipython",
    "version": 3
   },
   "file_extension": ".py",
   "mimetype": "text/x-python",
   "name": "python",
   "nbconvert_exporter": "python",
   "pygments_lexer": "ipython3",
   "version": "3.7.12"
  },
  "vscode": {
   "interpreter": {
    "hash": "b0fa6594d8f4cbf19f97940f81e996739fb7646882a419484c72d19e05852a7e"
   }
  }
 },
 "nbformat": 4,
 "nbformat_minor": 5
}
